{
 "cells": [
  {
   "cell_type": "markdown",
   "metadata": {},
   "source": [
    "# Приоритизация гиотез и А/В тестирование и для интернет-магазина."
   ]
  },
  {
   "cell_type": "markdown",
   "metadata": {},
   "source": [
    "## Описание проекта\n",
    "\n",
    "Необходимо приоритизировать гипотезы для увеличения выручки крупного интернет-магазина, запустить A/B-тест и проанализировать его результаты. "
   ]
  },
  {
   "cell_type": "markdown",
   "metadata": {},
   "source": [
    "## Цель проекта\n",
    "\n",
    "Определение возможных путей повышения выручки интернет-магазина на основании приоретизации гипотез и A/B-тестирования"
   ]
  },
  {
   "cell_type": "markdown",
   "metadata": {},
   "source": [
    "## План работы\n",
    "1. Подготовка и очистка данных\n",
    "2. Приоретизация гипотез по фреймворкам ICE и RICE\n",
    "3. Анализ A/B-теста:\n",
    "-  Подготовка к проведению анализа,\n",
    "- анализ кумулятивного среднего чека по группам и количества заказов по пользователям\n",
    "- расчет перцентилей количества заказов на пользователя и их стоимости, \n",
    "- расчет статистической значимости различий в среднем количестве заказов на посетителя между группами по «сырым» данным,\n",
    "- расчет статистической значимости различий в среднем количестве заказов на посетителя между группами по «очищенным» данным.\n",
    "- Вывод по результатам А/В теста\n"
   ]
  },
  {
   "cell_type": "markdown",
   "metadata": {},
   "source": [
    "### Импорт библиотек:"
   ]
  },
  {
   "cell_type": "code",
   "execution_count": 1,
   "metadata": {},
   "outputs": [],
   "source": [
    "import pandas as pd\n",
    "import datetime as dt\n",
    "import numpy as np\n",
    "import matplotlib.pyplot as plt\n",
    "from pandas.plotting import register_matplotlib_converters\n",
    "import warnings\n",
    "# конвертеры, которые позволяют использовать типы pandas в matplotlib  \n",
    "register_matplotlib_converters()\n",
    "import scipy.stats as stats\n",
    "from collections import defaultdict"
   ]
  },
  {
   "cell_type": "markdown",
   "metadata": {},
   "source": [
    "### Загрузка, описание и подготовка данных"
   ]
  },
  {
   "cell_type": "code",
   "execution_count": 2,
   "metadata": {},
   "outputs": [],
   "source": [
    "try:\n",
    "    hyp = pd.read_csv('/Users/a/Downloads/hypothesis.csv')\n",
    "    orders = pd.read_csv('/Users/a/Downloads/orders.csv')\n",
    "    visitors = pd.read_csv('/Users/a/Downloads/visitors.csv')\n",
    "\n",
    "except:\n",
    "    hyp = pd.read_csv('/datasets/hypothesis.csv')\n",
    "    orders = pd.read_csv('/datasets/orders.csv')\n",
    "    visitors = pd.read_csv('/datasets/visitors.csv')"
   ]
  },
  {
   "cell_type": "code",
   "execution_count": 3,
   "metadata": {},
   "outputs": [
    {
     "data": {
      "text/html": [
       "<div>\n",
       "<style scoped>\n",
       "    .dataframe tbody tr th:only-of-type {\n",
       "        vertical-align: middle;\n",
       "    }\n",
       "\n",
       "    .dataframe tbody tr th {\n",
       "        vertical-align: top;\n",
       "    }\n",
       "\n",
       "    .dataframe thead th {\n",
       "        text-align: right;\n",
       "    }\n",
       "</style>\n",
       "<table border=\"1\" class=\"dataframe\">\n",
       "  <thead>\n",
       "    <tr style=\"text-align: right;\">\n",
       "      <th></th>\n",
       "      <th>Hypothesis</th>\n",
       "      <th>Reach</th>\n",
       "      <th>Impact</th>\n",
       "      <th>Confidence</th>\n",
       "      <th>Efforts</th>\n",
       "    </tr>\n",
       "  </thead>\n",
       "  <tbody>\n",
       "    <tr>\n",
       "      <th>0</th>\n",
       "      <td>Добавить два новых канала привлечения трафика,...</td>\n",
       "      <td>3</td>\n",
       "      <td>10</td>\n",
       "      <td>8</td>\n",
       "      <td>6</td>\n",
       "    </tr>\n",
       "    <tr>\n",
       "      <th>1</th>\n",
       "      <td>Запустить собственную службу доставки, что сок...</td>\n",
       "      <td>2</td>\n",
       "      <td>5</td>\n",
       "      <td>4</td>\n",
       "      <td>10</td>\n",
       "    </tr>\n",
       "    <tr>\n",
       "      <th>2</th>\n",
       "      <td>Добавить блоки рекомендаций товаров на сайт ин...</td>\n",
       "      <td>8</td>\n",
       "      <td>3</td>\n",
       "      <td>7</td>\n",
       "      <td>3</td>\n",
       "    </tr>\n",
       "    <tr>\n",
       "      <th>3</th>\n",
       "      <td>Изменить структура категорий, что увеличит кон...</td>\n",
       "      <td>8</td>\n",
       "      <td>3</td>\n",
       "      <td>3</td>\n",
       "      <td>8</td>\n",
       "    </tr>\n",
       "    <tr>\n",
       "      <th>4</th>\n",
       "      <td>Изменить цвет фона главной страницы, чтобы уве...</td>\n",
       "      <td>3</td>\n",
       "      <td>1</td>\n",
       "      <td>1</td>\n",
       "      <td>1</td>\n",
       "    </tr>\n",
       "  </tbody>\n",
       "</table>\n",
       "</div>"
      ],
      "text/plain": [
       "                                          Hypothesis  Reach  Impact  \\\n",
       "0  Добавить два новых канала привлечения трафика,...      3      10   \n",
       "1  Запустить собственную службу доставки, что сок...      2       5   \n",
       "2  Добавить блоки рекомендаций товаров на сайт ин...      8       3   \n",
       "3  Изменить структура категорий, что увеличит кон...      8       3   \n",
       "4  Изменить цвет фона главной страницы, чтобы уве...      3       1   \n",
       "\n",
       "   Confidence  Efforts  \n",
       "0           8        6  \n",
       "1           4       10  \n",
       "2           7        3  \n",
       "3           3        8  \n",
       "4           1        1  "
      ]
     },
     "execution_count": 3,
     "metadata": {},
     "output_type": "execute_result"
    }
   ],
   "source": [
    "hyp.head()"
   ]
  },
  {
   "cell_type": "markdown",
   "metadata": {},
   "source": [
    "Описание данных:\n",
    "- Hypothesis — краткое описание гипотезы;\n",
    "- Reach — охват пользователей по 10-балльной шкале;\n",
    "- Impact — влияние на пользователей по 10-балльной шкале;\n",
    "- Confidence — уверенность в гипотезе по 10-балльной шкале;\n",
    "- Efforts — затраты ресурсов на проверку гипотезы по 10-балльной шкале. Чем больше значение Efforts, тем дороже проверка гипотезы."
   ]
  },
  {
   "cell_type": "code",
   "execution_count": 4,
   "metadata": {},
   "outputs": [
    {
     "data": {
      "text/html": [
       "<div>\n",
       "<style scoped>\n",
       "    .dataframe tbody tr th:only-of-type {\n",
       "        vertical-align: middle;\n",
       "    }\n",
       "\n",
       "    .dataframe tbody tr th {\n",
       "        vertical-align: top;\n",
       "    }\n",
       "\n",
       "    .dataframe thead th {\n",
       "        text-align: right;\n",
       "    }\n",
       "</style>\n",
       "<table border=\"1\" class=\"dataframe\">\n",
       "  <thead>\n",
       "    <tr style=\"text-align: right;\">\n",
       "      <th></th>\n",
       "      <th>transactionId</th>\n",
       "      <th>visitorId</th>\n",
       "      <th>date</th>\n",
       "      <th>revenue</th>\n",
       "      <th>group</th>\n",
       "    </tr>\n",
       "  </thead>\n",
       "  <tbody>\n",
       "    <tr>\n",
       "      <th>0</th>\n",
       "      <td>3667963787</td>\n",
       "      <td>3312258926</td>\n",
       "      <td>2019-08-15</td>\n",
       "      <td>1650</td>\n",
       "      <td>B</td>\n",
       "    </tr>\n",
       "    <tr>\n",
       "      <th>1</th>\n",
       "      <td>2804400009</td>\n",
       "      <td>3642806036</td>\n",
       "      <td>2019-08-15</td>\n",
       "      <td>730</td>\n",
       "      <td>B</td>\n",
       "    </tr>\n",
       "    <tr>\n",
       "      <th>2</th>\n",
       "      <td>2961555356</td>\n",
       "      <td>4069496402</td>\n",
       "      <td>2019-08-15</td>\n",
       "      <td>400</td>\n",
       "      <td>A</td>\n",
       "    </tr>\n",
       "    <tr>\n",
       "      <th>3</th>\n",
       "      <td>3797467345</td>\n",
       "      <td>1196621759</td>\n",
       "      <td>2019-08-15</td>\n",
       "      <td>9759</td>\n",
       "      <td>B</td>\n",
       "    </tr>\n",
       "    <tr>\n",
       "      <th>4</th>\n",
       "      <td>2282983706</td>\n",
       "      <td>2322279887</td>\n",
       "      <td>2019-08-15</td>\n",
       "      <td>2308</td>\n",
       "      <td>B</td>\n",
       "    </tr>\n",
       "  </tbody>\n",
       "</table>\n",
       "</div>"
      ],
      "text/plain": [
       "   transactionId   visitorId        date  revenue group\n",
       "0     3667963787  3312258926  2019-08-15     1650     B\n",
       "1     2804400009  3642806036  2019-08-15      730     B\n",
       "2     2961555356  4069496402  2019-08-15      400     A\n",
       "3     3797467345  1196621759  2019-08-15     9759     B\n",
       "4     2282983706  2322279887  2019-08-15     2308     B"
      ]
     },
     "execution_count": 4,
     "metadata": {},
     "output_type": "execute_result"
    }
   ],
   "source": [
    "orders.head()"
   ]
  },
  {
   "cell_type": "markdown",
   "metadata": {},
   "source": [
    "Описание данных:\n",
    "- transactionId — идентификатор заказа;\n",
    "- visitorId — идентификатор пользователя, совершившего заказ;\n",
    "- date — дата, когда был совершён заказ;\n",
    "- revenue — выручка заказа;\n",
    "- group — группа A/B-теста, в которую попал заказ."
   ]
  },
  {
   "cell_type": "markdown",
   "metadata": {},
   "source": [
    "#### Проверка на дубликаты:"
   ]
  },
  {
   "cell_type": "code",
   "execution_count": 5,
   "metadata": {},
   "outputs": [
    {
     "data": {
      "text/html": [
       "<div>\n",
       "<style scoped>\n",
       "    .dataframe tbody tr th:only-of-type {\n",
       "        vertical-align: middle;\n",
       "    }\n",
       "\n",
       "    .dataframe tbody tr th {\n",
       "        vertical-align: top;\n",
       "    }\n",
       "\n",
       "    .dataframe thead th {\n",
       "        text-align: right;\n",
       "    }\n",
       "</style>\n",
       "<table border=\"1\" class=\"dataframe\">\n",
       "  <thead>\n",
       "    <tr style=\"text-align: right;\">\n",
       "      <th></th>\n",
       "      <th>transactionId</th>\n",
       "      <th>visitorId</th>\n",
       "      <th>date</th>\n",
       "      <th>revenue</th>\n",
       "      <th>group</th>\n",
       "    </tr>\n",
       "  </thead>\n",
       "  <tbody>\n",
       "  </tbody>\n",
       "</table>\n",
       "</div>"
      ],
      "text/plain": [
       "Empty DataFrame\n",
       "Columns: [transactionId, visitorId, date, revenue, group]\n",
       "Index: []"
      ]
     },
     "execution_count": 5,
     "metadata": {},
     "output_type": "execute_result"
    }
   ],
   "source": [
    "orders[orders.duplicated()]"
   ]
  },
  {
   "cell_type": "code",
   "execution_count": 6,
   "metadata": {},
   "outputs": [
    {
     "data": {
      "text/html": [
       "<div>\n",
       "<style scoped>\n",
       "    .dataframe tbody tr th:only-of-type {\n",
       "        vertical-align: middle;\n",
       "    }\n",
       "\n",
       "    .dataframe tbody tr th {\n",
       "        vertical-align: top;\n",
       "    }\n",
       "\n",
       "    .dataframe thead th {\n",
       "        text-align: right;\n",
       "    }\n",
       "</style>\n",
       "<table border=\"1\" class=\"dataframe\">\n",
       "  <thead>\n",
       "    <tr style=\"text-align: right;\">\n",
       "      <th></th>\n",
       "      <th>transactionId</th>\n",
       "      <th>visitorId</th>\n",
       "      <th>date</th>\n",
       "      <th>revenue</th>\n",
       "      <th>group</th>\n",
       "    </tr>\n",
       "  </thead>\n",
       "  <tbody>\n",
       "  </tbody>\n",
       "</table>\n",
       "</div>"
      ],
      "text/plain": [
       "Empty DataFrame\n",
       "Columns: [transactionId, visitorId, date, revenue, group]\n",
       "Index: []"
      ]
     },
     "execution_count": 6,
     "metadata": {},
     "output_type": "execute_result"
    }
   ],
   "source": [
    "orders[orders.duplicated(['transactionId'])]"
   ]
  },
  {
   "cell_type": "markdown",
   "metadata": {},
   "source": [
    "Полных дубликатов не обнаружено, проверим возможность \"подглядывания\", т.е. проверим, есть ли пользователи, попали в обе группы одновременно"
   ]
  },
  {
   "cell_type": "code",
   "execution_count": 7,
   "metadata": {},
   "outputs": [],
   "source": [
    "# выделим клиентов, попавших более чем в одну группу\n",
    "double_clients = orders.groupby('visitorId').agg({'group' : 'nunique'}).reset_index().query('group>1')['visitorId']\n",
    "\n",
    "# отфильтруем, удалив клиентов, попавших более чем в одну группу, из таблицы orders\n",
    "orders_new = orders.query('visitorId not in @double_clients')\n",
    "# таблицу visitors оставляем без изменений"
   ]
  },
  {
   "cell_type": "markdown",
   "metadata": {},
   "source": [
    "Обработка закончена. Датафрейм orders почищен от заранее некорректных данных."
   ]
  },
  {
   "cell_type": "code",
   "execution_count": 8,
   "metadata": {},
   "outputs": [
    {
     "name": "stdout",
     "output_type": "stream",
     "text": [
      "\n",
      "Начальная дата 2019-08-01, конечная дата 2019-08-31\n",
      "\n",
      "<class 'pandas.core.frame.DataFrame'>\n",
      "Int64Index: 1016 entries, 0 to 1196\n",
      "Data columns (total 5 columns):\n",
      " #   Column         Non-Null Count  Dtype         \n",
      "---  ------         --------------  -----         \n",
      " 0   transactionId  1016 non-null   int64         \n",
      " 1   visitorId      1016 non-null   int64         \n",
      " 2   date           1016 non-null   datetime64[ns]\n",
      " 3   revenue        1016 non-null   int64         \n",
      " 4   group          1016 non-null   object        \n",
      "dtypes: datetime64[ns](1), int64(3), object(1)\n",
      "memory usage: 47.6+ KB\n"
     ]
    },
    {
     "name": "stderr",
     "output_type": "stream",
     "text": [
      "/tmp/ipykernel_130/198434008.py:2: SettingWithCopyWarning: \n",
      "A value is trying to be set on a copy of a slice from a DataFrame.\n",
      "Try using .loc[row_indexer,col_indexer] = value instead\n",
      "\n",
      "See the caveats in the documentation: https://pandas.pydata.org/pandas-docs/stable/user_guide/indexing.html#returning-a-view-versus-a-copy\n",
      "  orders_new['date'] = orders_new['date'].astype('datetime64[D]')\n",
      "/tmp/ipykernel_130/198434008.py:3: SettingWithCopyWarning: \n",
      "A value is trying to be set on a copy of a slice from a DataFrame.\n",
      "Try using .loc[row_indexer,col_indexer] = value instead\n",
      "\n",
      "See the caveats in the documentation: https://pandas.pydata.org/pandas-docs/stable/user_guide/indexing.html#returning-a-view-versus-a-copy\n",
      "  orders_new['date'] = orders_new['date'].map(lambda x: dt.datetime.strftime(x, '%Y-%m-%d'))\n",
      "/tmp/ipykernel_130/198434008.py:7: SettingWithCopyWarning: \n",
      "A value is trying to be set on a copy of a slice from a DataFrame.\n",
      "Try using .loc[row_indexer,col_indexer] = value instead\n",
      "\n",
      "See the caveats in the documentation: https://pandas.pydata.org/pandas-docs/stable/user_guide/indexing.html#returning-a-view-versus-a-copy\n",
      "  orders_new['date'] = orders_new['date'].map(lambda x: dt.datetime.strptime(x, '%Y-%m-%d'))\n"
     ]
    }
   ],
   "source": [
    "# для гарантии отформатируем тип данных в 'date', проверим начальную и конечную дату в наборе данных\n",
    "orders_new['date'] = orders_new['date'].astype('datetime64[D]')\n",
    "orders_new['date'] = orders_new['date'].map(lambda x: dt.datetime.strftime(x, '%Y-%m-%d'))\n",
    "\n",
    "print('\\nНачальная дата {}, конечная дата {}\\n'.format(orders_new['date'].min(), orders_new['date'].max()))\n",
    "\n",
    "orders_new['date'] = orders_new['date'].map(lambda x: dt.datetime.strptime(x, '%Y-%m-%d'))\n",
    "orders_new.info()"
   ]
  },
  {
   "cell_type": "code",
   "execution_count": 9,
   "metadata": {},
   "outputs": [
    {
     "data": {
      "text/html": [
       "<div>\n",
       "<style scoped>\n",
       "    .dataframe tbody tr th:only-of-type {\n",
       "        vertical-align: middle;\n",
       "    }\n",
       "\n",
       "    .dataframe tbody tr th {\n",
       "        vertical-align: top;\n",
       "    }\n",
       "\n",
       "    .dataframe thead th {\n",
       "        text-align: right;\n",
       "    }\n",
       "</style>\n",
       "<table border=\"1\" class=\"dataframe\">\n",
       "  <thead>\n",
       "    <tr style=\"text-align: right;\">\n",
       "      <th></th>\n",
       "      <th>date</th>\n",
       "      <th>group</th>\n",
       "      <th>visitors</th>\n",
       "    </tr>\n",
       "  </thead>\n",
       "  <tbody>\n",
       "    <tr>\n",
       "      <th>0</th>\n",
       "      <td>2019-08-01</td>\n",
       "      <td>A</td>\n",
       "      <td>719</td>\n",
       "    </tr>\n",
       "    <tr>\n",
       "      <th>1</th>\n",
       "      <td>2019-08-02</td>\n",
       "      <td>A</td>\n",
       "      <td>619</td>\n",
       "    </tr>\n",
       "    <tr>\n",
       "      <th>2</th>\n",
       "      <td>2019-08-03</td>\n",
       "      <td>A</td>\n",
       "      <td>507</td>\n",
       "    </tr>\n",
       "    <tr>\n",
       "      <th>3</th>\n",
       "      <td>2019-08-04</td>\n",
       "      <td>A</td>\n",
       "      <td>717</td>\n",
       "    </tr>\n",
       "    <tr>\n",
       "      <th>4</th>\n",
       "      <td>2019-08-05</td>\n",
       "      <td>A</td>\n",
       "      <td>756</td>\n",
       "    </tr>\n",
       "  </tbody>\n",
       "</table>\n",
       "</div>"
      ],
      "text/plain": [
       "         date group  visitors\n",
       "0  2019-08-01     A       719\n",
       "1  2019-08-02     A       619\n",
       "2  2019-08-03     A       507\n",
       "3  2019-08-04     A       717\n",
       "4  2019-08-05     A       756"
      ]
     },
     "execution_count": 9,
     "metadata": {},
     "output_type": "execute_result"
    }
   ],
   "source": [
    "visitors.head()"
   ]
  },
  {
   "cell_type": "markdown",
   "metadata": {},
   "source": [
    "Описание данных:\n",
    "- date — дата;\n",
    "- group — группа A/B-теста;\n",
    "- visitors — количество пользователей в указанную дату в указанной группе A/B-теста"
   ]
  },
  {
   "cell_type": "code",
   "execution_count": 10,
   "metadata": {},
   "outputs": [
    {
     "name": "stdout",
     "output_type": "stream",
     "text": [
      "\n",
      "Начальная дата 2019-08-01, конечная дата 2019-08-31\n",
      "\n",
      "<class 'pandas.core.frame.DataFrame'>\n",
      "RangeIndex: 62 entries, 0 to 61\n",
      "Data columns (total 3 columns):\n",
      " #   Column    Non-Null Count  Dtype         \n",
      "---  ------    --------------  -----         \n",
      " 0   date      62 non-null     datetime64[ns]\n",
      " 1   group     62 non-null     object        \n",
      " 2   visitors  62 non-null     int64         \n",
      "dtypes: datetime64[ns](1), int64(1), object(1)\n",
      "memory usage: 1.6+ KB\n"
     ]
    }
   ],
   "source": [
    "# для гарантии оторматируем тип данных в 'date', проверим начальную и конечную дату в наборе данных\n",
    "visitors['date'] = visitors['date'].astype('datetime64[D]')\n",
    "visitors['date'] = visitors['date'].map(lambda x: dt.datetime.strftime(x, '%Y-%m-%d'))\n",
    "\n",
    "print('\\nНачальная дата {}, конечная дата {}\\n'.format(visitors['date'].min(), visitors['date'].max()))\n",
    "visitors['date'] = visitors['date'].map(lambda x: dt.datetime.strptime(x, '%Y-%m-%d'))\n",
    "visitors.info()"
   ]
  },
  {
   "cell_type": "markdown",
   "metadata": {},
   "source": [
    "**Вывод по выгрузке и подготовке данных:**\n",
    "Данные прочитали, изменили тип данных у столбцов с датами"
   ]
  },
  {
   "cell_type": "markdown",
   "metadata": {},
   "source": [
    "### Приоритизация гипотез."
   ]
  },
  {
   "cell_type": "markdown",
   "metadata": {},
   "source": [
    "Применим фреймворк ICE и RICE для приоритизации гипотез. Отсортируем по убыванию приоритета.\n",
    "\n",
    "Как изменилась приоритизация гипотез при применении RICE вместо ICE. Объясните, почему так произошло"
   ]
  },
  {
   "cell_type": "code",
   "execution_count": 11,
   "metadata": {},
   "outputs": [],
   "source": [
    "hyp['ICE'] = hyp['Impact'] * hyp['Confidence'] / hyp['Efforts']\n",
    "hyp['RICE'] = hyp['Reach'] * hyp['Impact'] * hyp['Confidence'] / hyp['Efforts']"
   ]
  },
  {
   "cell_type": "code",
   "execution_count": 12,
   "metadata": {},
   "outputs": [
    {
     "data": {
      "text/html": [
       "<div>\n",
       "<style scoped>\n",
       "    .dataframe tbody tr th:only-of-type {\n",
       "        vertical-align: middle;\n",
       "    }\n",
       "\n",
       "    .dataframe tbody tr th {\n",
       "        vertical-align: top;\n",
       "    }\n",
       "\n",
       "    .dataframe thead th {\n",
       "        text-align: right;\n",
       "    }\n",
       "</style>\n",
       "<table border=\"1\" class=\"dataframe\">\n",
       "  <thead>\n",
       "    <tr style=\"text-align: right;\">\n",
       "      <th></th>\n",
       "      <th>Hypothesis</th>\n",
       "      <th>ICE</th>\n",
       "      <th>RICE</th>\n",
       "    </tr>\n",
       "  </thead>\n",
       "  <tbody>\n",
       "    <tr>\n",
       "      <th>8</th>\n",
       "      <td>Запустить акцию, дающую скидку на товар в день рождения</td>\n",
       "      <td>16.200000</td>\n",
       "      <td>16.2</td>\n",
       "    </tr>\n",
       "    <tr>\n",
       "      <th>0</th>\n",
       "      <td>Добавить два новых канала привлечения трафика, что позволит привлекать на 30% больше пользователей</td>\n",
       "      <td>13.333333</td>\n",
       "      <td>40.0</td>\n",
       "    </tr>\n",
       "    <tr>\n",
       "      <th>7</th>\n",
       "      <td>Добавить форму подписки на все основные страницы, чтобы собрать базу клиентов для email-рассылок</td>\n",
       "      <td>11.200000</td>\n",
       "      <td>112.0</td>\n",
       "    </tr>\n",
       "    <tr>\n",
       "      <th>6</th>\n",
       "      <td>Показать на главной странице баннеры с актуальными акциями и распродажами, чтобы увеличить конверсию</td>\n",
       "      <td>8.000000</td>\n",
       "      <td>40.0</td>\n",
       "    </tr>\n",
       "    <tr>\n",
       "      <th>2</th>\n",
       "      <td>Добавить блоки рекомендаций товаров на сайт интернет магазина, чтобы повысить конверсию и средний чек заказа</td>\n",
       "      <td>7.000000</td>\n",
       "      <td>56.0</td>\n",
       "    </tr>\n",
       "    <tr>\n",
       "      <th>1</th>\n",
       "      <td>Запустить собственную службу доставки, что сократит срок доставки заказов</td>\n",
       "      <td>2.000000</td>\n",
       "      <td>4.0</td>\n",
       "    </tr>\n",
       "    <tr>\n",
       "      <th>5</th>\n",
       "      <td>Добавить страницу отзывов клиентов о магазине, что позволит увеличить количество заказов</td>\n",
       "      <td>1.333333</td>\n",
       "      <td>4.0</td>\n",
       "    </tr>\n",
       "    <tr>\n",
       "      <th>3</th>\n",
       "      <td>Изменить структура категорий, что увеличит конверсию, т.к. пользователи быстрее найдут нужный товар</td>\n",
       "      <td>1.125000</td>\n",
       "      <td>9.0</td>\n",
       "    </tr>\n",
       "    <tr>\n",
       "      <th>4</th>\n",
       "      <td>Изменить цвет фона главной страницы, чтобы увеличить вовлеченность пользователей</td>\n",
       "      <td>1.000000</td>\n",
       "      <td>3.0</td>\n",
       "    </tr>\n",
       "  </tbody>\n",
       "</table>\n",
       "</div>"
      ],
      "text/plain": [
       "                                                                                                     Hypothesis  \\\n",
       "8                                                       Запустить акцию, дающую скидку на товар в день рождения   \n",
       "0            Добавить два новых канала привлечения трафика, что позволит привлекать на 30% больше пользователей   \n",
       "7              Добавить форму подписки на все основные страницы, чтобы собрать базу клиентов для email-рассылок   \n",
       "6          Показать на главной странице баннеры с актуальными акциями и распродажами, чтобы увеличить конверсию   \n",
       "2  Добавить блоки рекомендаций товаров на сайт интернет магазина, чтобы повысить конверсию и средний чек заказа   \n",
       "1                                     Запустить собственную службу доставки, что сократит срок доставки заказов   \n",
       "5                      Добавить страницу отзывов клиентов о магазине, что позволит увеличить количество заказов   \n",
       "3           Изменить структура категорий, что увеличит конверсию, т.к. пользователи быстрее найдут нужный товар   \n",
       "4                              Изменить цвет фона главной страницы, чтобы увеличить вовлеченность пользователей   \n",
       "\n",
       "         ICE   RICE  \n",
       "8  16.200000   16.2  \n",
       "0  13.333333   40.0  \n",
       "7  11.200000  112.0  \n",
       "6   8.000000   40.0  \n",
       "2   7.000000   56.0  \n",
       "1   2.000000    4.0  \n",
       "5   1.333333    4.0  \n",
       "3   1.125000    9.0  \n",
       "4   1.000000    3.0  "
      ]
     },
     "execution_count": 12,
     "metadata": {},
     "output_type": "execute_result"
    }
   ],
   "source": [
    "pd.options.display.max_colwidth = 120\n",
    "hyp.sort_values(by='ICE', ascending=False)[['Hypothesis', 'ICE', 'RICE']]"
   ]
  },
  {
   "cell_type": "code",
   "execution_count": 13,
   "metadata": {},
   "outputs": [
    {
     "data": {
      "text/html": [
       "<div>\n",
       "<style scoped>\n",
       "    .dataframe tbody tr th:only-of-type {\n",
       "        vertical-align: middle;\n",
       "    }\n",
       "\n",
       "    .dataframe tbody tr th {\n",
       "        vertical-align: top;\n",
       "    }\n",
       "\n",
       "    .dataframe thead th {\n",
       "        text-align: right;\n",
       "    }\n",
       "</style>\n",
       "<table border=\"1\" class=\"dataframe\">\n",
       "  <thead>\n",
       "    <tr style=\"text-align: right;\">\n",
       "      <th></th>\n",
       "      <th>Hypothesis</th>\n",
       "      <th>ICE</th>\n",
       "      <th>RICE</th>\n",
       "    </tr>\n",
       "  </thead>\n",
       "  <tbody>\n",
       "    <tr>\n",
       "      <th>7</th>\n",
       "      <td>Добавить форму подписки на все основные страницы, чтобы собрать базу клиентов для email-рассылок</td>\n",
       "      <td>11.200000</td>\n",
       "      <td>112.0</td>\n",
       "    </tr>\n",
       "    <tr>\n",
       "      <th>2</th>\n",
       "      <td>Добавить блоки рекомендаций товаров на сайт интернет магазина, чтобы повысить конверсию и средний чек заказа</td>\n",
       "      <td>7.000000</td>\n",
       "      <td>56.0</td>\n",
       "    </tr>\n",
       "    <tr>\n",
       "      <th>0</th>\n",
       "      <td>Добавить два новых канала привлечения трафика, что позволит привлекать на 30% больше пользователей</td>\n",
       "      <td>13.333333</td>\n",
       "      <td>40.0</td>\n",
       "    </tr>\n",
       "    <tr>\n",
       "      <th>6</th>\n",
       "      <td>Показать на главной странице баннеры с актуальными акциями и распродажами, чтобы увеличить конверсию</td>\n",
       "      <td>8.000000</td>\n",
       "      <td>40.0</td>\n",
       "    </tr>\n",
       "    <tr>\n",
       "      <th>8</th>\n",
       "      <td>Запустить акцию, дающую скидку на товар в день рождения</td>\n",
       "      <td>16.200000</td>\n",
       "      <td>16.2</td>\n",
       "    </tr>\n",
       "    <tr>\n",
       "      <th>3</th>\n",
       "      <td>Изменить структура категорий, что увеличит конверсию, т.к. пользователи быстрее найдут нужный товар</td>\n",
       "      <td>1.125000</td>\n",
       "      <td>9.0</td>\n",
       "    </tr>\n",
       "    <tr>\n",
       "      <th>1</th>\n",
       "      <td>Запустить собственную службу доставки, что сократит срок доставки заказов</td>\n",
       "      <td>2.000000</td>\n",
       "      <td>4.0</td>\n",
       "    </tr>\n",
       "    <tr>\n",
       "      <th>5</th>\n",
       "      <td>Добавить страницу отзывов клиентов о магазине, что позволит увеличить количество заказов</td>\n",
       "      <td>1.333333</td>\n",
       "      <td>4.0</td>\n",
       "    </tr>\n",
       "    <tr>\n",
       "      <th>4</th>\n",
       "      <td>Изменить цвет фона главной страницы, чтобы увеличить вовлеченность пользователей</td>\n",
       "      <td>1.000000</td>\n",
       "      <td>3.0</td>\n",
       "    </tr>\n",
       "  </tbody>\n",
       "</table>\n",
       "</div>"
      ],
      "text/plain": [
       "                                                                                                     Hypothesis  \\\n",
       "7              Добавить форму подписки на все основные страницы, чтобы собрать базу клиентов для email-рассылок   \n",
       "2  Добавить блоки рекомендаций товаров на сайт интернет магазина, чтобы повысить конверсию и средний чек заказа   \n",
       "0            Добавить два новых канала привлечения трафика, что позволит привлекать на 30% больше пользователей   \n",
       "6          Показать на главной странице баннеры с актуальными акциями и распродажами, чтобы увеличить конверсию   \n",
       "8                                                       Запустить акцию, дающую скидку на товар в день рождения   \n",
       "3           Изменить структура категорий, что увеличит конверсию, т.к. пользователи быстрее найдут нужный товар   \n",
       "1                                     Запустить собственную службу доставки, что сократит срок доставки заказов   \n",
       "5                      Добавить страницу отзывов клиентов о магазине, что позволит увеличить количество заказов   \n",
       "4                              Изменить цвет фона главной страницы, чтобы увеличить вовлеченность пользователей   \n",
       "\n",
       "         ICE   RICE  \n",
       "7  11.200000  112.0  \n",
       "2   7.000000   56.0  \n",
       "0  13.333333   40.0  \n",
       "6   8.000000   40.0  \n",
       "8  16.200000   16.2  \n",
       "3   1.125000    9.0  \n",
       "1   2.000000    4.0  \n",
       "5   1.333333    4.0  \n",
       "4   1.000000    3.0  "
      ]
     },
     "execution_count": 13,
     "metadata": {},
     "output_type": "execute_result"
    }
   ],
   "source": [
    "pd.options.display.max_colwidth = 120\n",
    "hyp.sort_values(by='RICE', ascending=False)[['Hypothesis', 'ICE', 'RICE']]"
   ]
  },
  {
   "cell_type": "markdown",
   "metadata": {},
   "source": [
    "- **По фреймворку ICE наибольшую оценку имели гпиотезы 8,0 и 7.**\n",
    "- **По RICE приоритетные гиgотезы 7,2 и 0.**\n",
    "\n",
    "Это объясняется тем, что в случае фреймворка ICE в отличие от RICE мы не учитывали охват изменений и 7 гипотеза имеет высокий показатель Reach, она затронет очень многих пользователей."
   ]
  },
  {
   "cell_type": "markdown",
   "metadata": {},
   "source": [
    "### Анализ A/B-теста"
   ]
  },
  {
   "cell_type": "markdown",
   "metadata": {},
   "source": [
    "#### Подготовка к проведению анализа"
   ]
  },
  {
   "cell_type": "markdown",
   "metadata": {},
   "source": [
    "Проверим наличие разницы в размере групп в выборке, а также корректно ли был рассчитан размер выборки для проведения теста."
   ]
  },
  {
   "cell_type": "code",
   "execution_count": 14,
   "metadata": {},
   "outputs": [
    {
     "name": "stdout",
     "output_type": "stream",
     "text": [
      "Кол-во посетителей в группе А: 18736\n",
      "Кол-во посетителей в группе B: 18916\n",
      "Кол-во покупок в группе A: 468\n",
      "Кол-во покупок в группе B: 548\n"
     ]
    },
    {
     "data": {
      "image/png": "[encoded data removed]",
      "text/plain": [
       "<Figure size 432x288 with 1 Axes>"
      ]
     },
     "metadata": {
      "needs_background": "light"
     },
     "output_type": "display_data"
    },
    {
     "name": "stdout",
     "output_type": "stream",
     "text": [
      "P-value:0.7301376549390499\n",
      "Разница в количестве посетителей в группах A и B статистически не значима\n",
      "\n",
      "Начальная конверсия: 0.025\n",
      "Полученная после изменений конверсия: 0.029\n",
      "Относительное изменение конверсии после изменений: 0.138\n",
      "\n",
      "Вводим начальную конверсию и полученное относительное изменение конверсии в калькулятор\n",
      "Сайт калькулятора: https://www.evanmiller.org/ab-testing/sample-size.html\n",
      "Получаем необходимое количество выборки 35855 для корректного проведения тестирования\n",
      "В нашем случае количество 37652 посещений\n",
      "Кол-во выборки для A/B тестирования корректно подобрано, статистически значимой разницы\n",
      "в количестве посещений м/у группами не обнаружено.\n"
     ]
    }
   ],
   "source": [
    "print('Кол-во посетителей в группе А: {}\\n'\n",
    "      'Кол-во посетителей в группе B: {}'.format(visitors[visitors['group']=='A']['visitors'].sum(), \n",
    "                                                 visitors[visitors['group']=='B']['visitors'].sum()))\n",
    "purchasesA = len(orders_new[orders_new['group']=='A'])\n",
    "purchasesB = len(orders_new[orders_new['group']=='B'])\n",
    "print('Кол-во покупок в группе A: {}'.format(purchasesA))\n",
    "print('Кол-во покупок в группе B: {}'.format(purchasesB))\n",
    "\n",
    "plt.hist(visitors[visitors['group']=='A']['visitors'], alpha = 0.8, label='A', bins = 30)\n",
    "plt.hist(visitors[visitors['group']=='B']['visitors'], alpha = 0.8, label='B', bins = 30)\n",
    "\n",
    "plt.legend()\n",
    "plt.title('Кол-во посетителей в день по группам A и B')\n",
    "plt.show()\n",
    "\n",
    "\n",
    "results = stats.mannwhitneyu(visitors[visitors['group']=='A']['visitors'], visitors[visitors['group']=='B']['visitors'])\n",
    "alpha = 0.05\n",
    "\n",
    "print('P-value:{}'.format(results.pvalue))\n",
    "\n",
    "if results.pvalue < alpha:\n",
    "    print('Разница в количестве посетителей в группах A и B статистически значима\\n')\n",
    "else:\n",
    "    print('Разница в количестве посетителей в группах A и B статистически не значима\\n')\n",
    "    \n",
    "initial_conversion = len(orders_new[orders_new['group']=='A']) / visitors[visitors['group']=='A']['visitors'].sum() \n",
    "resulting_conversion = len(orders_new[orders_new['group']=='B']) / visitors[visitors['group']=='B']['visitors'].sum()\n",
    "\n",
    "print('Начальная конверсия: {:.3f}'.format(initial_conversion))\n",
    "print('Полученная после изменений конверсия: {:.3f}'.format(resulting_conversion))\n",
    "print('Относительное изменение конверсии после изменений: {:.3f}'.format(abs(1-(initial_conversion/resulting_conversion))))\n",
    "\n",
    "print('\\nВводим начальную конверсию и полученное относительное изменение конверсии в калькулятор\\n'\n",
    "     'Сайт калькулятора: https://www.evanmiller.org/ab-testing/sample-size.html\\n'\n",
    "     'Получаем необходимое количество выборки 35855 для корректного проведения тестирования\\n'\n",
    "     'В нашем случае количество {} посещений\\n'\n",
    "      'Кол-во выборки для A/B тестирования корректно подобрано, ' \n",
    "      'статистически значимой разницы\\nв количестве посещений м/у группами не обнаружено.'.format(visitors['visitors'].sum()))"
   ]
  },
  {
   "cell_type": "markdown",
   "metadata": {},
   "source": [
    "#### Построим график кумулятивной выручки по группам."
   ]
  },
  {
   "cell_type": "markdown",
   "metadata": {},
   "source": [
    "Для этого:"
   ]
  },
  {
   "cell_type": "code",
   "execution_count": 15,
   "metadata": {},
   "outputs": [],
   "source": [
    "# Создадим датафрейм datesGroups с уникальными парами значений 'date' и 'group', таблицы orders\n",
    "datesGroups = orders_new[['date', 'group']].drop_duplicates()"
   ]
  },
  {
   "cell_type": "markdown",
   "metadata": {},
   "source": [
    "Далее объявим переменную ordersAggregated, содержащую:\n",
    "- дату;\n",
    "- группу A/B-теста;\n",
    "- число уникальных заказов в группе теста по указанную дату включительно;\n",
    "- число уникальных пользователей, совершивших хотя бы 1 заказ в группе теста по указанную дату включительно;\n",
    "- суммарную выручку заказов в группе теста по указанную дату включительно.\n",
    "\n",
    "А также visitorsAggregated, содержащую:\n",
    "- дату;\n",
    "- группу A/B-теста;\n",
    "- количество уникальных посетителей в группе теста по указанную дату включительно."
   ]
  },
  {
   "cell_type": "code",
   "execution_count": 16,
   "metadata": {},
   "outputs": [],
   "source": [
    "ordersAggregated = datesGroups.apply\\\n",
    "(lambda x: orders_new[np.logical_and(orders_new['date']<= x['date'], orders_new['group'] == x['group'])]\\\n",
    " .agg({'date' : 'max', 'group' : 'max', 'transactionId' : 'nunique', 'visitorId' : 'nunique', 'revenue' : 'sum'}), axis=1)\\\n",
    ".sort_values(by=['date','group'])\n",
    "\n",
    "\n",
    "visitorsAggregated = datesGroups.apply\\\n",
    "(lambda x: visitors[np.logical_and(visitors['date'] <= x['date'], visitors['group'] == x['group'])]\\\n",
    " .agg({'date' : 'max', 'group' : 'max', 'visitors' : 'sum'}), axis=1)\\\n",
    ".sort_values(by=['date','group']) "
   ]
  },
  {
   "cell_type": "code",
   "execution_count": 17,
   "metadata": {},
   "outputs": [
    {
     "data": {
      "text/html": [
       "<div>\n",
       "<style scoped>\n",
       "    .dataframe tbody tr th:only-of-type {\n",
       "        vertical-align: middle;\n",
       "    }\n",
       "\n",
       "    .dataframe tbody tr th {\n",
       "        vertical-align: top;\n",
       "    }\n",
       "\n",
       "    .dataframe thead th {\n",
       "        text-align: right;\n",
       "    }\n",
       "</style>\n",
       "<table border=\"1\" class=\"dataframe\">\n",
       "  <thead>\n",
       "    <tr style=\"text-align: right;\">\n",
       "      <th></th>\n",
       "      <th>date</th>\n",
       "      <th>group</th>\n",
       "      <th>orders</th>\n",
       "      <th>buyers</th>\n",
       "      <th>revenue</th>\n",
       "      <th>visitors</th>\n",
       "    </tr>\n",
       "  </thead>\n",
       "  <tbody>\n",
       "    <tr>\n",
       "      <th>0</th>\n",
       "      <td>2019-08-01</td>\n",
       "      <td>A</td>\n",
       "      <td>23</td>\n",
       "      <td>19</td>\n",
       "      <td>142779</td>\n",
       "      <td>719</td>\n",
       "    </tr>\n",
       "    <tr>\n",
       "      <th>1</th>\n",
       "      <td>2019-08-01</td>\n",
       "      <td>B</td>\n",
       "      <td>17</td>\n",
       "      <td>17</td>\n",
       "      <td>59758</td>\n",
       "      <td>713</td>\n",
       "    </tr>\n",
       "    <tr>\n",
       "      <th>2</th>\n",
       "      <td>2019-08-02</td>\n",
       "      <td>A</td>\n",
       "      <td>42</td>\n",
       "      <td>36</td>\n",
       "      <td>234381</td>\n",
       "      <td>1338</td>\n",
       "    </tr>\n",
       "    <tr>\n",
       "      <th>3</th>\n",
       "      <td>2019-08-02</td>\n",
       "      <td>B</td>\n",
       "      <td>40</td>\n",
       "      <td>39</td>\n",
       "      <td>221801</td>\n",
       "      <td>1294</td>\n",
       "    </tr>\n",
       "    <tr>\n",
       "      <th>4</th>\n",
       "      <td>2019-08-03</td>\n",
       "      <td>A</td>\n",
       "      <td>66</td>\n",
       "      <td>60</td>\n",
       "      <td>346854</td>\n",
       "      <td>1845</td>\n",
       "    </tr>\n",
       "  </tbody>\n",
       "</table>\n",
       "</div>"
      ],
      "text/plain": [
       "        date group  orders  buyers  revenue  visitors\n",
       "0 2019-08-01     A      23      19   142779       719\n",
       "1 2019-08-01     B      17      17    59758       713\n",
       "2 2019-08-02     A      42      36   234381      1338\n",
       "3 2019-08-02     B      40      39   221801      1294\n",
       "4 2019-08-03     A      66      60   346854      1845"
      ]
     },
     "execution_count": 17,
     "metadata": {},
     "output_type": "execute_result"
    }
   ],
   "source": [
    "# Определим переменную cumulativeData, объединив ordersAggregated и visitorsAggregated\n",
    "# по колонкам 'date', 'group' методом merge()\n",
    "\n",
    "ordersAggregated['date'] = ordersAggregated['date'].astype('datetime64[D]')\n",
    "visitorsAggregated['date'] = visitorsAggregated['date'].astype('datetime64[D]')\n",
    "\n",
    "cumulativeData = ordersAggregated.merge(visitorsAggregated, left_on=['date', 'group'], right_on=['date', 'group'])\n",
    "cumulativeData.columns = ['date', 'group', 'orders', 'buyers', 'revenue', 'visitors']\n",
    "\n",
    "cumulativeData.head(5)"
   ]
  },
  {
   "cell_type": "code",
   "execution_count": 18,
   "metadata": {},
   "outputs": [
    {
     "data": {
      "image/png": "[encoded data removed]",
      "text/plain": [
       "<Figure size 1080x288 with 1 Axes>"
      ]
     },
     "metadata": {
      "needs_background": "light"
     },
     "output_type": "display_data"
    }
   ],
   "source": [
    "# Объявим переменные cumulativeRevenueA и cumulativeRevenueB,\n",
    "# в которых сохраним данные о датах, выручке и числе заказов в группах A и B.\n",
    "\n",
    "# датафрейм с кумулятивным количеством заказов и кумулятивной выручкой по дням в группе А\n",
    "cumulativeRevenueA = cumulativeData[cumulativeData['group']=='A'][['date','revenue', 'orders']]\n",
    "\n",
    "# датафрейм с кумулятивным количеством заказов и кумулятивной выручкой по дням в группе B\n",
    "cumulativeRevenueB = cumulativeData[cumulativeData['group']=='B'][['date','revenue', 'orders']]\n",
    "\n",
    "fig = plt.figure(figsize=(15, 4))\n",
    "\n",
    "# Строим график выручки группы А\n",
    "plt.plot(cumulativeRevenueA['date'], cumulativeRevenueA['revenue'], label='A')\n",
    "\n",
    "# Строим график выручки группы B\n",
    "plt.plot(cumulativeRevenueB['date'], cumulativeRevenueB['revenue'], label='B')\n",
    "\n",
    "plt.xticks(rotation=50)\n",
    "plt.legend() \n",
    "plt.title('Графики кумулятивной выручки по дням (по группам).')\n",
    "plt.xlabel(\"Дата\")\n",
    "plt.ylabel(\"Выручка\")\n",
    "plt.show()"
   ]
  },
  {
   "cell_type": "markdown",
   "metadata": {},
   "source": [
    "Группа В стабильно приносит большую выручку, чем группа А\n",
    "\n",
    "Во второй половине теста вероятно был сделан заказ на особо крупную сумму, что вывело показатель кумулятивной выручки по группе В сильно вперед."
   ]
  },
  {
   "cell_type": "markdown",
   "metadata": {},
   "source": [
    "<div class=\"alert alert-block alert-info\">\n",
    "<b>КОММЕНТАРИЙ ОТ УЧЕНИКА: постаралась исправить, вероятно аномально крупный заказ </b>\n",
    "</div>"
   ]
  },
  {
   "cell_type": "markdown",
   "metadata": {},
   "source": [
    "#### Построим график кумулятивного среднего чека по группам."
   ]
  },
  {
   "cell_type": "code",
   "execution_count": 19,
   "metadata": {},
   "outputs": [
    {
     "data": {
      "image/png": "[encoded data removed]",
      "text/plain": [
       "<Figure size 1080x288 with 1 Axes>"
      ]
     },
     "metadata": {
      "needs_background": "light"
     },
     "output_type": "display_data"
    }
   ],
   "source": [
    "fig = plt.figure(figsize=(15, 4))\n",
    "\n",
    "plt.plot(cumulativeRevenueA['date'], cumulativeRevenueA['revenue']/cumulativeRevenueA['orders'], label='A')\n",
    "plt.plot(cumulativeRevenueB['date'], cumulativeRevenueB['revenue']/cumulativeRevenueB['orders'], label='B')\n",
    "\n",
    "\n",
    "plt.xticks(rotation=50)\n",
    "plt.legend() \n",
    "plt.title('Графики кумулятивного среднего чека по дням по группам.')\n",
    "plt.xlabel(\"Дата\")\n",
    "plt.ylabel(\"Кумулятивный средний чек\")\n",
    "plt.show()"
   ]
  },
  {
   "cell_type": "markdown",
   "metadata": {},
   "source": [
    "Кумулятивное значение по сегментам колеблется. Принмать решение по этой метрике рано, необходимо иссследовать на выбросы, так как **особенно заметен резкий скачок по среднему чеку в группе В в середине эксперимента.**"
   ]
  },
  {
   "cell_type": "markdown",
   "metadata": {},
   "source": [
    "#### Постройте график относительного изменения кумулятивного среднего чека группы B к группе A. Сделайте выводы и предположения."
   ]
  },
  {
   "cell_type": "code",
   "execution_count": 20,
   "metadata": {},
   "outputs": [],
   "source": [
    "# Объединим таблицы cumulativeRevenueA и cumulativeRevenueB\n",
    "\n",
    "mergedCumulativeRevenue = cumulativeRevenueA\\\n",
    ".merge(cumulativeRevenueB, left_on='date', right_on='date', how='left', suffixes=['A', 'B'])"
   ]
  },
  {
   "cell_type": "code",
   "execution_count": 21,
   "metadata": {},
   "outputs": [
    {
     "data": {
      "image/png": "[encoded data removed]",
      "text/plain": [
       "<Figure size 1080x288 with 1 Axes>"
      ]
     },
     "metadata": {
      "needs_background": "light"
     },
     "output_type": "display_data"
    }
   ],
   "source": [
    "# Построим график относительно различия кумулятивного среднего чека группы B к группе A. \n",
    "fig = plt.figure(figsize=(15, 4))\n",
    "\n",
    "\n",
    "(\n",
    "    plt.plot(mergedCumulativeRevenue['date'], (mergedCumulativeRevenue['revenueB']\n",
    "                                               /mergedCumulativeRevenue['ordersB'])\n",
    "             /(mergedCumulativeRevenue['revenueA']/mergedCumulativeRevenue['ordersA'])-1)\n",
    ")\n",
    "plt.axhline(y=0, color='black', linestyle='--') \n",
    "plt.xticks(rotation=50)\n",
    "plt.title('График относительно различия кумулятивного среднего чека группы B к группе A')\n",
    "plt.xlabel(\"Дата\")\n",
    "plt.show()"
   ]
  },
  {
   "cell_type": "markdown",
   "metadata": {},
   "source": [
    "Как и описывалось выше результаты теста имеют знаительные колебания в течение эксперимента. Вероятно это указывает на даты, в которые были сделаны аномально большие заказы."
   ]
  },
  {
   "cell_type": "markdown",
   "metadata": {},
   "source": [
    "#### График среднего количества заказов по группам."
   ]
  },
  {
   "cell_type": "code",
   "execution_count": 22,
   "metadata": {},
   "outputs": [
    {
     "data": {
      "image/png": "[encoded data removed]",
      "text/plain": [
       "<Figure size 1080x288 with 1 Axes>"
      ]
     },
     "metadata": {
      "needs_background": "light"
     },
     "output_type": "display_data"
    }
   ],
   "source": [
    "# считаем среднее количество заказов на пользователя\n",
    "cumulativeData['conversion'] = cumulativeData['orders']/cumulativeData['visitors']\n",
    "\n",
    "# отделяем данные по группе A\n",
    "cumulativeDataA = cumulativeData[cumulativeData['group']=='A']\n",
    "\n",
    "# отделяем данные по группе B\n",
    "cumulativeDataB = cumulativeData[cumulativeData['group']=='B']\n",
    "\n",
    "# строим графики\n",
    "fig = plt.figure(figsize=(15, 4))\n",
    "\n",
    "plt.plot(cumulativeDataA['date'], cumulativeDataA['conversion'], label='A')\n",
    "plt.plot(cumulativeDataB['date'], cumulativeDataB['conversion'], label='B')\n",
    "\n",
    "plt.xticks(rotation=50)\n",
    "plt.legend()\n",
    "plt.title('График количества заказов по дням (по группам)')\n",
    "plt.xlabel(\"Дата\")\n",
    "plt.show()"
   ]
  },
  {
   "cell_type": "markdown",
   "metadata": {},
   "source": [
    "В группе В стабильно более высокое количество заказов"
   ]
  },
  {
   "cell_type": "markdown",
   "metadata": {},
   "source": [
    "#### График относительного изменения количества заказов группы B к группе A. "
   ]
  },
  {
   "cell_type": "code",
   "execution_count": 23,
   "metadata": {},
   "outputs": [
    {
     "data": {
      "image/png": "[encoded data removed]",
      "text/plain": [
       "<Figure size 1080x288 with 1 Axes>"
      ]
     },
     "metadata": {
      "needs_background": "light"
     },
     "output_type": "display_data"
    }
   ],
   "source": [
    "mergedCumulativeConversions = cumulativeDataA[['date','conversion']].merge(cumulativeDataB[['date','conversion']], left_on='date', right_on='date', how='left', suffixes=['A', 'B'])\n",
    "\n",
    "fig = plt.figure(figsize=(15, 4))\n",
    "plt.plot(mergedCumulativeConversions['date'], mergedCumulativeConversions['conversionB']/mergedCumulativeConversions['conversionA']-1)\n",
    "plt.axhline(y=0, color='black', linestyle='--')\n",
    "plt.axhline(y=0.1, color='grey', linestyle='--')\n",
    "plt.xticks(rotation=50)\n",
    "plt.title('График относительного изменения количества заказов группы B к группе A. ')\n",
    "plt.xlabel(\"Дата\")\n",
    "plt.show()\n",
    "\n"
   ]
  },
  {
   "cell_type": "markdown",
   "metadata": {},
   "source": [
    "Относительное изменение количества заказов в группе B стабильно значительно выше чем в группе A (на 10% по просшествии 1 недели после начала теста)"
   ]
  },
  {
   "cell_type": "markdown",
   "metadata": {},
   "source": [
    "#### Постройте точечный график количества заказов по пользователям. Сделайте выводы и предположения."
   ]
  },
  {
   "cell_type": "code",
   "execution_count": 24,
   "metadata": {},
   "outputs": [
    {
     "data": {
      "text/html": [
       "<div>\n",
       "<style scoped>\n",
       "    .dataframe tbody tr th:only-of-type {\n",
       "        vertical-align: middle;\n",
       "    }\n",
       "\n",
       "    .dataframe tbody tr th {\n",
       "        vertical-align: top;\n",
       "    }\n",
       "\n",
       "    .dataframe thead th {\n",
       "        text-align: right;\n",
       "    }\n",
       "</style>\n",
       "<table border=\"1\" class=\"dataframe\">\n",
       "  <thead>\n",
       "    <tr style=\"text-align: right;\">\n",
       "      <th></th>\n",
       "      <th>visitorId</th>\n",
       "      <th>transactionId</th>\n",
       "    </tr>\n",
       "  </thead>\n",
       "  <tbody>\n",
       "    <tr>\n",
       "      <th>908</th>\n",
       "      <td>3967698036</td>\n",
       "      <td>3</td>\n",
       "    </tr>\n",
       "    <tr>\n",
       "      <th>55</th>\n",
       "      <td>249864742</td>\n",
       "      <td>3</td>\n",
       "    </tr>\n",
       "    <tr>\n",
       "      <th>478</th>\n",
       "      <td>2108163459</td>\n",
       "      <td>3</td>\n",
       "    </tr>\n",
       "    <tr>\n",
       "      <th>687</th>\n",
       "      <td>2988190573</td>\n",
       "      <td>3</td>\n",
       "    </tr>\n",
       "    <tr>\n",
       "      <th>890</th>\n",
       "      <td>3908431265</td>\n",
       "      <td>3</td>\n",
       "    </tr>\n",
       "  </tbody>\n",
       "</table>\n",
       "</div>"
      ],
      "text/plain": [
       "      visitorId  transactionId\n",
       "908  3967698036              3\n",
       "55    249864742              3\n",
       "478  2108163459              3\n",
       "687  2988190573              3\n",
       "890  3908431265              3"
      ]
     },
     "execution_count": 24,
     "metadata": {},
     "output_type": "execute_result"
    }
   ],
   "source": [
    "# Найдем число заказов по пользователям — создадим отдельный датафрейм \n",
    "ordersByUsers = (\n",
    "    orders_new.groupby('visitorId', as_index=False)\n",
    "    .agg({'transactionId': 'nunique'})\n",
    ")\n",
    "\n",
    "ordersByUsers.columns = ['visitorId', 'transactionId']\n",
    "\n",
    "ordersByUsers.sort_values(by='transactionId', ascending=False).head(5)"
   ]
  },
  {
   "cell_type": "code",
   "execution_count": 25,
   "metadata": {},
   "outputs": [
    {
     "data": {
      "image/png": "[encoded data removed]",
      "text/plain": [
       "<Figure size 720x288 with 1 Axes>"
      ]
     },
     "metadata": {
      "needs_background": "light"
     },
     "output_type": "display_data"
    }
   ],
   "source": [
    "x_values = pd.Series(range(0, len(ordersByUsers)))\n",
    "\n",
    "plt.figure(figsize=(10,4))\n",
    "plt.scatter(x_values, ordersByUsers['transactionId'])\n",
    "plt.title('Точечный график количества заказов по пользователям.')\n",
    "plt.show()"
   ]
  },
  {
   "cell_type": "markdown",
   "metadata": {},
   "source": [
    "Подавляющее большинство пользователей не совершает более 2 заказов"
   ]
  },
  {
   "cell_type": "markdown",
   "metadata": {},
   "source": [
    "#### Посчитайте 95-й и 99-й перцентили количества заказов на пользователя. Выберите границу для определения аномальных пользователей.\n"
   ]
  },
  {
   "cell_type": "code",
   "execution_count": 26,
   "metadata": {},
   "outputs": [
    {
     "name": "stdout",
     "output_type": "stream",
     "text": [
      "Перцентили:\n",
      "95: 1.0\n",
      "99: 2.0\n"
     ]
    }
   ],
   "source": [
    "percentiles = np.percentile(ordersByUsers['transactionId'], [95, 99])\n",
    "print('Перцентили:\\n95: {}\\n99: {}'.format(percentiles[0],percentiles[1]))"
   ]
  },
  {
   "cell_type": "markdown",
   "metadata": {},
   "source": [
    "Больше 2 заказов совершают только 5% пользователей"
   ]
  },
  {
   "cell_type": "markdown",
   "metadata": {},
   "source": [
    "#### Постройте точечный график стоимостей заказов. Сделайте выводы и предположения."
   ]
  },
  {
   "cell_type": "code",
   "execution_count": 27,
   "metadata": {},
   "outputs": [
    {
     "data": {
      "image/png": "[encoded data removed]",
      "text/plain": [
       "<Figure size 720x288 with 1 Axes>"
      ]
     },
     "metadata": {
      "needs_background": "light"
     },
     "output_type": "display_data"
    }
   ],
   "source": [
    "x_values = pd.Series(range(0, len(orders_new)))\n",
    "plt.figure(figsize=(10,4))\n",
    "plt.scatter(x_values, orders_new['revenue'])\n",
    "plt.title('Точечная диаграмма сумм заказов на одного пользователя')\n",
    "plt.axis([0, 1200, 0, 200000])\n",
    "plt.show()"
   ]
  },
  {
   "cell_type": "markdown",
   "metadata": {},
   "source": [
    "Судя по графикам, большая часть пользователей делает покупки суммой не больше 25-30 т.р. Проверим это далее."
   ]
  },
  {
   "cell_type": "markdown",
   "metadata": {},
   "source": [
    "#### Посчитайте 95-й и 99-й перцентили стоимости заказов. Выберите границу для определения аномальных заказов."
   ]
  },
  {
   "cell_type": "code",
   "execution_count": 28,
   "metadata": {},
   "outputs": [
    {
     "name": "stdout",
     "output_type": "stream",
     "text": [
      "Перцентили:\n",
      "95: 26785\n",
      "99: 53904\n"
     ]
    }
   ],
   "source": [
    "percentiles = np.percentile(orders_new['revenue'], [95, 99])\n",
    "print('Перцентили:\\n95: {:.0f}\\n99: {:.0f}'.format(percentiles[0],percentiles[1]))"
   ]
  },
  {
   "cell_type": "markdown",
   "metadata": {},
   "source": [
    "Только 5% заказов дороже 26785 руб."
   ]
  },
  {
   "cell_type": "markdown",
   "metadata": {},
   "source": [
    "#### Посчитайте статистическую значимость различий в среднем количестве заказов на посетителя между группами по «сырым» данным. Сделайте выводы и предположения."
   ]
  },
  {
   "cell_type": "markdown",
   "metadata": {},
   "source": [
    "##### Подготовка данных.\n",
    "\n",
    "Отобразим в датафрейме data:\n",
    "- date — дата;\n",
    "- ordersPerDateA — количество заказов в выбранную дату в группе A;\n",
    "- revenuePerDateA — суммарная выручка в выбранную дату в группе A;\n",
    "- ordersPerDateB — количество заказов в выбранную дату в группе B;\n",
    "- revenuePerDateB — суммарная выручка в выбранную дату в группе B;\n",
    "- ordersCummulativeA — суммарное число заказов до выбранной даты включительно в группе A;\n",
    "- revenueCummulativeA — суммарная выручка до выбранной даты включительно в группе A;\n",
    "- ordersCummulativeB — суммарное количество заказов до выбранной даты включительно в группе B;\n",
    "- revenueCummulativeB — суммарная выручка до выбранной даты включительно в группе B;\n",
    "- visitorsPerDateA — количество пользователей в выбранную дату в группе A;\n",
    "- visitorsPerDateB — количество пользователей в выбранную дату в группе B;\n",
    "- visitorsCummulativeA — количество пользователей до выбранной даты включительно в группе A;\n",
    "- visitorsCummulativeB — количество пользователей до выбранной даты включительно в группе B."
   ]
  },
  {
   "cell_type": "code",
   "execution_count": 29,
   "metadata": {},
   "outputs": [
    {
     "data": {
      "text/html": [
       "<div>\n",
       "<style scoped>\n",
       "    .dataframe tbody tr th:only-of-type {\n",
       "        vertical-align: middle;\n",
       "    }\n",
       "\n",
       "    .dataframe tbody tr th {\n",
       "        vertical-align: top;\n",
       "    }\n",
       "\n",
       "    .dataframe thead th {\n",
       "        text-align: right;\n",
       "    }\n",
       "</style>\n",
       "<table border=\"1\" class=\"dataframe\">\n",
       "  <thead>\n",
       "    <tr style=\"text-align: right;\">\n",
       "      <th></th>\n",
       "      <th>date</th>\n",
       "      <th>ordersPerDateA</th>\n",
       "      <th>revenuePerDateA</th>\n",
       "      <th>ordersPerDateB</th>\n",
       "      <th>revenuePerDateB</th>\n",
       "      <th>ordersCummulativeA</th>\n",
       "      <th>revenueCummulativeA</th>\n",
       "      <th>ordersCummulativeB</th>\n",
       "      <th>revenueCummulativeB</th>\n",
       "      <th>visitorsPerDateA</th>\n",
       "      <th>visitorsPerDateB</th>\n",
       "      <th>visitorsCummulativeA</th>\n",
       "      <th>visitorsCummulativeB</th>\n",
       "    </tr>\n",
       "  </thead>\n",
       "  <tbody>\n",
       "    <tr>\n",
       "      <th>0</th>\n",
       "      <td>2019-08-01</td>\n",
       "      <td>23</td>\n",
       "      <td>142779</td>\n",
       "      <td>17</td>\n",
       "      <td>59758</td>\n",
       "      <td>23</td>\n",
       "      <td>142779</td>\n",
       "      <td>17</td>\n",
       "      <td>59758</td>\n",
       "      <td>719</td>\n",
       "      <td>713</td>\n",
       "      <td>719</td>\n",
       "      <td>713</td>\n",
       "    </tr>\n",
       "    <tr>\n",
       "      <th>1</th>\n",
       "      <td>2019-08-02</td>\n",
       "      <td>19</td>\n",
       "      <td>91602</td>\n",
       "      <td>23</td>\n",
       "      <td>162043</td>\n",
       "      <td>42</td>\n",
       "      <td>234381</td>\n",
       "      <td>40</td>\n",
       "      <td>221801</td>\n",
       "      <td>619</td>\n",
       "      <td>581</td>\n",
       "      <td>1338</td>\n",
       "      <td>1294</td>\n",
       "    </tr>\n",
       "    <tr>\n",
       "      <th>2</th>\n",
       "      <td>2019-08-03</td>\n",
       "      <td>24</td>\n",
       "      <td>112473</td>\n",
       "      <td>14</td>\n",
       "      <td>67049</td>\n",
       "      <td>66</td>\n",
       "      <td>346854</td>\n",
       "      <td>54</td>\n",
       "      <td>288850</td>\n",
       "      <td>507</td>\n",
       "      <td>509</td>\n",
       "      <td>1845</td>\n",
       "      <td>1803</td>\n",
       "    </tr>\n",
       "    <tr>\n",
       "      <th>3</th>\n",
       "      <td>2019-08-04</td>\n",
       "      <td>11</td>\n",
       "      <td>41176</td>\n",
       "      <td>14</td>\n",
       "      <td>96890</td>\n",
       "      <td>77</td>\n",
       "      <td>388030</td>\n",
       "      <td>68</td>\n",
       "      <td>385740</td>\n",
       "      <td>717</td>\n",
       "      <td>770</td>\n",
       "      <td>2562</td>\n",
       "      <td>2573</td>\n",
       "    </tr>\n",
       "    <tr>\n",
       "      <th>4</th>\n",
       "      <td>2019-08-05</td>\n",
       "      <td>22</td>\n",
       "      <td>86383</td>\n",
       "      <td>21</td>\n",
       "      <td>89908</td>\n",
       "      <td>99</td>\n",
       "      <td>474413</td>\n",
       "      <td>89</td>\n",
       "      <td>475648</td>\n",
       "      <td>756</td>\n",
       "      <td>707</td>\n",
       "      <td>3318</td>\n",
       "      <td>3280</td>\n",
       "    </tr>\n",
       "  </tbody>\n",
       "</table>\n",
       "</div>"
      ],
      "text/plain": [
       "        date  ordersPerDateA  revenuePerDateA  ordersPerDateB  \\\n",
       "0 2019-08-01              23           142779              17   \n",
       "1 2019-08-02              19            91602              23   \n",
       "2 2019-08-03              24           112473              14   \n",
       "3 2019-08-04              11            41176              14   \n",
       "4 2019-08-05              22            86383              21   \n",
       "\n",
       "   revenuePerDateB  ordersCummulativeA  revenueCummulativeA  \\\n",
       "0            59758                  23               142779   \n",
       "1           162043                  42               234381   \n",
       "2            67049                  66               346854   \n",
       "3            96890                  77               388030   \n",
       "4            89908                  99               474413   \n",
       "\n",
       "   ordersCummulativeB  revenueCummulativeB  visitorsPerDateA  \\\n",
       "0                  17                59758               719   \n",
       "1                  40               221801               619   \n",
       "2                  54               288850               507   \n",
       "3                  68               385740               717   \n",
       "4                  89               475648               756   \n",
       "\n",
       "   visitorsPerDateB  visitorsCummulativeA  visitorsCummulativeB  \n",
       "0               713                   719                   713  \n",
       "1               581                  1338                  1294  \n",
       "2               509                  1845                  1803  \n",
       "3               770                  2562                  2573  \n",
       "4               707                  3318                  3280  "
      ]
     },
     "execution_count": 29,
     "metadata": {},
     "output_type": "execute_result"
    }
   ],
   "source": [
    "visitorsADaily = visitors[visitors['group'] == 'A'][['date', 'visitors']]\n",
    "visitorsADaily.columns = ['date', 'visitorsPerDateA']\n",
    "\n",
    "visitorsACummulative = visitorsADaily.apply(\n",
    "    lambda x: visitorsADaily[visitorsADaily['date'] <= x['date']].agg(\n",
    "        {'date': 'max', 'visitorsPerDateA': 'sum'}\n",
    "    ),\n",
    "    axis=1,\n",
    ")\n",
    "visitorsACummulative.columns = ['date', 'visitorsCummulativeA']\n",
    "\n",
    "visitorsBDaily = visitors[visitors['group'] == 'B'][['date', 'visitors']]\n",
    "visitorsBDaily.columns = ['date', 'visitorsPerDateB']\n",
    "\n",
    "visitorsBCummulative = visitorsBDaily.apply(\n",
    "    lambda x: visitorsBDaily[visitorsBDaily['date'] <= x['date']].agg(\n",
    "        {'date': 'max', 'visitorsPerDateB': 'sum'}\n",
    "    ),\n",
    "    axis=1,\n",
    ")\n",
    "visitorsBCummulative.columns = ['date', 'visitorsCummulativeB']\n",
    "\n",
    "ordersADaily = (\n",
    "    orders_new[orders_new['group'] == 'A'][['date', 'transactionId', 'visitorId', 'revenue']]\n",
    "    .groupby('date', as_index=False)\n",
    "    .agg({'transactionId': pd.Series.nunique, 'revenue': 'sum'})\n",
    ")\n",
    "ordersADaily.columns = ['date', 'ordersPerDateA', 'revenuePerDateA']\n",
    "\n",
    "ordersACummulative = ordersADaily.apply(\n",
    "    lambda x: ordersADaily[ordersADaily['date'] <= x['date']].agg(\n",
    "        {'date': 'max', 'ordersPerDateA': 'sum', 'revenuePerDateA': 'sum'}\n",
    "    ),\n",
    "    axis=1,\n",
    ").sort_values(by=['date'])\n",
    "ordersACummulative.columns = [\n",
    "    'date',\n",
    "    'ordersCummulativeA',\n",
    "    'revenueCummulativeA',\n",
    "]\n",
    "\n",
    "ordersBDaily = (\n",
    "    orders_new[orders_new['group'] == 'B'][['date', 'transactionId', 'visitorId', 'revenue']]\n",
    "    .groupby('date', as_index=False)\n",
    "    .agg({'transactionId': pd.Series.nunique, 'revenue': 'sum'})\n",
    ")\n",
    "ordersBDaily.columns = ['date', 'ordersPerDateB', 'revenuePerDateB']\n",
    "\n",
    "ordersBCummulative = ordersBDaily.apply(\n",
    "    lambda x: ordersBDaily[ordersBDaily['date'] <= x['date']].agg(\n",
    "        {'date': 'max', 'ordersPerDateB': 'sum', 'revenuePerDateB': 'sum'}\n",
    "    ),\n",
    "    axis=1,\n",
    ").sort_values(by=['date'])\n",
    "ordersBCummulative.columns = [\n",
    "    'date',\n",
    "    'ordersCummulativeB',\n",
    "    'revenueCummulativeB',\n",
    "]\n",
    "\n",
    "data = (\n",
    "    ordersADaily.merge(\n",
    "        ordersBDaily, left_on='date', right_on='date', how='left'\n",
    "    )\n",
    "    .merge(ordersACummulative, left_on='date', right_on='date', how='left')\n",
    "    .merge(ordersBCummulative, left_on='date', right_on='date', how='left')\n",
    "    .merge(visitorsADaily, left_on='date', right_on='date', how='left')\n",
    "    .merge(visitorsBDaily, left_on='date', right_on='date', how='left')\n",
    "    .merge(visitorsACummulative, left_on='date', right_on='date', how='left')\n",
    "    .merge(visitorsBCummulative, left_on='date', right_on='date', how='left')\n",
    ")\n",
    "\n",
    "data.head(5)"
   ]
  },
  {
   "cell_type": "markdown",
   "metadata": {},
   "source": [
    "##### Посчитаем статистическую значимость различия в среднем количестве заказов между группами по \"сырым\" данным"
   ]
  },
  {
   "cell_type": "markdown",
   "metadata": {},
   "source": [
    "Выполним проверку нулевой и альтернативной гипотез:\n",
    "   - Нулевая гипотеза: статистически значимых различий в среднем количестве заказов между группами нет\n",
    "   - Альтернативная гипотеза: статистически значимые различия в среднем числе заказов между группами есть.\n",
    "   \n",
    "**Применим статистический критерий Манна-Уитни к полученным выборкам, определим уровень статистической значимости как 0.05**"
   ]
  },
  {
   "cell_type": "code",
   "execution_count": 30,
   "metadata": {},
   "outputs": [
    {
     "name": "stdout",
     "output_type": "stream",
     "text": [
      "P-value: 0.0110\n",
      "\n",
      "Относительный прирост конверсии группы B по отношению к группе A: 0.1598\n",
      "По неочищенным данным в конверсии групп A и B разница статистически значима\n"
     ]
    }
   ],
   "source": [
    "# Создадим переменные ordersByUsersA и ordersByUsersB со столбцами ['userId', 'orders'].\n",
    "# В них для пользователей, которые заказывали хотя бы 1 раз, укажем число совершённых заказов. \n",
    "\n",
    "ordersByUsersA = (\n",
    "    orders_new[orders_new['group'] == 'A']\n",
    "    .groupby('visitorId', as_index=False)\n",
    "    .agg({'transactionId': pd.Series.nunique})\n",
    ")\n",
    "ordersByUsersA.columns = ['userId', 'orders']\n",
    "\n",
    "ordersByUsersB = (\n",
    "    orders_new[orders_new['group'] == 'B']\n",
    "    .groupby('visitorId', as_index=False)\n",
    "    .agg({'transactionId': pd.Series.nunique})\n",
    ")\n",
    "ordersByUsersB.columns = ['userId', 'orders'] \n",
    "\n",
    "#Объявим переменные sampleA и sampleB, в которых пользователям из разных групп будет соответствовать количество заказов\n",
    "\n",
    "sampleA = pd.concat(\n",
    "    [\n",
    "        ordersByUsersA['orders'],\n",
    "        pd.Series(\n",
    "            0,\n",
    "            index=np.arange(\n",
    "                data['visitorsPerDateA'].sum() - len(ordersByUsersA['orders'])\n",
    "            ),\n",
    "            name='orders',\n",
    "        ),\n",
    "    ],\n",
    "    axis=0,\n",
    ")\n",
    "\n",
    "sampleB = pd.concat(\n",
    "    [\n",
    "        ordersByUsersB['orders'],\n",
    "        pd.Series(\n",
    "            0,\n",
    "            index=np.arange(\n",
    "                data['visitorsPerDateB'].sum() - len(ordersByUsersB['orders'])\n",
    "            ),\n",
    "            name='orders',\n",
    "        ),\n",
    "    ],\n",
    "    axis=0,\n",
    ")\n",
    "\n",
    "# Применим критерий и отформатируем p-value, округлив его до 4 знаков после запятой.\n",
    "# Выведем относительный прирост среднего числа заказов группы B: среднее число заказов группы B / среднее число заказов группы A - 1. \n",
    "\n",
    "alpha = 0.05 \n",
    "\n",
    "results = stats.mannwhitneyu(sampleA, sampleB)\n",
    "\n",
    "print('P-value: {:.4f}'.format(results.pvalue))\n",
    "\n",
    "print('\\nОтносительный прирост конверсии группы B по отношению к группе A: {:.4f}'.format(sampleB.mean()/sampleA.mean()-1))\n",
    "\n",
    "if results.pvalue < alpha:\n",
    "    print('По неочищенным данным в конверсии групп A и B разница статистически значима')\n",
    "else:\n",
    "    print('По неочищенным данным различий в конверсии групп A и B нет')\n"
   ]
  },
  {
   "cell_type": "markdown",
   "metadata": {},
   "source": [
    "Значит, нулевую гипотезу о том, что статистически значимых различий в среднем числе заказов между группами нет, отвергаем.\n",
    "**По неочищенным данным в среднем числе заказов между группами имеются значитиельные статистически значимые различия.**"
   ]
  },
  {
   "cell_type": "markdown",
   "metadata": {},
   "source": [
    "#### Посчитаем статистическую значимость различий в среднем чеке заказа между группами по «сырым» данным. Сделайте выводы и предположения."
   ]
  },
  {
   "cell_type": "markdown",
   "metadata": {},
   "source": [
    "Выполним проверку нулевой и альтернативной гипотез:\n",
    "   - Нулевая гипотеза: статистически значимых различий в среднем чеке заказа между группами нет\n",
    "   - Альтернативная гипотеза: статистически значимые различия в среднем чеке заказа между группами есть."
   ]
  },
  {
   "cell_type": "code",
   "execution_count": 31,
   "metadata": {},
   "outputs": [
    {
     "name": "stdout",
     "output_type": "stream",
     "text": [
      "P-value: 0.8294908998149533\n",
      "Относительное изменение среднего чека в группе B по отношению к группе A: 0.287\n",
      "По неочищенным данным различий в средних чеках по группам A и B нет\n"
     ]
    }
   ],
   "source": [
    "# передадим критерию mannwhitneyu() данные о выручке с заказов. \n",
    "# а также найдём относительные различия в среднем чеке между группами:\n",
    "\n",
    "results = stats.mannwhitneyu(orders_new[orders_new['group']=='A']['revenue'], orders_new[orders_new['group']=='B']['revenue'])\n",
    "print('P-value: {}'.format(results.pvalue))\n",
    "\n",
    "print('Относительное изменение среднего чека в группе B по отношению к группе A: {0:.3f}'.format(orders_new[orders_new['group']=='B']['revenue']\\\n",
    "                       .mean()/orders_new[orders_new['group']=='A']['revenue'].mean()-1))\n",
    "\n",
    "if results.pvalue < alpha:\n",
    "    print('По неочищенным данным разница в средних чеках по группам A и B статистически значима')\n",
    "else:\n",
    "    print('По неочищенным данным различий в средних чеках по группам A и B нет')"
   ]
  },
  {
   "cell_type": "markdown",
   "metadata": {},
   "source": [
    "Нулевую гипотезу о том, что статистически значимых различий в среднем чеке заказа между группами нет, подтверждаем.\n",
    "**По неочищенным данным в среднем чеке заказа между группами статистически значимых различий нет.**"
   ]
  },
  {
   "cell_type": "markdown",
   "metadata": {},
   "source": [
    "#### Посчитайте статистическую значимость различий в среднем количестве заказов на посетителя между группами по «очищенным» данным. Сделайте выводы и предположения."
   ]
  },
  {
   "cell_type": "markdown",
   "metadata": {},
   "source": [
    "- Ранее мы выяснили, что подавляющее большинство пользователей не делает более 2 заказов и сумма 1 покупки в большинстве случаев не превышает 26785 руб. \n",
    "\n",
    "- Сделаем срезы пользователей с числом заказов больше 2 — usersWithManyOrders и пользователей, совершивших заказы дороже 26785 — usersWithExpensiveOrders. Объединим их в таблице abnormalUsers. \n",
    "- Узнаем, сколько всего аномальных пользователей."
   ]
  },
  {
   "cell_type": "code",
   "execution_count": 32,
   "metadata": {},
   "outputs": [
    {
     "name": "stdout",
     "output_type": "stream",
     "text": [
      "Количество \"аномальных\" пользователей 70\n"
     ]
    }
   ],
   "source": [
    "usersWithManyOrders = pd.concat(\n",
    "    [\n",
    "        ordersByUsersA[ordersByUsersA['orders'] > 2]['userId'],\n",
    "        ordersByUsersB[ordersByUsersB['orders'] > 2]['userId'],\n",
    "    ],\n",
    "    axis=0,\n",
    ")\n",
    "usersWithExpensiveOrders = orders[orders['revenue'] > 26785]['visitorId']\n",
    "abnormalUsers = (\n",
    "    pd.concat([usersWithManyOrders, usersWithExpensiveOrders], axis=0)\n",
    "    .drop_duplicates()\n",
    "    .sort_values()\n",
    ")\n",
    "\n",
    "print('Количество \"аномальных\" пользователей', abnormalUsers.shape[0]) "
   ]
  },
  {
   "cell_type": "markdown",
   "metadata": {},
   "source": [
    "Узнаем, как их действия повлияли на результаты теста. Посчитаем статистическую значимость различий в среднем количестве заказов между группами теста по очищенным данным. "
   ]
  },
  {
   "cell_type": "code",
   "execution_count": 33,
   "metadata": {},
   "outputs": [
    {
     "name": "stdout",
     "output_type": "stream",
     "text": [
      "P-value: 0.01235203801772639\n",
      "0.182\n",
      "По очищенным данным в конверсии групп A и B разница статистически значима\n"
     ]
    }
   ],
   "source": [
    "# подготовим выборки количества заказов по пользователям по группам теста:\n",
    "\n",
    "sampleAFiltered = pd.concat(\n",
    "    [\n",
    "        ordersByUsersA[\n",
    "            np.logical_not(ordersByUsersA['userId'].isin(abnormalUsers))\n",
    "        ]['orders'],\n",
    "        pd.Series(\n",
    "            0,\n",
    "            index=np.arange(\n",
    "                data['visitorsPerDateA'].sum() - len(ordersByUsersA['orders'])\n",
    "            ),\n",
    "            name='orders',\n",
    "        ),\n",
    "    ],\n",
    "    axis=0,\n",
    ")\n",
    "\n",
    "sampleBFiltered = pd.concat(\n",
    "    [\n",
    "        ordersByUsersB[\n",
    "            np.logical_not(ordersByUsersB['userId'].isin(abnormalUsers))\n",
    "        ]['orders'],\n",
    "        pd.Series(\n",
    "            0,\n",
    "            index=np.arange(\n",
    "                data['visitorsPerDateB'].sum() - len(ordersByUsersB['orders'])\n",
    "            ),\n",
    "            name='orders',\n",
    "        ),\n",
    "    ],\n",
    "    axis=0,\n",
    ") \n",
    "\n",
    "# Применим статистический критерий Манна-Уитни к полученным выборкам:\n",
    "\n",
    "results = stats.mannwhitneyu(sampleAFiltered, sampleBFiltered)\n",
    "print('P-value: {}'.format(results.pvalue))\n",
    "print('{0:.3f}'.format(sampleBFiltered.mean()/sampleAFiltered.mean()-1)) \n",
    "\n",
    "if results.pvalue < alpha:\n",
    "    print('По очищенным данным в конверсии групп A и B разница статистически значима')\n",
    "else:\n",
    "    print('По очищенным данным различий в конверсии групп A и B нет')"
   ]
  },
  {
   "cell_type": "markdown",
   "metadata": {},
   "source": [
    "#### Посчитайте статистическую значимость различий в среднем чеке заказа между группами по «очищенным» данным. Сделайте выводы и предположения."
   ]
  },
  {
   "cell_type": "code",
   "execution_count": 34,
   "metadata": {},
   "outputs": [
    {
     "name": "stdout",
     "output_type": "stream",
     "text": [
      "0.956\n",
      "-0.021\n"
     ]
    }
   ],
   "source": [
    "print(\n",
    "    '{0:.3f}'.format(\n",
    "        stats.mannwhitneyu(\n",
    "            orders[\n",
    "                np.logical_and(\n",
    "                    orders['group'] == 'A',\n",
    "                    np.logical_not(orders['visitorId'].isin(abnormalUsers)),\n",
    "                )\n",
    "            ]['revenue'],\n",
    "            orders[\n",
    "                np.logical_and(\n",
    "                    orders['group'] == 'B',\n",
    "                    np.logical_not(orders['visitorId'].isin(abnormalUsers)),\n",
    "                )\n",
    "            ]['revenue'],\n",
    "        )[1]\n",
    "    )\n",
    ")\n",
    "\n",
    "print(\n",
    "    \"{0:.3f}\".format(\n",
    "        orders[\n",
    "            np.logical_and(\n",
    "                orders['group'] == 'B',\n",
    "                np.logical_not(orders['visitorId'].isin(abnormalUsers)),\n",
    "            )\n",
    "        ]['revenue'].mean()\n",
    "        / orders[\n",
    "            np.logical_and(\n",
    "                orders['group'] == 'A',\n",
    "                np.logical_not(orders['visitorId'].isin(abnormalUsers)),\n",
    "            )\n",
    "        ]['revenue'].mean()\n",
    "        - 1\n",
    "    )\n",
    ") "
   ]
  },
  {
   "cell_type": "markdown",
   "metadata": {},
   "source": [
    "**По очищенным данным различий в средних чеках в группах A и B нет**"
   ]
  },
  {
   "cell_type": "markdown",
   "metadata": {},
   "source": [
    "### Вывод по результатам А/В теста"
   ]
  },
  {
   "cell_type": "markdown",
   "metadata": {},
   "source": [
    "Остановить тест, зафиксировать победу группы В."
   ]
  },
  {
   "cell_type": "markdown",
   "metadata": {},
   "source": [
    "Пояснение к выводу:\n",
    "\n",
    "1. Выборка данных имеет корректный размер.\n",
    "2. Кумулятивные метрики по выручке, среднему чеку и конверсии почти все время лидировали в группе B. \n",
    "3. После очистки разница между средними чеками между группами стала минимальна и так как до и после очистки данных показатель количества заказов в группе B составлял больше показателя в группе A - до очистки данных на 13,3% и после очистки на 14.9%, то\n",
    "\n",
    "данная **разница в количестве заказов между группами и до и после очистки данных является статистически значимой, что пользволяет нам сделать вывод о том, что мы можем A/B тест и зафиксировать победу группы B.**\n",
    "\n",
    "**Большее количество заказов обеспечит рост выручки**"
   ]
  },
  {
   "cell_type": "markdown",
   "metadata": {},
   "source": [
    "**Рекомендации:**\n",
    "- Отладить алгоритм показа одной и той же версии сайта для пользоваталей в зависимости от присвоенной им при первом посещении сайта группы на все время проведения А/В теста.\n",
    "- На основании результатов проведенного А/В теста рекомендуется внести изменения в форму сайта, на ту, которая демонстрировалась группе В, так как согласно результатам исследования это может увеличить количество заказов.\n",
    "\n",
    "\n",
    "**Также отметим, что при приоритезации гипотез среди тех, которые охватывают меньшее количество пользователей наиболее перспективными являются следующие (в порядке убывания приоритета):**\n",
    "- Запустить акцию, дающую скидку на товар в день рождения\t\n",
    "- Добавить два новых канала привлечения трафика, что позволит привлекать на 30% больше пользователей\n",
    "- Добавить форму подписки на все основные страницы, чтобы собрать базу клиентов для email-рассылок\n",
    "\n",
    "**Среди гипотез, имеющий больший охват пользователей являются, наиболее перспективные (в порядке убывания приоритета):**\n",
    "- Добавить форму подписки на все основные страницы, чтобы собрать базу клиентов для email-рассылок\t\n",
    "- Добавить блоки рекомендаций товаров на сайт интернет магазина, чтобы повысить конверсию и средний чек заказа\t\n",
    "- Добавить два новых канала привлечения трафика, что позволит привлекать на 30% больше пользователей\t"
   ]
  }
 ],
 "metadata": {
  "ExecuteTimeLog": [
   {
    "duration": 314,
    "start_time": "2023-03-21T12:57:33.074Z"
   },
   {
    "duration": 91,
    "start_time": "2023-03-21T12:57:33.651Z"
   },
   {
    "duration": 81,
    "start_time": "2023-03-21T12:58:00.681Z"
   },
   {
    "duration": 13,
    "start_time": "2023-03-21T12:58:03.557Z"
   },
   {
    "duration": 173,
    "start_time": "2023-03-21T12:59:30.091Z"
   },
   {
    "duration": 7,
    "start_time": "2023-03-21T12:59:30.959Z"
   },
   {
    "duration": 7,
    "start_time": "2023-03-21T12:59:46.392Z"
   },
   {
    "duration": 7,
    "start_time": "2023-03-21T12:59:47.011Z"
   },
   {
    "duration": 6,
    "start_time": "2023-03-21T12:59:47.673Z"
   },
   {
    "duration": 102,
    "start_time": "2023-03-21T19:48:04.445Z"
   },
   {
    "duration": 474,
    "start_time": "2023-03-21T19:48:11.615Z"
   },
   {
    "duration": 245,
    "start_time": "2023-03-21T19:48:12.092Z"
   },
   {
    "duration": 23,
    "start_time": "2023-03-21T19:48:12.339Z"
   },
   {
    "duration": 17,
    "start_time": "2023-03-21T19:48:12.364Z"
   },
   {
    "duration": 12,
    "start_time": "2023-03-21T19:48:12.383Z"
   },
   {
    "duration": 1578,
    "start_time": "2023-03-21T19:48:12.396Z"
   },
   {
    "duration": 24,
    "start_time": "2023-03-21T19:48:35.100Z"
   },
   {
    "duration": 9,
    "start_time": "2023-03-21T19:50:44.888Z"
   },
   {
    "duration": 438,
    "start_time": "2023-03-21T19:50:51.524Z"
   },
   {
    "duration": 82,
    "start_time": "2023-03-21T19:50:51.965Z"
   },
   {
    "duration": 21,
    "start_time": "2023-03-21T19:50:52.050Z"
   },
   {
    "duration": 16,
    "start_time": "2023-03-21T19:50:52.073Z"
   },
   {
    "duration": 20,
    "start_time": "2023-03-21T19:50:52.091Z"
   },
   {
    "duration": 33,
    "start_time": "2023-03-21T19:50:52.113Z"
   },
   {
    "duration": 13,
    "start_time": "2023-03-21T19:51:03.262Z"
   },
   {
    "duration": 73,
    "start_time": "2023-03-21T19:54:17.052Z"
   },
   {
    "duration": 22,
    "start_time": "2023-03-21T19:54:25.687Z"
   },
   {
    "duration": 1409,
    "start_time": "2023-03-21T19:54:54.557Z"
   },
   {
    "duration": 1454,
    "start_time": "2023-03-21T19:55:00.087Z"
   },
   {
    "duration": 13,
    "start_time": "2023-03-21T19:57:01.038Z"
   },
   {
    "duration": 13,
    "start_time": "2023-03-21T19:57:25.498Z"
   },
   {
    "duration": 8,
    "start_time": "2023-03-21T19:57:33.121Z"
   },
   {
    "duration": 12,
    "start_time": "2023-03-21T19:58:20.920Z"
   },
   {
    "duration": 11,
    "start_time": "2023-03-21T19:58:28.926Z"
   },
   {
    "duration": 15,
    "start_time": "2023-03-21T19:58:53.322Z"
   },
   {
    "duration": 13,
    "start_time": "2023-03-21T19:59:11.588Z"
   },
   {
    "duration": 115,
    "start_time": "2023-03-21T19:59:29.381Z"
   },
   {
    "duration": 14,
    "start_time": "2023-03-21T19:59:40.794Z"
   },
   {
    "duration": 9,
    "start_time": "2023-03-21T20:00:14.126Z"
   },
   {
    "duration": 32,
    "start_time": "2023-03-21T20:01:10.536Z"
   },
   {
    "duration": 15,
    "start_time": "2023-03-21T20:01:19.133Z"
   },
   {
    "duration": 17,
    "start_time": "2023-03-21T20:01:35.957Z"
   },
   {
    "duration": 12,
    "start_time": "2023-03-21T20:01:45.810Z"
   },
   {
    "duration": 1749,
    "start_time": "2023-03-21T20:03:16.589Z"
   },
   {
    "duration": 20,
    "start_time": "2023-03-21T20:03:42.592Z"
   },
   {
    "duration": 11,
    "start_time": "2023-03-21T20:05:45.319Z"
   },
   {
    "duration": 12,
    "start_time": "2023-03-21T20:06:25.192Z"
   },
   {
    "duration": 10,
    "start_time": "2023-03-21T20:07:25.729Z"
   },
   {
    "duration": 11,
    "start_time": "2023-03-21T20:07:42.074Z"
   },
   {
    "duration": 454,
    "start_time": "2023-03-21T20:09:19.039Z"
   },
   {
    "duration": 94,
    "start_time": "2023-03-21T20:09:19.496Z"
   },
   {
    "duration": 18,
    "start_time": "2023-03-21T20:09:19.592Z"
   },
   {
    "duration": 12,
    "start_time": "2023-03-21T20:09:19.611Z"
   },
   {
    "duration": 9,
    "start_time": "2023-03-21T20:09:19.626Z"
   },
   {
    "duration": 52,
    "start_time": "2023-03-21T20:09:19.637Z"
   },
   {
    "duration": 11,
    "start_time": "2023-03-21T20:09:19.691Z"
   },
   {
    "duration": 16,
    "start_time": "2023-03-21T20:09:19.703Z"
   },
   {
    "duration": 410,
    "start_time": "2023-03-21T20:10:21.019Z"
   },
   {
    "duration": 86,
    "start_time": "2023-03-21T20:10:21.431Z"
   },
   {
    "duration": 14,
    "start_time": "2023-03-21T20:10:21.519Z"
   },
   {
    "duration": 16,
    "start_time": "2023-03-21T20:10:21.535Z"
   },
   {
    "duration": 14,
    "start_time": "2023-03-21T20:10:21.554Z"
   },
   {
    "duration": 20,
    "start_time": "2023-03-21T20:10:21.571Z"
   },
   {
    "duration": 9,
    "start_time": "2023-03-21T20:10:21.593Z"
   },
   {
    "duration": 14,
    "start_time": "2023-03-21T20:10:21.603Z"
   },
   {
    "duration": 12,
    "start_time": "2023-03-21T20:10:21.618Z"
   },
   {
    "duration": 14,
    "start_time": "2023-03-21T20:11:33.202Z"
   },
   {
    "duration": 10,
    "start_time": "2023-03-21T20:11:36.384Z"
   },
   {
    "duration": 535,
    "start_time": "2023-03-21T20:20:13.392Z"
   },
   {
    "duration": 102,
    "start_time": "2023-03-21T20:20:43.088Z"
   },
   {
    "duration": 24,
    "start_time": "2023-03-21T20:20:52.139Z"
   },
   {
    "duration": 12,
    "start_time": "2023-03-21T20:21:16.583Z"
   },
   {
    "duration": 7,
    "start_time": "2023-03-21T20:22:17.834Z"
   },
   {
    "duration": 11,
    "start_time": "2023-03-21T20:23:01.699Z"
   },
   {
    "duration": 108,
    "start_time": "2023-03-21T20:25:23.408Z"
   },
   {
    "duration": 323,
    "start_time": "2023-03-21T20:27:07.454Z"
   },
   {
    "duration": 13,
    "start_time": "2023-03-21T20:29:04.795Z"
   },
   {
    "duration": 20,
    "start_time": "2023-03-21T20:29:18.603Z"
   },
   {
    "duration": 440,
    "start_time": "2023-03-21T20:31:40.084Z"
   },
   {
    "duration": 320,
    "start_time": "2023-03-21T20:32:10.070Z"
   },
   {
    "duration": 388,
    "start_time": "2023-03-21T20:32:42.250Z"
   },
   {
    "duration": 442,
    "start_time": "2023-03-21T20:32:59.668Z"
   },
   {
    "duration": 568,
    "start_time": "2023-03-21T20:34:04.875Z"
   },
   {
    "duration": 181,
    "start_time": "2023-03-21T20:34:37.384Z"
   },
   {
    "duration": 287,
    "start_time": "2023-03-21T20:34:57.356Z"
   },
   {
    "duration": 303,
    "start_time": "2023-03-21T20:36:10.083Z"
   },
   {
    "duration": 335,
    "start_time": "2023-03-21T20:36:19.579Z"
   },
   {
    "duration": 382,
    "start_time": "2023-03-21T20:36:27.243Z"
   },
   {
    "duration": 338,
    "start_time": "2023-03-21T20:37:28.336Z"
   },
   {
    "duration": 449,
    "start_time": "2023-03-21T20:37:36.353Z"
   },
   {
    "duration": 476,
    "start_time": "2023-03-21T20:37:44.600Z"
   },
   {
    "duration": 526,
    "start_time": "2023-03-21T20:37:52.499Z"
   },
   {
    "duration": 547,
    "start_time": "2023-03-21T20:39:02.299Z"
   },
   {
    "duration": 422,
    "start_time": "2023-03-21T20:39:57.390Z"
   },
   {
    "duration": 346,
    "start_time": "2023-03-21T20:40:37.787Z"
   },
   {
    "duration": 417,
    "start_time": "2023-03-21T20:43:15.319Z"
   },
   {
    "duration": 377,
    "start_time": "2023-03-21T20:43:53.998Z"
   },
   {
    "duration": 414,
    "start_time": "2023-03-21T20:44:30.183Z"
   },
   {
    "duration": 8,
    "start_time": "2023-03-21T20:50:17.399Z"
   },
   {
    "duration": 260,
    "start_time": "2023-03-21T20:50:55.277Z"
   },
   {
    "duration": 284,
    "start_time": "2023-03-21T20:51:51.612Z"
   },
   {
    "duration": 305,
    "start_time": "2023-03-21T20:52:16.996Z"
   },
   {
    "duration": 511,
    "start_time": "2023-03-21T20:53:30.876Z"
   },
   {
    "duration": 518,
    "start_time": "2023-03-21T20:53:43.652Z"
   },
   {
    "duration": 469,
    "start_time": "2023-03-21T20:54:12.318Z"
   },
   {
    "duration": 3,
    "start_time": "2023-03-21T20:55:53.515Z"
   },
   {
    "duration": 9,
    "start_time": "2023-03-21T21:02:21.694Z"
   },
   {
    "duration": 26,
    "start_time": "2023-03-21T21:02:38.055Z"
   },
   {
    "duration": 21,
    "start_time": "2023-03-21T21:14:27.539Z"
   },
   {
    "duration": 407,
    "start_time": "2023-03-21T21:15:03.242Z"
   },
   {
    "duration": 368,
    "start_time": "2023-03-21T21:15:22.965Z"
   },
   {
    "duration": 453,
    "start_time": "2023-03-21T21:15:39.677Z"
   },
   {
    "duration": 389,
    "start_time": "2023-03-21T21:16:04.306Z"
   },
   {
    "duration": 301,
    "start_time": "2023-03-21T21:16:20.307Z"
   },
   {
    "duration": 473,
    "start_time": "2023-03-21T21:19:09.706Z"
   },
   {
    "duration": 606,
    "start_time": "2023-03-21T21:19:35.832Z"
   },
   {
    "duration": 601,
    "start_time": "2023-03-21T21:19:53.207Z"
   },
   {
    "duration": 429,
    "start_time": "2023-03-21T21:20:21.148Z"
   },
   {
    "duration": 450,
    "start_time": "2023-03-21T21:21:58.364Z"
   },
   {
    "duration": 429,
    "start_time": "2023-03-21T21:22:22.528Z"
   },
   {
    "duration": 15,
    "start_time": "2023-03-21T21:26:09.739Z"
   },
   {
    "duration": 10,
    "start_time": "2023-03-21T21:27:04.508Z"
   },
   {
    "duration": 23,
    "start_time": "2023-03-21T21:27:17.629Z"
   },
   {
    "duration": 16,
    "start_time": "2023-03-21T21:27:26.156Z"
   },
   {
    "duration": 1475,
    "start_time": "2023-03-21T21:28:05.869Z"
   },
   {
    "duration": 162,
    "start_time": "2023-03-21T21:28:27.149Z"
   },
   {
    "duration": 928,
    "start_time": "2023-03-24T20:10:18.645Z"
   },
   {
    "duration": 306,
    "start_time": "2023-03-24T20:10:19.576Z"
   },
   {
    "duration": 15,
    "start_time": "2023-03-24T20:10:19.884Z"
   },
   {
    "duration": 13,
    "start_time": "2023-03-24T20:10:19.902Z"
   },
   {
    "duration": 12,
    "start_time": "2023-03-24T20:10:19.918Z"
   },
   {
    "duration": 19,
    "start_time": "2023-03-24T20:10:19.932Z"
   },
   {
    "duration": 12,
    "start_time": "2023-03-24T20:10:19.953Z"
   },
   {
    "duration": 19,
    "start_time": "2023-03-24T20:10:19.967Z"
   },
   {
    "duration": 15,
    "start_time": "2023-03-24T20:10:19.988Z"
   },
   {
    "duration": 21,
    "start_time": "2023-03-24T20:10:20.005Z"
   },
   {
    "duration": 15,
    "start_time": "2023-03-24T20:10:20.033Z"
   },
   {
    "duration": 294,
    "start_time": "2023-03-24T20:10:20.050Z"
   },
   {
    "duration": 13,
    "start_time": "2023-03-24T20:10:20.346Z"
   },
   {
    "duration": 363,
    "start_time": "2023-03-24T20:10:20.363Z"
   },
   {
    "duration": 419,
    "start_time": "2023-03-24T20:10:20.728Z"
   },
   {
    "duration": 6,
    "start_time": "2023-03-24T20:10:21.149Z"
   },
   {
    "duration": 500,
    "start_time": "2023-03-24T20:10:21.157Z"
   },
   {
    "duration": 427,
    "start_time": "2023-03-24T20:10:21.659Z"
   },
   {
    "duration": 441,
    "start_time": "2023-03-24T20:10:22.088Z"
   },
   {
    "duration": 101,
    "start_time": "2023-03-24T20:10:22.534Z"
   },
   {
    "duration": 0,
    "start_time": "2023-03-24T20:10:22.637Z"
   },
   {
    "duration": 0,
    "start_time": "2023-03-24T20:10:22.639Z"
   },
   {
    "duration": 0,
    "start_time": "2023-03-24T20:10:22.641Z"
   },
   {
    "duration": 12,
    "start_time": "2023-03-24T20:12:02.571Z"
   },
   {
    "duration": 120,
    "start_time": "2023-03-24T20:12:04.086Z"
   },
   {
    "duration": 1241,
    "start_time": "2023-03-24T20:12:04.630Z"
   },
   {
    "duration": 5,
    "start_time": "2023-03-24T20:12:37.584Z"
   },
   {
    "duration": 4,
    "start_time": "2023-03-24T20:13:44.836Z"
   },
   {
    "duration": 5,
    "start_time": "2023-03-24T20:16:30.384Z"
   },
   {
    "duration": 147,
    "start_time": "2023-03-24T20:21:29.931Z"
   },
   {
    "duration": 237,
    "start_time": "2023-03-24T20:22:52.783Z"
   },
   {
    "duration": 259,
    "start_time": "2023-03-24T20:23:00.582Z"
   },
   {
    "duration": 241,
    "start_time": "2023-03-24T20:23:24.949Z"
   },
   {
    "duration": 139,
    "start_time": "2023-03-24T20:23:35.500Z"
   },
   {
    "duration": 120,
    "start_time": "2023-03-24T20:24:11.178Z"
   },
   {
    "duration": 126,
    "start_time": "2023-03-24T20:24:36.086Z"
   },
   {
    "duration": 2055,
    "start_time": "2023-03-24T20:25:04.213Z"
   },
   {
    "duration": 184,
    "start_time": "2023-03-24T20:26:05.292Z"
   },
   {
    "duration": 8,
    "start_time": "2023-03-24T20:29:01.687Z"
   },
   {
    "duration": 4,
    "start_time": "2023-03-24T20:29:05.981Z"
   },
   {
    "duration": 5,
    "start_time": "2023-03-24T20:29:48.537Z"
   },
   {
    "duration": 339,
    "start_time": "2023-03-24T20:38:17.685Z"
   },
   {
    "duration": 75,
    "start_time": "2023-03-24T20:39:04.709Z"
   },
   {
    "duration": 435,
    "start_time": "2023-03-24T20:39:47.951Z"
   },
   {
    "duration": 199,
    "start_time": "2023-03-24T20:40:26.817Z"
   },
   {
    "duration": 453,
    "start_time": "2023-03-24T20:40:53.082Z"
   },
   {
    "duration": 9,
    "start_time": "2023-03-24T20:41:28.258Z"
   },
   {
    "duration": 344,
    "start_time": "2023-03-24T20:41:54.425Z"
   },
   {
    "duration": 184,
    "start_time": "2023-03-24T20:42:22.279Z"
   },
   {
    "duration": 202,
    "start_time": "2023-03-24T20:43:03.271Z"
   },
   {
    "duration": 37,
    "start_time": "2023-03-24T20:45:27.377Z"
   },
   {
    "duration": 50,
    "start_time": "2023-03-24T20:46:37.431Z"
   },
   {
    "duration": 462,
    "start_time": "2023-03-24T20:47:10.081Z"
   },
   {
    "duration": 69,
    "start_time": "2023-03-24T20:47:15.971Z"
   },
   {
    "duration": 1149,
    "start_time": "2023-03-24T20:50:10.574Z"
   },
   {
    "duration": 78,
    "start_time": "2023-03-24T20:50:11.726Z"
   },
   {
    "duration": 14,
    "start_time": "2023-03-24T20:50:11.805Z"
   },
   {
    "duration": 19,
    "start_time": "2023-03-24T20:50:11.820Z"
   },
   {
    "duration": 9,
    "start_time": "2023-03-24T20:50:11.842Z"
   },
   {
    "duration": 19,
    "start_time": "2023-03-24T20:50:11.852Z"
   },
   {
    "duration": 11,
    "start_time": "2023-03-24T20:50:11.872Z"
   },
   {
    "duration": 14,
    "start_time": "2023-03-24T20:50:11.885Z"
   },
   {
    "duration": 36,
    "start_time": "2023-03-24T20:50:11.901Z"
   },
   {
    "duration": 16,
    "start_time": "2023-03-24T20:50:11.939Z"
   },
   {
    "duration": 12,
    "start_time": "2023-03-24T20:50:11.957Z"
   },
   {
    "duration": 309,
    "start_time": "2023-03-24T20:50:11.971Z"
   },
   {
    "duration": 12,
    "start_time": "2023-03-24T20:50:12.282Z"
   },
   {
    "duration": 336,
    "start_time": "2023-03-24T20:50:12.297Z"
   },
   {
    "duration": 322,
    "start_time": "2023-03-24T20:50:12.635Z"
   },
   {
    "duration": 6,
    "start_time": "2023-03-24T20:50:12.959Z"
   },
   {
    "duration": 384,
    "start_time": "2023-03-24T20:50:12.967Z"
   },
   {
    "duration": 294,
    "start_time": "2023-03-24T20:50:13.353Z"
   },
   {
    "duration": 397,
    "start_time": "2023-03-24T20:50:13.648Z"
   },
   {
    "duration": 14,
    "start_time": "2023-03-24T20:50:14.047Z"
   },
   {
    "duration": 145,
    "start_time": "2023-03-24T20:50:14.063Z"
   },
   {
    "duration": 5,
    "start_time": "2023-03-24T20:50:14.209Z"
   },
   {
    "duration": 157,
    "start_time": "2023-03-24T20:50:14.216Z"
   },
   {
    "duration": 5,
    "start_time": "2023-03-24T20:50:14.375Z"
   },
   {
    "duration": 198,
    "start_time": "2023-03-24T20:50:14.381Z"
   },
   {
    "duration": 1,
    "start_time": "2023-03-24T20:50:14.580Z"
   },
   {
    "duration": 8,
    "start_time": "2023-03-24T20:51:42.761Z"
   },
   {
    "duration": 9,
    "start_time": "2023-03-24T20:52:10.810Z"
   },
   {
    "duration": 151,
    "start_time": "2023-03-24T20:53:37.648Z"
   },
   {
    "duration": 293,
    "start_time": "2023-03-24T20:53:59.837Z"
   },
   {
    "duration": 17,
    "start_time": "2023-03-24T20:54:05.862Z"
   },
   {
    "duration": 214,
    "start_time": "2023-03-24T20:55:29.390Z"
   },
   {
    "duration": 164,
    "start_time": "2023-03-24T20:56:21.830Z"
   },
   {
    "duration": 151,
    "start_time": "2023-03-24T20:56:28.166Z"
   },
   {
    "duration": 206,
    "start_time": "2023-03-24T20:56:52.147Z"
   },
   {
    "duration": 188,
    "start_time": "2023-03-24T20:57:06.012Z"
   },
   {
    "duration": 11,
    "start_time": "2023-03-24T21:03:42.125Z"
   },
   {
    "duration": 10,
    "start_time": "2023-03-24T21:03:57.300Z"
   },
   {
    "duration": 92,
    "start_time": "2023-03-24T21:04:27.227Z"
   },
   {
    "duration": 10,
    "start_time": "2023-03-24T21:04:34.478Z"
   },
   {
    "duration": 11,
    "start_time": "2023-03-24T21:05:09.328Z"
   },
   {
    "duration": 4,
    "start_time": "2023-03-24T21:06:28.045Z"
   },
   {
    "duration": 156,
    "start_time": "2023-03-24T21:07:09.609Z"
   },
   {
    "duration": 5,
    "start_time": "2023-03-24T21:07:13.011Z"
   },
   {
    "duration": 17,
    "start_time": "2023-03-24T21:07:19.507Z"
   },
   {
    "duration": 13,
    "start_time": "2023-03-24T21:08:52.028Z"
   },
   {
    "duration": 11,
    "start_time": "2023-03-24T21:09:50.974Z"
   },
   {
    "duration": 82,
    "start_time": "2023-03-24T21:10:39.760Z"
   },
   {
    "duration": 11,
    "start_time": "2023-03-24T21:11:04.612Z"
   },
   {
    "duration": 12,
    "start_time": "2023-03-24T21:11:18.728Z"
   },
   {
    "duration": 1191,
    "start_time": "2023-03-24T21:18:26.291Z"
   },
   {
    "duration": 8,
    "start_time": "2023-03-24T21:19:02.285Z"
   },
   {
    "duration": 9,
    "start_time": "2023-03-24T21:19:13.288Z"
   },
   {
    "duration": 9,
    "start_time": "2023-03-24T21:20:02.390Z"
   },
   {
    "duration": 9,
    "start_time": "2023-03-24T21:21:28.372Z"
   },
   {
    "duration": 34,
    "start_time": "2023-03-24T21:22:00.926Z"
   },
   {
    "duration": 89,
    "start_time": "2023-03-24T21:23:40.327Z"
   },
   {
    "duration": 31,
    "start_time": "2023-03-24T21:23:53.337Z"
   },
   {
    "duration": 31,
    "start_time": "2023-03-24T21:24:17.325Z"
   },
   {
    "duration": 1445,
    "start_time": "2023-03-24T21:26:26.871Z"
   },
   {
    "duration": 19,
    "start_time": "2023-03-24T21:27:33.387Z"
   },
   {
    "duration": 41,
    "start_time": "2023-03-24T21:31:18.613Z"
   },
   {
    "duration": 33,
    "start_time": "2023-03-24T21:31:57.436Z"
   },
   {
    "duration": 17,
    "start_time": "2023-03-24T21:32:45.469Z"
   },
   {
    "duration": 3,
    "start_time": "2023-03-24T21:37:58.173Z"
   },
   {
    "duration": 16,
    "start_time": "2023-03-24T21:42:54.536Z"
   },
   {
    "duration": 6,
    "start_time": "2023-03-24T21:54:24.602Z"
   },
   {
    "duration": 1188,
    "start_time": "2023-03-24T21:54:31.367Z"
   },
   {
    "duration": 79,
    "start_time": "2023-03-24T21:54:32.557Z"
   },
   {
    "duration": 12,
    "start_time": "2023-03-24T21:54:32.638Z"
   },
   {
    "duration": 9,
    "start_time": "2023-03-24T21:54:32.653Z"
   },
   {
    "duration": 37,
    "start_time": "2023-03-24T21:54:32.664Z"
   },
   {
    "duration": 31,
    "start_time": "2023-03-24T21:54:32.703Z"
   },
   {
    "duration": 17,
    "start_time": "2023-03-24T21:54:32.736Z"
   },
   {
    "duration": 21,
    "start_time": "2023-03-24T21:54:32.755Z"
   },
   {
    "duration": 11,
    "start_time": "2023-03-24T21:54:32.778Z"
   },
   {
    "duration": 19,
    "start_time": "2023-03-24T21:54:32.793Z"
   },
   {
    "duration": 19,
    "start_time": "2023-03-24T21:54:32.814Z"
   },
   {
    "duration": 307,
    "start_time": "2023-03-24T21:54:32.835Z"
   },
   {
    "duration": 14,
    "start_time": "2023-03-24T21:54:33.145Z"
   },
   {
    "duration": 349,
    "start_time": "2023-03-24T21:54:33.162Z"
   },
   {
    "duration": 249,
    "start_time": "2023-03-24T21:54:33.513Z"
   },
   {
    "duration": 7,
    "start_time": "2023-03-24T21:54:33.763Z"
   },
   {
    "duration": 364,
    "start_time": "2023-03-24T21:54:33.771Z"
   },
   {
    "duration": 233,
    "start_time": "2023-03-24T21:54:34.137Z"
   },
   {
    "duration": 308,
    "start_time": "2023-03-24T21:54:34.371Z"
   },
   {
    "duration": 12,
    "start_time": "2023-03-24T21:54:34.681Z"
   },
   {
    "duration": 144,
    "start_time": "2023-03-24T21:54:34.694Z"
   },
   {
    "duration": 4,
    "start_time": "2023-03-24T21:54:34.840Z"
   },
   {
    "duration": 204,
    "start_time": "2023-03-24T21:54:34.846Z"
   },
   {
    "duration": 10,
    "start_time": "2023-03-24T21:54:35.054Z"
   },
   {
    "duration": 17,
    "start_time": "2023-03-24T21:54:35.066Z"
   },
   {
    "duration": 267,
    "start_time": "2023-03-24T21:54:35.085Z"
   },
   {
    "duration": 173,
    "start_time": "2023-03-24T21:54:35.354Z"
   },
   {
    "duration": 14,
    "start_time": "2023-03-24T21:54:35.535Z"
   },
   {
    "duration": 23,
    "start_time": "2023-03-24T21:54:35.552Z"
   },
   {
    "duration": 34,
    "start_time": "2023-03-24T21:54:35.577Z"
   },
   {
    "duration": 81,
    "start_time": "2023-03-24T21:54:35.613Z"
   },
   {
    "duration": 0,
    "start_time": "2023-03-24T21:54:35.696Z"
   },
   {
    "duration": 16,
    "start_time": "2023-03-24T21:54:44.467Z"
   },
   {
    "duration": 16,
    "start_time": "2023-03-24T21:57:21.177Z"
   },
   {
    "duration": 322,
    "start_time": "2023-03-24T21:58:33.417Z"
   },
   {
    "duration": 248,
    "start_time": "2023-03-24T22:02:55.918Z"
   },
   {
    "duration": 320,
    "start_time": "2023-03-24T22:03:08.698Z"
   },
   {
    "duration": 340,
    "start_time": "2023-03-24T22:03:13.017Z"
   },
   {
    "duration": 79,
    "start_time": "2023-03-24T22:05:20.031Z"
   },
   {
    "duration": 182,
    "start_time": "2023-03-24T22:12:59.685Z"
   },
   {
    "duration": 17,
    "start_time": "2023-03-24T22:14:42.632Z"
   },
   {
    "duration": 33,
    "start_time": "2023-03-24T22:16:38.153Z"
   },
   {
    "duration": 282,
    "start_time": "2023-03-24T22:22:27.300Z"
   },
   {
    "duration": 281,
    "start_time": "2023-03-24T22:37:46.301Z"
   },
   {
    "duration": 242,
    "start_time": "2023-03-24T22:45:33.399Z"
   },
   {
    "duration": 328,
    "start_time": "2023-03-24T22:45:41.464Z"
   },
   {
    "duration": 2,
    "start_time": "2023-03-24T22:46:51.834Z"
   },
   {
    "duration": 69,
    "start_time": "2023-03-24T22:47:37.410Z"
   },
   {
    "duration": 1186,
    "start_time": "2023-03-24T22:48:26.106Z"
   },
   {
    "duration": 79,
    "start_time": "2023-03-24T22:48:27.294Z"
   },
   {
    "duration": 11,
    "start_time": "2023-03-24T22:48:27.375Z"
   },
   {
    "duration": 13,
    "start_time": "2023-03-24T22:48:27.387Z"
   },
   {
    "duration": 35,
    "start_time": "2023-03-24T22:48:27.402Z"
   },
   {
    "duration": 7,
    "start_time": "2023-03-24T22:48:27.438Z"
   },
   {
    "duration": 15,
    "start_time": "2023-03-24T22:48:27.446Z"
   },
   {
    "duration": 6,
    "start_time": "2023-03-24T22:48:27.463Z"
   },
   {
    "duration": 11,
    "start_time": "2023-03-24T22:48:27.470Z"
   },
   {
    "duration": 14,
    "start_time": "2023-03-24T22:48:27.483Z"
   },
   {
    "duration": 288,
    "start_time": "2023-03-24T22:48:27.499Z"
   },
   {
    "duration": 5,
    "start_time": "2023-03-24T22:48:27.789Z"
   },
   {
    "duration": 274,
    "start_time": "2023-03-24T22:48:27.796Z"
   },
   {
    "duration": 12,
    "start_time": "2023-03-24T22:48:28.072Z"
   },
   {
    "duration": 284,
    "start_time": "2023-03-24T22:48:28.086Z"
   },
   {
    "duration": 206,
    "start_time": "2023-03-24T22:48:28.372Z"
   },
   {
    "duration": 6,
    "start_time": "2023-03-24T22:48:28.579Z"
   },
   {
    "duration": 313,
    "start_time": "2023-03-24T22:48:28.587Z"
   },
   {
    "duration": 231,
    "start_time": "2023-03-24T22:48:28.902Z"
   },
   {
    "duration": 314,
    "start_time": "2023-03-24T22:48:29.135Z"
   },
   {
    "duration": 11,
    "start_time": "2023-03-24T22:48:29.451Z"
   },
   {
    "duration": 127,
    "start_time": "2023-03-24T22:48:29.464Z"
   },
   {
    "duration": 4,
    "start_time": "2023-03-24T22:48:29.593Z"
   },
   {
    "duration": 236,
    "start_time": "2023-03-24T22:48:29.598Z"
   },
   {
    "duration": 4,
    "start_time": "2023-03-24T22:48:29.835Z"
   },
   {
    "duration": 245,
    "start_time": "2023-03-24T22:48:29.841Z"
   },
   {
    "duration": 184,
    "start_time": "2023-03-24T22:48:30.088Z"
   },
   {
    "duration": 10,
    "start_time": "2023-03-24T22:48:30.274Z"
   },
   {
    "duration": 37,
    "start_time": "2023-03-24T22:48:30.286Z"
   },
   {
    "duration": 45,
    "start_time": "2023-03-24T22:48:30.325Z"
   },
   {
    "duration": 29,
    "start_time": "2023-03-24T22:48:30.372Z"
   },
   {
    "duration": 3,
    "start_time": "2023-03-24T22:49:32.011Z"
   },
   {
    "duration": 1142,
    "start_time": "2023-03-24T23:03:43.330Z"
   },
   {
    "duration": 78,
    "start_time": "2023-03-24T23:03:44.475Z"
   },
   {
    "duration": 11,
    "start_time": "2023-03-24T23:03:44.554Z"
   },
   {
    "duration": 15,
    "start_time": "2023-03-24T23:03:44.567Z"
   },
   {
    "duration": 31,
    "start_time": "2023-03-24T23:03:44.585Z"
   },
   {
    "duration": 14,
    "start_time": "2023-03-24T23:03:44.618Z"
   },
   {
    "duration": 18,
    "start_time": "2023-03-24T23:03:44.634Z"
   },
   {
    "duration": 9,
    "start_time": "2023-03-24T23:03:44.654Z"
   },
   {
    "duration": 13,
    "start_time": "2023-03-24T23:03:44.665Z"
   },
   {
    "duration": 14,
    "start_time": "2023-03-24T23:03:44.679Z"
   },
   {
    "duration": 323,
    "start_time": "2023-03-24T23:03:44.695Z"
   },
   {
    "duration": 14,
    "start_time": "2023-03-24T23:03:45.019Z"
   },
   {
    "duration": 298,
    "start_time": "2023-03-24T23:03:45.035Z"
   },
   {
    "duration": 14,
    "start_time": "2023-03-24T23:03:45.337Z"
   },
   {
    "duration": 337,
    "start_time": "2023-03-24T23:03:45.353Z"
   },
   {
    "duration": 253,
    "start_time": "2023-03-24T23:03:45.693Z"
   },
   {
    "duration": 6,
    "start_time": "2023-03-24T23:03:45.948Z"
   },
   {
    "duration": 330,
    "start_time": "2023-03-24T23:03:45.956Z"
   },
   {
    "duration": 261,
    "start_time": "2023-03-24T23:03:46.288Z"
   },
   {
    "duration": 348,
    "start_time": "2023-03-24T23:03:46.552Z"
   },
   {
    "duration": 16,
    "start_time": "2023-03-24T23:03:46.903Z"
   },
   {
    "duration": 155,
    "start_time": "2023-03-24T23:03:46.934Z"
   },
   {
    "duration": 5,
    "start_time": "2023-03-24T23:03:47.090Z"
   },
   {
    "duration": 262,
    "start_time": "2023-03-24T23:03:47.096Z"
   },
   {
    "duration": 5,
    "start_time": "2023-03-24T23:03:47.359Z"
   },
   {
    "duration": 259,
    "start_time": "2023-03-24T23:03:47.366Z"
   },
   {
    "duration": 185,
    "start_time": "2023-03-24T23:03:47.626Z"
   },
   {
    "duration": 23,
    "start_time": "2023-03-24T23:03:47.813Z"
   },
   {
    "duration": 9,
    "start_time": "2023-03-24T23:03:47.839Z"
   },
   {
    "duration": 31,
    "start_time": "2023-03-24T23:03:47.850Z"
   },
   {
    "duration": 16,
    "start_time": "2023-03-24T23:03:47.883Z"
   },
   {
    "duration": 1040,
    "start_time": "2023-03-25T10:19:02.909Z"
   },
   {
    "duration": 222,
    "start_time": "2023-03-25T10:19:03.950Z"
   },
   {
    "duration": 11,
    "start_time": "2023-03-25T10:19:04.173Z"
   },
   {
    "duration": 8,
    "start_time": "2023-03-25T10:19:04.185Z"
   },
   {
    "duration": 29,
    "start_time": "2023-03-25T10:19:04.195Z"
   },
   {
    "duration": 6,
    "start_time": "2023-03-25T10:19:04.225Z"
   },
   {
    "duration": 14,
    "start_time": "2023-03-25T10:19:04.233Z"
   },
   {
    "duration": 10,
    "start_time": "2023-03-25T10:19:04.248Z"
   },
   {
    "duration": 21,
    "start_time": "2023-03-25T10:19:04.259Z"
   },
   {
    "duration": 10,
    "start_time": "2023-03-25T10:19:04.282Z"
   },
   {
    "duration": 221,
    "start_time": "2023-03-25T10:19:04.294Z"
   },
   {
    "duration": 15,
    "start_time": "2023-03-25T10:19:04.517Z"
   },
   {
    "duration": 254,
    "start_time": "2023-03-25T10:19:04.541Z"
   },
   {
    "duration": 11,
    "start_time": "2023-03-25T10:19:04.798Z"
   },
   {
    "duration": 289,
    "start_time": "2023-03-25T10:19:04.810Z"
   },
   {
    "duration": 212,
    "start_time": "2023-03-25T10:19:05.101Z"
   },
   {
    "duration": 6,
    "start_time": "2023-03-25T10:19:05.314Z"
   },
   {
    "duration": 309,
    "start_time": "2023-03-25T10:19:05.321Z"
   },
   {
    "duration": 213,
    "start_time": "2023-03-25T10:19:05.632Z"
   },
   {
    "duration": 296,
    "start_time": "2023-03-25T10:19:05.847Z"
   },
   {
    "duration": 10,
    "start_time": "2023-03-25T10:19:06.145Z"
   },
   {
    "duration": 149,
    "start_time": "2023-03-25T10:19:06.157Z"
   },
   {
    "duration": 5,
    "start_time": "2023-03-25T10:19:06.307Z"
   },
   {
    "duration": 202,
    "start_time": "2023-03-25T10:19:06.314Z"
   },
   {
    "duration": 5,
    "start_time": "2023-03-25T10:19:06.518Z"
   },
   {
    "duration": 299,
    "start_time": "2023-03-25T10:19:06.525Z"
   },
   {
    "duration": 166,
    "start_time": "2023-03-25T10:19:06.826Z"
   },
   {
    "duration": 10,
    "start_time": "2023-03-25T10:19:06.993Z"
   },
   {
    "duration": 8,
    "start_time": "2023-03-25T10:19:07.004Z"
   },
   {
    "duration": 44,
    "start_time": "2023-03-25T10:19:07.013Z"
   },
   {
    "duration": 13,
    "start_time": "2023-03-25T10:19:07.058Z"
   },
   {
    "duration": 1933,
    "start_time": "2023-03-25T12:37:43.785Z"
   },
   {
    "duration": 398,
    "start_time": "2023-03-25T12:37:45.727Z"
   },
   {
    "duration": 29,
    "start_time": "2023-03-25T12:37:46.128Z"
   },
   {
    "duration": 71,
    "start_time": "2023-03-25T12:37:46.160Z"
   },
   {
    "duration": 130,
    "start_time": "2023-03-25T12:37:46.234Z"
   },
   {
    "duration": 43,
    "start_time": "2023-03-25T12:37:46.367Z"
   },
   {
    "duration": 96,
    "start_time": "2023-03-25T12:37:46.414Z"
   },
   {
    "duration": 18,
    "start_time": "2023-03-25T12:37:46.513Z"
   },
   {
    "duration": 68,
    "start_time": "2023-03-25T12:37:46.534Z"
   },
   {
    "duration": 12,
    "start_time": "2023-03-25T12:37:46.605Z"
   },
   {
    "duration": 480,
    "start_time": "2023-03-25T12:37:46.619Z"
   },
   {
    "duration": 12,
    "start_time": "2023-03-25T12:37:47.103Z"
   },
   {
    "duration": 408,
    "start_time": "2023-03-25T12:37:47.121Z"
   },
   {
    "duration": 22,
    "start_time": "2023-03-25T12:37:47.536Z"
   },
   {
    "duration": 458,
    "start_time": "2023-03-25T12:37:47.561Z"
   },
   {
    "duration": 297,
    "start_time": "2023-03-25T12:37:48.025Z"
   },
   {
    "duration": 17,
    "start_time": "2023-03-25T12:37:48.326Z"
   },
   {
    "duration": 411,
    "start_time": "2023-03-25T12:37:48.357Z"
   },
   {
    "duration": 299,
    "start_time": "2023-03-25T12:37:48.770Z"
   },
   {
    "duration": 385,
    "start_time": "2023-03-25T12:37:49.074Z"
   },
   {
    "duration": 17,
    "start_time": "2023-03-25T12:37:49.466Z"
   },
   {
    "duration": 225,
    "start_time": "2023-03-25T12:37:49.486Z"
   },
   {
    "duration": 7,
    "start_time": "2023-03-25T12:37:49.713Z"
   },
   {
    "duration": 345,
    "start_time": "2023-03-25T12:37:49.723Z"
   },
   {
    "duration": 10,
    "start_time": "2023-03-25T12:37:50.074Z"
   },
   {
    "duration": 379,
    "start_time": "2023-03-25T12:37:50.094Z"
   },
   {
    "duration": 343,
    "start_time": "2023-03-25T12:37:50.475Z"
   },
   {
    "duration": 51,
    "start_time": "2023-03-25T12:37:50.821Z"
   },
   {
    "duration": 19,
    "start_time": "2023-03-25T12:37:50.879Z"
   },
   {
    "duration": 53,
    "start_time": "2023-03-25T12:37:50.901Z"
   },
   {
    "duration": 25,
    "start_time": "2023-03-25T12:37:50.957Z"
   },
   {
    "duration": 12,
    "start_time": "2023-03-25T12:40:21.186Z"
   },
   {
    "duration": 17,
    "start_time": "2023-03-25T12:42:09.100Z"
   },
   {
    "duration": 16,
    "start_time": "2023-03-25T12:43:55.662Z"
   },
   {
    "duration": 15,
    "start_time": "2023-03-25T12:44:16.724Z"
   },
   {
    "duration": 358,
    "start_time": "2023-03-25T12:44:40.740Z"
   },
   {
    "duration": 9,
    "start_time": "2023-03-25T12:45:14.521Z"
   },
   {
    "duration": 13,
    "start_time": "2023-03-25T12:46:33.907Z"
   },
   {
    "duration": 10,
    "start_time": "2023-03-25T12:46:50.168Z"
   },
   {
    "duration": 11,
    "start_time": "2023-03-25T12:51:18.994Z"
   },
   {
    "duration": 19,
    "start_time": "2023-03-25T12:51:36.274Z"
   },
   {
    "duration": 12,
    "start_time": "2023-03-25T12:51:45.517Z"
   },
   {
    "duration": 227,
    "start_time": "2023-03-25T13:07:15.879Z"
   },
   {
    "duration": 205,
    "start_time": "2023-03-25T13:08:04.753Z"
   },
   {
    "duration": 176,
    "start_time": "2023-03-25T13:08:48.226Z"
   },
   {
    "duration": 375,
    "start_time": "2023-03-25T13:08:56.992Z"
   },
   {
    "duration": 201,
    "start_time": "2023-03-25T13:10:24.516Z"
   },
   {
    "duration": 189,
    "start_time": "2023-03-25T13:10:45.110Z"
   },
   {
    "duration": 197,
    "start_time": "2023-03-25T13:11:27.548Z"
   },
   {
    "duration": 15,
    "start_time": "2023-03-25T13:14:34.482Z"
   },
   {
    "duration": 18,
    "start_time": "2023-03-25T13:15:27.375Z"
   },
   {
    "duration": 115,
    "start_time": "2023-03-25T13:17:11.445Z"
   },
   {
    "duration": 24,
    "start_time": "2023-03-25T13:57:05.660Z"
   },
   {
    "duration": 121,
    "start_time": "2023-03-25T13:58:37.087Z"
   },
   {
    "duration": 13,
    "start_time": "2023-03-25T13:58:43.402Z"
   },
   {
    "duration": 7,
    "start_time": "2023-03-25T13:59:02.451Z"
   },
   {
    "duration": 10,
    "start_time": "2023-03-25T13:59:21.128Z"
   },
   {
    "duration": 107,
    "start_time": "2023-03-25T14:00:11.147Z"
   },
   {
    "duration": 10,
    "start_time": "2023-03-25T14:00:15.578Z"
   },
   {
    "duration": 7,
    "start_time": "2023-03-25T14:00:57.351Z"
   },
   {
    "duration": 27,
    "start_time": "2023-03-25T14:01:10.628Z"
   },
   {
    "duration": 29,
    "start_time": "2023-03-25T14:01:46.429Z"
   },
   {
    "duration": 21,
    "start_time": "2023-03-25T14:02:03.876Z"
   },
   {
    "duration": 28,
    "start_time": "2023-03-25T14:02:30.050Z"
   },
   {
    "duration": 21,
    "start_time": "2023-03-25T14:02:58.411Z"
   },
   {
    "duration": 15,
    "start_time": "2023-03-25T14:06:13.561Z"
   },
   {
    "duration": 16,
    "start_time": "2023-03-25T14:06:30.851Z"
   },
   {
    "duration": 20,
    "start_time": "2023-03-25T14:07:52.365Z"
   },
   {
    "duration": 32,
    "start_time": "2023-03-25T14:09:06.227Z"
   },
   {
    "duration": 15,
    "start_time": "2023-03-25T14:10:01.470Z"
   },
   {
    "duration": 1392,
    "start_time": "2023-03-25T14:10:24.055Z"
   },
   {
    "duration": 121,
    "start_time": "2023-03-25T14:10:25.450Z"
   },
   {
    "duration": 14,
    "start_time": "2023-03-25T14:10:25.573Z"
   },
   {
    "duration": 14,
    "start_time": "2023-03-25T14:10:25.589Z"
   },
   {
    "duration": 114,
    "start_time": "2023-03-25T14:10:25.605Z"
   },
   {
    "duration": 0,
    "start_time": "2023-03-25T14:10:25.722Z"
   },
   {
    "duration": 0,
    "start_time": "2023-03-25T14:10:25.724Z"
   },
   {
    "duration": 0,
    "start_time": "2023-03-25T14:10:25.726Z"
   },
   {
    "duration": 0,
    "start_time": "2023-03-25T14:10:25.727Z"
   },
   {
    "duration": 0,
    "start_time": "2023-03-25T14:10:25.728Z"
   },
   {
    "duration": 0,
    "start_time": "2023-03-25T14:10:25.730Z"
   },
   {
    "duration": 0,
    "start_time": "2023-03-25T14:10:25.731Z"
   },
   {
    "duration": 0,
    "start_time": "2023-03-25T14:10:25.732Z"
   },
   {
    "duration": 0,
    "start_time": "2023-03-25T14:10:25.733Z"
   },
   {
    "duration": 0,
    "start_time": "2023-03-25T14:10:25.734Z"
   },
   {
    "duration": 0,
    "start_time": "2023-03-25T14:10:25.735Z"
   },
   {
    "duration": 0,
    "start_time": "2023-03-25T14:10:25.735Z"
   },
   {
    "duration": 0,
    "start_time": "2023-03-25T14:10:25.736Z"
   },
   {
    "duration": 0,
    "start_time": "2023-03-25T14:10:25.737Z"
   },
   {
    "duration": 0,
    "start_time": "2023-03-25T14:10:25.738Z"
   },
   {
    "duration": 0,
    "start_time": "2023-03-25T14:10:25.739Z"
   },
   {
    "duration": 0,
    "start_time": "2023-03-25T14:10:25.740Z"
   },
   {
    "duration": 0,
    "start_time": "2023-03-25T14:10:25.741Z"
   },
   {
    "duration": 0,
    "start_time": "2023-03-25T14:10:25.742Z"
   },
   {
    "duration": 0,
    "start_time": "2023-03-25T14:10:25.743Z"
   },
   {
    "duration": 0,
    "start_time": "2023-03-25T14:10:25.743Z"
   },
   {
    "duration": 0,
    "start_time": "2023-03-25T14:10:25.744Z"
   },
   {
    "duration": 0,
    "start_time": "2023-03-25T14:10:25.745Z"
   },
   {
    "duration": 0,
    "start_time": "2023-03-25T14:10:25.746Z"
   },
   {
    "duration": 0,
    "start_time": "2023-03-25T14:10:25.747Z"
   },
   {
    "duration": 0,
    "start_time": "2023-03-25T14:10:25.748Z"
   },
   {
    "duration": 0,
    "start_time": "2023-03-25T14:10:25.750Z"
   },
   {
    "duration": 0,
    "start_time": "2023-03-25T14:10:25.751Z"
   },
   {
    "duration": 0,
    "start_time": "2023-03-25T14:10:25.752Z"
   },
   {
    "duration": 0,
    "start_time": "2023-03-25T14:10:25.753Z"
   },
   {
    "duration": 0,
    "start_time": "2023-03-25T14:10:25.754Z"
   },
   {
    "duration": 10,
    "start_time": "2023-03-25T14:10:38.790Z"
   },
   {
    "duration": 9,
    "start_time": "2023-03-25T14:10:39.006Z"
   },
   {
    "duration": 175,
    "start_time": "2023-03-25T14:10:39.197Z"
   },
   {
    "duration": 51,
    "start_time": "2023-03-25T14:10:39.569Z"
   },
   {
    "duration": 12,
    "start_time": "2023-03-25T14:10:39.706Z"
   },
   {
    "duration": 12,
    "start_time": "2023-03-25T14:10:40.726Z"
   },
   {
    "duration": 17,
    "start_time": "2023-03-25T14:10:40.975Z"
   },
   {
    "duration": 15,
    "start_time": "2023-03-25T14:11:03.962Z"
   },
   {
    "duration": 14,
    "start_time": "2023-03-25T14:11:27.028Z"
   },
   {
    "duration": 9,
    "start_time": "2023-03-25T14:12:04.351Z"
   },
   {
    "duration": 18,
    "start_time": "2023-03-25T14:12:11.995Z"
   },
   {
    "duration": 26,
    "start_time": "2023-03-25T14:12:24.730Z"
   },
   {
    "duration": 26,
    "start_time": "2023-03-25T14:12:53.320Z"
   },
   {
    "duration": 23,
    "start_time": "2023-03-25T14:13:51.514Z"
   },
   {
    "duration": 1451,
    "start_time": "2023-03-26T14:04:43.708Z"
   },
   {
    "duration": 238,
    "start_time": "2023-03-26T14:04:45.161Z"
   },
   {
    "duration": 14,
    "start_time": "2023-03-26T14:04:45.401Z"
   },
   {
    "duration": 38,
    "start_time": "2023-03-26T14:04:45.417Z"
   },
   {
    "duration": 30,
    "start_time": "2023-03-26T14:04:45.457Z"
   },
   {
    "duration": 9,
    "start_time": "2023-03-26T14:04:45.488Z"
   },
   {
    "duration": 127,
    "start_time": "2023-03-26T14:04:45.498Z"
   },
   {
    "duration": 0,
    "start_time": "2023-03-26T14:04:45.627Z"
   },
   {
    "duration": 0,
    "start_time": "2023-03-26T14:04:45.629Z"
   },
   {
    "duration": 0,
    "start_time": "2023-03-26T14:04:45.631Z"
   },
   {
    "duration": 0,
    "start_time": "2023-03-26T14:04:45.640Z"
   },
   {
    "duration": 0,
    "start_time": "2023-03-26T14:04:45.642Z"
   },
   {
    "duration": 0,
    "start_time": "2023-03-26T14:04:45.644Z"
   },
   {
    "duration": 1,
    "start_time": "2023-03-26T14:04:45.645Z"
   },
   {
    "duration": 0,
    "start_time": "2023-03-26T14:04:45.647Z"
   },
   {
    "duration": 0,
    "start_time": "2023-03-26T14:04:45.649Z"
   },
   {
    "duration": 0,
    "start_time": "2023-03-26T14:04:45.650Z"
   },
   {
    "duration": 0,
    "start_time": "2023-03-26T14:04:45.652Z"
   },
   {
    "duration": 0,
    "start_time": "2023-03-26T14:04:45.653Z"
   },
   {
    "duration": 0,
    "start_time": "2023-03-26T14:04:45.656Z"
   },
   {
    "duration": 0,
    "start_time": "2023-03-26T14:04:45.658Z"
   },
   {
    "duration": 0,
    "start_time": "2023-03-26T14:04:45.659Z"
   },
   {
    "duration": 0,
    "start_time": "2023-03-26T14:04:45.661Z"
   },
   {
    "duration": 0,
    "start_time": "2023-03-26T14:04:45.662Z"
   },
   {
    "duration": 0,
    "start_time": "2023-03-26T14:04:45.664Z"
   },
   {
    "duration": 0,
    "start_time": "2023-03-26T14:04:45.665Z"
   },
   {
    "duration": 0,
    "start_time": "2023-03-26T14:04:45.667Z"
   },
   {
    "duration": 0,
    "start_time": "2023-03-26T14:04:45.668Z"
   },
   {
    "duration": 0,
    "start_time": "2023-03-26T14:04:45.670Z"
   },
   {
    "duration": 0,
    "start_time": "2023-03-26T14:04:45.671Z"
   },
   {
    "duration": 0,
    "start_time": "2023-03-26T14:04:45.672Z"
   },
   {
    "duration": 0,
    "start_time": "2023-03-26T14:04:45.673Z"
   },
   {
    "duration": 0,
    "start_time": "2023-03-26T14:04:45.674Z"
   },
   {
    "duration": 0,
    "start_time": "2023-03-26T14:04:45.676Z"
   },
   {
    "duration": 0,
    "start_time": "2023-03-26T14:04:45.677Z"
   },
   {
    "duration": 16,
    "start_time": "2023-03-26T14:05:56.581Z"
   },
   {
    "duration": 8,
    "start_time": "2023-03-26T14:06:52.737Z"
   },
   {
    "duration": 14,
    "start_time": "2023-03-26T14:07:44.145Z"
   },
   {
    "duration": 18,
    "start_time": "2023-03-26T14:07:56.094Z"
   },
   {
    "duration": 10,
    "start_time": "2023-03-26T14:08:52.779Z"
   },
   {
    "duration": 20,
    "start_time": "2023-03-26T14:09:01.054Z"
   },
   {
    "duration": 13,
    "start_time": "2023-03-26T14:09:38.652Z"
   },
   {
    "duration": 13,
    "start_time": "2023-03-26T14:11:47.970Z"
   },
   {
    "duration": 15,
    "start_time": "2023-03-26T14:16:06.235Z"
   },
   {
    "duration": 13,
    "start_time": "2023-03-26T14:16:53.860Z"
   },
   {
    "duration": 15,
    "start_time": "2023-03-26T14:17:52.254Z"
   },
   {
    "duration": 25,
    "start_time": "2023-03-26T14:18:01.704Z"
   },
   {
    "duration": 18,
    "start_time": "2023-03-26T14:18:24.136Z"
   },
   {
    "duration": 10,
    "start_time": "2023-03-26T14:18:30.126Z"
   },
   {
    "duration": 8,
    "start_time": "2023-03-26T14:18:42.320Z"
   },
   {
    "duration": 23,
    "start_time": "2023-03-26T14:18:48.035Z"
   },
   {
    "duration": 15,
    "start_time": "2023-03-26T14:18:54.761Z"
   },
   {
    "duration": 20,
    "start_time": "2023-03-26T14:19:08.795Z"
   },
   {
    "duration": 4,
    "start_time": "2023-03-26T14:19:42.987Z"
   },
   {
    "duration": 21,
    "start_time": "2023-03-26T14:19:48.403Z"
   },
   {
    "duration": 16,
    "start_time": "2023-03-26T14:20:12.653Z"
   },
   {
    "duration": 14,
    "start_time": "2023-03-26T14:20:23.551Z"
   },
   {
    "duration": 19,
    "start_time": "2023-03-26T14:20:55.938Z"
   },
   {
    "duration": 1157,
    "start_time": "2023-03-26T14:21:03.676Z"
   },
   {
    "duration": 83,
    "start_time": "2023-03-26T14:21:04.835Z"
   },
   {
    "duration": 14,
    "start_time": "2023-03-26T14:21:04.920Z"
   },
   {
    "duration": 11,
    "start_time": "2023-03-26T14:21:04.936Z"
   },
   {
    "duration": 17,
    "start_time": "2023-03-26T14:21:04.949Z"
   },
   {
    "duration": 10,
    "start_time": "2023-03-26T14:21:04.968Z"
   },
   {
    "duration": 25,
    "start_time": "2023-03-26T14:21:04.980Z"
   },
   {
    "duration": 42,
    "start_time": "2023-03-26T14:21:05.007Z"
   },
   {
    "duration": 3,
    "start_time": "2023-03-26T14:21:05.051Z"
   },
   {
    "duration": 18,
    "start_time": "2023-03-26T14:21:05.057Z"
   },
   {
    "duration": 151,
    "start_time": "2023-03-26T14:21:05.078Z"
   },
   {
    "duration": 0,
    "start_time": "2023-03-26T14:21:05.232Z"
   },
   {
    "duration": 0,
    "start_time": "2023-03-26T14:21:05.243Z"
   },
   {
    "duration": 0,
    "start_time": "2023-03-26T14:21:05.244Z"
   },
   {
    "duration": 0,
    "start_time": "2023-03-26T14:21:05.246Z"
   },
   {
    "duration": 0,
    "start_time": "2023-03-26T14:21:05.247Z"
   },
   {
    "duration": 0,
    "start_time": "2023-03-26T14:21:05.248Z"
   },
   {
    "duration": 0,
    "start_time": "2023-03-26T14:21:05.249Z"
   },
   {
    "duration": 0,
    "start_time": "2023-03-26T14:21:05.251Z"
   },
   {
    "duration": 0,
    "start_time": "2023-03-26T14:21:05.252Z"
   },
   {
    "duration": 0,
    "start_time": "2023-03-26T14:21:05.254Z"
   },
   {
    "duration": 0,
    "start_time": "2023-03-26T14:21:05.255Z"
   },
   {
    "duration": 0,
    "start_time": "2023-03-26T14:21:05.257Z"
   },
   {
    "duration": 0,
    "start_time": "2023-03-26T14:21:05.258Z"
   },
   {
    "duration": 0,
    "start_time": "2023-03-26T14:21:05.259Z"
   },
   {
    "duration": 0,
    "start_time": "2023-03-26T14:21:05.260Z"
   },
   {
    "duration": 0,
    "start_time": "2023-03-26T14:21:05.262Z"
   },
   {
    "duration": 0,
    "start_time": "2023-03-26T14:21:05.263Z"
   },
   {
    "duration": 0,
    "start_time": "2023-03-26T14:21:05.264Z"
   },
   {
    "duration": 1,
    "start_time": "2023-03-26T14:21:05.265Z"
   },
   {
    "duration": 0,
    "start_time": "2023-03-26T14:21:05.267Z"
   },
   {
    "duration": 0,
    "start_time": "2023-03-26T14:21:05.268Z"
   },
   {
    "duration": 0,
    "start_time": "2023-03-26T14:21:05.270Z"
   },
   {
    "duration": 1,
    "start_time": "2023-03-26T14:21:05.271Z"
   },
   {
    "duration": 0,
    "start_time": "2023-03-26T14:21:05.273Z"
   },
   {
    "duration": 0,
    "start_time": "2023-03-26T14:21:05.276Z"
   },
   {
    "duration": 0,
    "start_time": "2023-03-26T14:21:05.278Z"
   },
   {
    "duration": 0,
    "start_time": "2023-03-26T14:21:05.279Z"
   },
   {
    "duration": 1,
    "start_time": "2023-03-26T14:21:05.280Z"
   },
   {
    "duration": 349,
    "start_time": "2023-03-26T14:21:38.285Z"
   },
   {
    "duration": 23,
    "start_time": "2023-03-26T14:21:43.870Z"
   },
   {
    "duration": 1250,
    "start_time": "2023-03-26T14:22:21.285Z"
   },
   {
    "duration": 80,
    "start_time": "2023-03-26T14:22:22.538Z"
   },
   {
    "duration": 13,
    "start_time": "2023-03-26T14:22:22.620Z"
   },
   {
    "duration": 19,
    "start_time": "2023-03-26T14:22:22.635Z"
   },
   {
    "duration": 32,
    "start_time": "2023-03-26T14:22:22.656Z"
   },
   {
    "duration": 10,
    "start_time": "2023-03-26T14:22:22.691Z"
   },
   {
    "duration": 16,
    "start_time": "2023-03-26T14:22:22.703Z"
   },
   {
    "duration": 30,
    "start_time": "2023-03-26T14:22:22.721Z"
   },
   {
    "duration": 3,
    "start_time": "2023-03-26T14:22:22.752Z"
   },
   {
    "duration": 18,
    "start_time": "2023-03-26T14:22:22.758Z"
   },
   {
    "duration": 156,
    "start_time": "2023-03-26T14:22:22.778Z"
   },
   {
    "duration": 0,
    "start_time": "2023-03-26T14:22:22.938Z"
   },
   {
    "duration": 1,
    "start_time": "2023-03-26T14:22:22.941Z"
   },
   {
    "duration": 0,
    "start_time": "2023-03-26T14:22:22.943Z"
   },
   {
    "duration": 0,
    "start_time": "2023-03-26T14:22:22.944Z"
   },
   {
    "duration": 0,
    "start_time": "2023-03-26T14:22:22.946Z"
   },
   {
    "duration": 0,
    "start_time": "2023-03-26T14:22:22.947Z"
   },
   {
    "duration": 0,
    "start_time": "2023-03-26T14:22:22.949Z"
   },
   {
    "duration": 0,
    "start_time": "2023-03-26T14:22:22.950Z"
   },
   {
    "duration": 0,
    "start_time": "2023-03-26T14:22:22.951Z"
   },
   {
    "duration": 0,
    "start_time": "2023-03-26T14:22:22.953Z"
   },
   {
    "duration": 0,
    "start_time": "2023-03-26T14:22:22.954Z"
   },
   {
    "duration": 0,
    "start_time": "2023-03-26T14:22:22.955Z"
   },
   {
    "duration": 0,
    "start_time": "2023-03-26T14:22:22.956Z"
   },
   {
    "duration": 0,
    "start_time": "2023-03-26T14:22:22.957Z"
   },
   {
    "duration": 0,
    "start_time": "2023-03-26T14:22:22.959Z"
   },
   {
    "duration": 0,
    "start_time": "2023-03-26T14:22:22.960Z"
   },
   {
    "duration": 0,
    "start_time": "2023-03-26T14:22:22.961Z"
   },
   {
    "duration": 0,
    "start_time": "2023-03-26T14:22:22.962Z"
   },
   {
    "duration": 0,
    "start_time": "2023-03-26T14:22:22.964Z"
   },
   {
    "duration": 0,
    "start_time": "2023-03-26T14:22:22.965Z"
   },
   {
    "duration": 0,
    "start_time": "2023-03-26T14:22:22.966Z"
   },
   {
    "duration": 0,
    "start_time": "2023-03-26T14:22:22.968Z"
   },
   {
    "duration": 0,
    "start_time": "2023-03-26T14:22:22.969Z"
   },
   {
    "duration": 0,
    "start_time": "2023-03-26T14:22:22.970Z"
   },
   {
    "duration": 0,
    "start_time": "2023-03-26T14:22:22.971Z"
   },
   {
    "duration": 0,
    "start_time": "2023-03-26T14:22:22.972Z"
   },
   {
    "duration": 0,
    "start_time": "2023-03-26T14:22:22.973Z"
   },
   {
    "duration": 0,
    "start_time": "2023-03-26T14:22:22.974Z"
   },
   {
    "duration": 17,
    "start_time": "2023-03-26T14:24:07.402Z"
   },
   {
    "duration": 23,
    "start_time": "2023-03-26T14:24:24.192Z"
   },
   {
    "duration": 1309,
    "start_time": "2023-03-26T14:24:30.429Z"
   },
   {
    "duration": 84,
    "start_time": "2023-03-26T14:24:31.742Z"
   },
   {
    "duration": 15,
    "start_time": "2023-03-26T14:24:31.828Z"
   },
   {
    "duration": 27,
    "start_time": "2023-03-26T14:24:31.845Z"
   },
   {
    "duration": 32,
    "start_time": "2023-03-26T14:24:31.874Z"
   },
   {
    "duration": 25,
    "start_time": "2023-03-26T14:24:31.907Z"
   },
   {
    "duration": 117,
    "start_time": "2023-03-26T14:24:31.935Z"
   },
   {
    "duration": 0,
    "start_time": "2023-03-26T14:24:32.055Z"
   },
   {
    "duration": 0,
    "start_time": "2023-03-26T14:24:32.057Z"
   },
   {
    "duration": 0,
    "start_time": "2023-03-26T14:24:32.058Z"
   },
   {
    "duration": 0,
    "start_time": "2023-03-26T14:24:32.059Z"
   },
   {
    "duration": 0,
    "start_time": "2023-03-26T14:24:32.060Z"
   },
   {
    "duration": 0,
    "start_time": "2023-03-26T14:24:32.061Z"
   },
   {
    "duration": 0,
    "start_time": "2023-03-26T14:24:32.062Z"
   },
   {
    "duration": 0,
    "start_time": "2023-03-26T14:24:32.062Z"
   },
   {
    "duration": 0,
    "start_time": "2023-03-26T14:24:32.064Z"
   },
   {
    "duration": 0,
    "start_time": "2023-03-26T14:24:32.067Z"
   },
   {
    "duration": 0,
    "start_time": "2023-03-26T14:24:32.069Z"
   },
   {
    "duration": 0,
    "start_time": "2023-03-26T14:24:32.070Z"
   },
   {
    "duration": 0,
    "start_time": "2023-03-26T14:24:32.072Z"
   },
   {
    "duration": 0,
    "start_time": "2023-03-26T14:24:32.073Z"
   },
   {
    "duration": 0,
    "start_time": "2023-03-26T14:24:32.075Z"
   },
   {
    "duration": 0,
    "start_time": "2023-03-26T14:24:32.076Z"
   },
   {
    "duration": 0,
    "start_time": "2023-03-26T14:24:32.078Z"
   },
   {
    "duration": 0,
    "start_time": "2023-03-26T14:24:32.079Z"
   },
   {
    "duration": 0,
    "start_time": "2023-03-26T14:24:32.081Z"
   },
   {
    "duration": 0,
    "start_time": "2023-03-26T14:24:32.082Z"
   },
   {
    "duration": 0,
    "start_time": "2023-03-26T14:24:32.084Z"
   },
   {
    "duration": 0,
    "start_time": "2023-03-26T14:24:32.085Z"
   },
   {
    "duration": 0,
    "start_time": "2023-03-26T14:24:32.086Z"
   },
   {
    "duration": 0,
    "start_time": "2023-03-26T14:24:32.087Z"
   },
   {
    "duration": 0,
    "start_time": "2023-03-26T14:24:32.088Z"
   },
   {
    "duration": 0,
    "start_time": "2023-03-26T14:24:32.089Z"
   },
   {
    "duration": 0,
    "start_time": "2023-03-26T14:24:32.143Z"
   },
   {
    "duration": 0,
    "start_time": "2023-03-26T14:24:32.144Z"
   },
   {
    "duration": 0,
    "start_time": "2023-03-26T14:24:32.145Z"
   },
   {
    "duration": 0,
    "start_time": "2023-03-26T14:24:32.147Z"
   },
   {
    "duration": 0,
    "start_time": "2023-03-26T14:24:32.148Z"
   },
   {
    "duration": 0,
    "start_time": "2023-03-26T14:24:32.150Z"
   },
   {
    "duration": 21,
    "start_time": "2023-03-26T14:25:17.853Z"
   },
   {
    "duration": 14,
    "start_time": "2023-03-26T14:25:51.868Z"
   },
   {
    "duration": 1338,
    "start_time": "2023-03-26T14:26:00.026Z"
   },
   {
    "duration": 80,
    "start_time": "2023-03-26T14:26:01.367Z"
   },
   {
    "duration": 13,
    "start_time": "2023-03-26T14:26:01.448Z"
   },
   {
    "duration": 48,
    "start_time": "2023-03-26T14:26:01.463Z"
   },
   {
    "duration": 42,
    "start_time": "2023-03-26T14:26:01.513Z"
   },
   {
    "duration": 42,
    "start_time": "2023-03-26T14:26:01.557Z"
   },
   {
    "duration": 27,
    "start_time": "2023-03-26T14:26:01.601Z"
   },
   {
    "duration": 25,
    "start_time": "2023-03-26T14:26:01.630Z"
   },
   {
    "duration": 25,
    "start_time": "2023-03-26T14:26:01.657Z"
   },
   {
    "duration": 39,
    "start_time": "2023-03-26T14:26:01.685Z"
   },
   {
    "duration": 129,
    "start_time": "2023-03-26T14:26:01.726Z"
   },
   {
    "duration": 0,
    "start_time": "2023-03-26T14:26:01.859Z"
   },
   {
    "duration": 0,
    "start_time": "2023-03-26T14:26:01.861Z"
   },
   {
    "duration": 0,
    "start_time": "2023-03-26T14:26:01.862Z"
   },
   {
    "duration": 0,
    "start_time": "2023-03-26T14:26:01.862Z"
   },
   {
    "duration": 0,
    "start_time": "2023-03-26T14:26:01.863Z"
   },
   {
    "duration": 0,
    "start_time": "2023-03-26T14:26:01.864Z"
   },
   {
    "duration": 0,
    "start_time": "2023-03-26T14:26:01.865Z"
   },
   {
    "duration": 0,
    "start_time": "2023-03-26T14:26:01.867Z"
   },
   {
    "duration": 0,
    "start_time": "2023-03-26T14:26:01.868Z"
   },
   {
    "duration": 0,
    "start_time": "2023-03-26T14:26:01.869Z"
   },
   {
    "duration": 0,
    "start_time": "2023-03-26T14:26:01.870Z"
   },
   {
    "duration": 0,
    "start_time": "2023-03-26T14:26:01.870Z"
   },
   {
    "duration": 0,
    "start_time": "2023-03-26T14:26:01.871Z"
   },
   {
    "duration": 0,
    "start_time": "2023-03-26T14:26:01.872Z"
   },
   {
    "duration": 0,
    "start_time": "2023-03-26T14:26:01.874Z"
   },
   {
    "duration": 0,
    "start_time": "2023-03-26T14:26:01.875Z"
   },
   {
    "duration": 0,
    "start_time": "2023-03-26T14:26:01.876Z"
   },
   {
    "duration": 0,
    "start_time": "2023-03-26T14:26:01.877Z"
   },
   {
    "duration": 0,
    "start_time": "2023-03-26T14:26:01.878Z"
   },
   {
    "duration": 0,
    "start_time": "2023-03-26T14:26:01.879Z"
   },
   {
    "duration": 0,
    "start_time": "2023-03-26T14:26:01.880Z"
   },
   {
    "duration": 0,
    "start_time": "2023-03-26T14:26:01.881Z"
   },
   {
    "duration": 0,
    "start_time": "2023-03-26T14:26:01.883Z"
   },
   {
    "duration": 0,
    "start_time": "2023-03-26T14:26:01.884Z"
   },
   {
    "duration": 0,
    "start_time": "2023-03-26T14:26:01.885Z"
   },
   {
    "duration": 0,
    "start_time": "2023-03-26T14:26:01.887Z"
   },
   {
    "duration": 0,
    "start_time": "2023-03-26T14:26:01.940Z"
   },
   {
    "duration": 0,
    "start_time": "2023-03-26T14:26:01.942Z"
   },
   {
    "duration": 333,
    "start_time": "2023-03-26T14:26:25.893Z"
   },
   {
    "duration": 14,
    "start_time": "2023-03-26T14:26:48.616Z"
   },
   {
    "duration": 1275,
    "start_time": "2023-03-26T14:27:00.974Z"
   },
   {
    "duration": 83,
    "start_time": "2023-03-26T14:27:02.252Z"
   },
   {
    "duration": 13,
    "start_time": "2023-03-26T14:27:02.337Z"
   },
   {
    "duration": 15,
    "start_time": "2023-03-26T14:27:02.354Z"
   },
   {
    "duration": 17,
    "start_time": "2023-03-26T14:27:02.372Z"
   },
   {
    "duration": 10,
    "start_time": "2023-03-26T14:27:02.392Z"
   },
   {
    "duration": 43,
    "start_time": "2023-03-26T14:27:02.405Z"
   },
   {
    "duration": 20,
    "start_time": "2023-03-26T14:27:02.451Z"
   },
   {
    "duration": 3,
    "start_time": "2023-03-26T14:27:02.473Z"
   },
   {
    "duration": 15,
    "start_time": "2023-03-26T14:27:02.479Z"
   },
   {
    "duration": 155,
    "start_time": "2023-03-26T14:27:02.496Z"
   },
   {
    "duration": 0,
    "start_time": "2023-03-26T14:27:02.655Z"
   },
   {
    "duration": 0,
    "start_time": "2023-03-26T14:27:02.656Z"
   },
   {
    "duration": 0,
    "start_time": "2023-03-26T14:27:02.658Z"
   },
   {
    "duration": 0,
    "start_time": "2023-03-26T14:27:02.659Z"
   },
   {
    "duration": 0,
    "start_time": "2023-03-26T14:27:02.660Z"
   },
   {
    "duration": 0,
    "start_time": "2023-03-26T14:27:02.661Z"
   },
   {
    "duration": 0,
    "start_time": "2023-03-26T14:27:02.662Z"
   },
   {
    "duration": 0,
    "start_time": "2023-03-26T14:27:02.664Z"
   },
   {
    "duration": 0,
    "start_time": "2023-03-26T14:27:02.665Z"
   },
   {
    "duration": 0,
    "start_time": "2023-03-26T14:27:02.667Z"
   },
   {
    "duration": 0,
    "start_time": "2023-03-26T14:27:02.668Z"
   },
   {
    "duration": 0,
    "start_time": "2023-03-26T14:27:02.670Z"
   },
   {
    "duration": 0,
    "start_time": "2023-03-26T14:27:02.671Z"
   },
   {
    "duration": 0,
    "start_time": "2023-03-26T14:27:02.673Z"
   },
   {
    "duration": 0,
    "start_time": "2023-03-26T14:27:02.674Z"
   },
   {
    "duration": 0,
    "start_time": "2023-03-26T14:27:02.676Z"
   },
   {
    "duration": 0,
    "start_time": "2023-03-26T14:27:02.677Z"
   },
   {
    "duration": 0,
    "start_time": "2023-03-26T14:27:02.679Z"
   },
   {
    "duration": 0,
    "start_time": "2023-03-26T14:27:02.680Z"
   },
   {
    "duration": 0,
    "start_time": "2023-03-26T14:27:02.681Z"
   },
   {
    "duration": 0,
    "start_time": "2023-03-26T14:27:02.683Z"
   },
   {
    "duration": 0,
    "start_time": "2023-03-26T14:27:02.684Z"
   },
   {
    "duration": 0,
    "start_time": "2023-03-26T14:27:02.686Z"
   },
   {
    "duration": 0,
    "start_time": "2023-03-26T14:27:02.687Z"
   },
   {
    "duration": 0,
    "start_time": "2023-03-26T14:27:02.689Z"
   },
   {
    "duration": 0,
    "start_time": "2023-03-26T14:27:02.742Z"
   },
   {
    "duration": 0,
    "start_time": "2023-03-26T14:27:02.744Z"
   },
   {
    "duration": 0,
    "start_time": "2023-03-26T14:27:02.745Z"
   },
   {
    "duration": 331,
    "start_time": "2023-03-26T14:27:16.756Z"
   },
   {
    "duration": 1210,
    "start_time": "2023-03-26T14:28:03.461Z"
   },
   {
    "duration": 79,
    "start_time": "2023-03-26T14:28:04.673Z"
   },
   {
    "duration": 13,
    "start_time": "2023-03-26T14:28:04.754Z"
   },
   {
    "duration": 9,
    "start_time": "2023-03-26T14:28:04.769Z"
   },
   {
    "duration": 14,
    "start_time": "2023-03-26T14:28:04.779Z"
   },
   {
    "duration": 10,
    "start_time": "2023-03-26T14:28:04.795Z"
   },
   {
    "duration": 35,
    "start_time": "2023-03-26T14:28:04.807Z"
   },
   {
    "duration": 108,
    "start_time": "2023-03-26T14:28:04.844Z"
   },
   {
    "duration": 0,
    "start_time": "2023-03-26T14:28:04.956Z"
   },
   {
    "duration": 0,
    "start_time": "2023-03-26T14:28:04.957Z"
   },
   {
    "duration": 0,
    "start_time": "2023-03-26T14:28:04.959Z"
   },
   {
    "duration": 0,
    "start_time": "2023-03-26T14:28:04.960Z"
   },
   {
    "duration": 0,
    "start_time": "2023-03-26T14:28:04.961Z"
   },
   {
    "duration": 0,
    "start_time": "2023-03-26T14:28:04.962Z"
   },
   {
    "duration": 0,
    "start_time": "2023-03-26T14:28:04.964Z"
   },
   {
    "duration": 0,
    "start_time": "2023-03-26T14:28:04.965Z"
   },
   {
    "duration": 0,
    "start_time": "2023-03-26T14:28:04.966Z"
   },
   {
    "duration": 0,
    "start_time": "2023-03-26T14:28:04.967Z"
   },
   {
    "duration": 0,
    "start_time": "2023-03-26T14:28:04.968Z"
   },
   {
    "duration": 0,
    "start_time": "2023-03-26T14:28:04.969Z"
   },
   {
    "duration": 0,
    "start_time": "2023-03-26T14:28:04.970Z"
   },
   {
    "duration": 0,
    "start_time": "2023-03-26T14:28:04.971Z"
   },
   {
    "duration": 0,
    "start_time": "2023-03-26T14:28:04.972Z"
   },
   {
    "duration": 0,
    "start_time": "2023-03-26T14:28:04.973Z"
   },
   {
    "duration": 0,
    "start_time": "2023-03-26T14:28:04.975Z"
   },
   {
    "duration": 0,
    "start_time": "2023-03-26T14:28:04.976Z"
   },
   {
    "duration": 0,
    "start_time": "2023-03-26T14:28:04.977Z"
   },
   {
    "duration": 0,
    "start_time": "2023-03-26T14:28:04.978Z"
   },
   {
    "duration": 0,
    "start_time": "2023-03-26T14:28:04.979Z"
   },
   {
    "duration": 0,
    "start_time": "2023-03-26T14:28:04.981Z"
   },
   {
    "duration": 0,
    "start_time": "2023-03-26T14:28:04.982Z"
   },
   {
    "duration": 0,
    "start_time": "2023-03-26T14:28:04.983Z"
   },
   {
    "duration": 0,
    "start_time": "2023-03-26T14:28:04.984Z"
   },
   {
    "duration": 0,
    "start_time": "2023-03-26T14:28:04.986Z"
   },
   {
    "duration": 0,
    "start_time": "2023-03-26T14:28:04.987Z"
   },
   {
    "duration": 0,
    "start_time": "2023-03-26T14:28:04.988Z"
   },
   {
    "duration": 0,
    "start_time": "2023-03-26T14:28:04.990Z"
   },
   {
    "duration": 0,
    "start_time": "2023-03-26T14:28:05.042Z"
   },
   {
    "duration": 0,
    "start_time": "2023-03-26T14:28:05.043Z"
   },
   {
    "duration": 11,
    "start_time": "2023-03-26T14:28:28.251Z"
   },
   {
    "duration": 1210,
    "start_time": "2023-03-26T14:28:47.436Z"
   },
   {
    "duration": 79,
    "start_time": "2023-03-26T14:28:48.648Z"
   },
   {
    "duration": 13,
    "start_time": "2023-03-26T14:28:48.732Z"
   },
   {
    "duration": 8,
    "start_time": "2023-03-26T14:28:48.747Z"
   },
   {
    "duration": 15,
    "start_time": "2023-03-26T14:28:48.757Z"
   },
   {
    "duration": 9,
    "start_time": "2023-03-26T14:28:48.774Z"
   },
   {
    "duration": 16,
    "start_time": "2023-03-26T14:28:48.785Z"
   },
   {
    "duration": 43,
    "start_time": "2023-03-26T14:28:48.803Z"
   },
   {
    "duration": 5,
    "start_time": "2023-03-26T14:28:48.849Z"
   },
   {
    "duration": 14,
    "start_time": "2023-03-26T14:28:48.859Z"
   },
   {
    "duration": 156,
    "start_time": "2023-03-26T14:28:48.875Z"
   },
   {
    "duration": 0,
    "start_time": "2023-03-26T14:28:49.033Z"
   },
   {
    "duration": 0,
    "start_time": "2023-03-26T14:28:49.041Z"
   },
   {
    "duration": 0,
    "start_time": "2023-03-26T14:28:49.043Z"
   },
   {
    "duration": 0,
    "start_time": "2023-03-26T14:28:49.044Z"
   },
   {
    "duration": 0,
    "start_time": "2023-03-26T14:28:49.045Z"
   },
   {
    "duration": 0,
    "start_time": "2023-03-26T14:28:49.046Z"
   },
   {
    "duration": 0,
    "start_time": "2023-03-26T14:28:49.047Z"
   },
   {
    "duration": 0,
    "start_time": "2023-03-26T14:28:49.048Z"
   },
   {
    "duration": 0,
    "start_time": "2023-03-26T14:28:49.049Z"
   },
   {
    "duration": 0,
    "start_time": "2023-03-26T14:28:49.050Z"
   },
   {
    "duration": 0,
    "start_time": "2023-03-26T14:28:49.051Z"
   },
   {
    "duration": 0,
    "start_time": "2023-03-26T14:28:49.051Z"
   },
   {
    "duration": 0,
    "start_time": "2023-03-26T14:28:49.052Z"
   },
   {
    "duration": 0,
    "start_time": "2023-03-26T14:28:49.054Z"
   },
   {
    "duration": 0,
    "start_time": "2023-03-26T14:28:49.055Z"
   },
   {
    "duration": 0,
    "start_time": "2023-03-26T14:28:49.057Z"
   },
   {
    "duration": 0,
    "start_time": "2023-03-26T14:28:49.059Z"
   },
   {
    "duration": 0,
    "start_time": "2023-03-26T14:28:49.060Z"
   },
   {
    "duration": 0,
    "start_time": "2023-03-26T14:28:49.062Z"
   },
   {
    "duration": 0,
    "start_time": "2023-03-26T14:28:49.063Z"
   },
   {
    "duration": 0,
    "start_time": "2023-03-26T14:28:49.065Z"
   },
   {
    "duration": 0,
    "start_time": "2023-03-26T14:28:49.066Z"
   },
   {
    "duration": 0,
    "start_time": "2023-03-26T14:28:49.068Z"
   },
   {
    "duration": 0,
    "start_time": "2023-03-26T14:28:49.069Z"
   },
   {
    "duration": 0,
    "start_time": "2023-03-26T14:28:49.070Z"
   },
   {
    "duration": 0,
    "start_time": "2023-03-26T14:28:49.072Z"
   },
   {
    "duration": 0,
    "start_time": "2023-03-26T14:28:49.074Z"
   },
   {
    "duration": 0,
    "start_time": "2023-03-26T14:28:49.075Z"
   },
   {
    "duration": 11,
    "start_time": "2023-03-26T14:33:46.352Z"
   },
   {
    "duration": 14,
    "start_time": "2023-03-26T14:34:14.507Z"
   },
   {
    "duration": 4,
    "start_time": "2023-03-26T14:35:47.069Z"
   },
   {
    "duration": 7,
    "start_time": "2023-03-26T14:36:03.068Z"
   },
   {
    "duration": 7,
    "start_time": "2023-03-26T14:36:34.751Z"
   },
   {
    "duration": 1276,
    "start_time": "2023-03-26T14:37:28.257Z"
   },
   {
    "duration": 81,
    "start_time": "2023-03-26T14:37:29.536Z"
   },
   {
    "duration": 14,
    "start_time": "2023-03-26T14:37:29.619Z"
   },
   {
    "duration": 11,
    "start_time": "2023-03-26T14:37:29.635Z"
   },
   {
    "duration": 21,
    "start_time": "2023-03-26T14:37:29.649Z"
   },
   {
    "duration": 10,
    "start_time": "2023-03-26T14:37:29.672Z"
   },
   {
    "duration": 16,
    "start_time": "2023-03-26T14:37:29.684Z"
   },
   {
    "duration": 5,
    "start_time": "2023-03-26T14:37:29.702Z"
   },
   {
    "duration": 32,
    "start_time": "2023-03-26T14:37:29.709Z"
   },
   {
    "duration": 13,
    "start_time": "2023-03-26T14:37:29.743Z"
   },
   {
    "duration": 184,
    "start_time": "2023-03-26T14:37:29.758Z"
   },
   {
    "duration": 0,
    "start_time": "2023-03-26T14:37:29.945Z"
   },
   {
    "duration": 0,
    "start_time": "2023-03-26T14:37:29.947Z"
   },
   {
    "duration": 0,
    "start_time": "2023-03-26T14:37:29.948Z"
   },
   {
    "duration": 0,
    "start_time": "2023-03-26T14:37:29.949Z"
   },
   {
    "duration": 0,
    "start_time": "2023-03-26T14:37:29.951Z"
   },
   {
    "duration": 0,
    "start_time": "2023-03-26T14:37:29.952Z"
   },
   {
    "duration": 0,
    "start_time": "2023-03-26T14:37:29.953Z"
   },
   {
    "duration": 0,
    "start_time": "2023-03-26T14:37:29.955Z"
   },
   {
    "duration": 0,
    "start_time": "2023-03-26T14:37:29.956Z"
   },
   {
    "duration": 0,
    "start_time": "2023-03-26T14:37:29.958Z"
   },
   {
    "duration": 0,
    "start_time": "2023-03-26T14:37:29.959Z"
   },
   {
    "duration": 0,
    "start_time": "2023-03-26T14:37:29.961Z"
   },
   {
    "duration": 0,
    "start_time": "2023-03-26T14:37:29.963Z"
   },
   {
    "duration": 0,
    "start_time": "2023-03-26T14:37:29.964Z"
   },
   {
    "duration": 0,
    "start_time": "2023-03-26T14:37:29.965Z"
   },
   {
    "duration": 0,
    "start_time": "2023-03-26T14:37:29.966Z"
   },
   {
    "duration": 0,
    "start_time": "2023-03-26T14:37:29.968Z"
   },
   {
    "duration": 0,
    "start_time": "2023-03-26T14:37:29.969Z"
   },
   {
    "duration": 0,
    "start_time": "2023-03-26T14:37:29.971Z"
   },
   {
    "duration": 0,
    "start_time": "2023-03-26T14:37:29.972Z"
   },
   {
    "duration": 0,
    "start_time": "2023-03-26T14:37:29.974Z"
   },
   {
    "duration": 0,
    "start_time": "2023-03-26T14:37:29.975Z"
   },
   {
    "duration": 0,
    "start_time": "2023-03-26T14:37:29.976Z"
   },
   {
    "duration": 0,
    "start_time": "2023-03-26T14:37:29.978Z"
   },
   {
    "duration": 0,
    "start_time": "2023-03-26T14:37:29.979Z"
   },
   {
    "duration": 0,
    "start_time": "2023-03-26T14:37:29.980Z"
   },
   {
    "duration": 0,
    "start_time": "2023-03-26T14:37:29.982Z"
   },
   {
    "duration": 0,
    "start_time": "2023-03-26T14:37:30.042Z"
   },
   {
    "duration": 8,
    "start_time": "2023-03-26T14:44:01.932Z"
   },
   {
    "duration": 9,
    "start_time": "2023-03-26T14:44:07.864Z"
   },
   {
    "duration": 14,
    "start_time": "2023-03-26T14:44:20.693Z"
   },
   {
    "duration": 8,
    "start_time": "2023-03-26T14:44:25.665Z"
   },
   {
    "duration": 19,
    "start_time": "2023-03-26T14:45:12.830Z"
   },
   {
    "duration": 5,
    "start_time": "2023-03-26T14:46:27.467Z"
   },
   {
    "duration": 9,
    "start_time": "2023-03-26T14:51:28.717Z"
   },
   {
    "duration": 21,
    "start_time": "2023-03-26T14:54:11.703Z"
   },
   {
    "duration": 21,
    "start_time": "2023-03-26T14:54:57.363Z"
   },
   {
    "duration": 17,
    "start_time": "2023-03-26T14:57:09.496Z"
   },
   {
    "duration": 1288,
    "start_time": "2023-03-26T14:59:19.036Z"
   },
   {
    "duration": 84,
    "start_time": "2023-03-26T14:59:20.326Z"
   },
   {
    "duration": 16,
    "start_time": "2023-03-26T14:59:20.412Z"
   },
   {
    "duration": 16,
    "start_time": "2023-03-26T14:59:20.431Z"
   },
   {
    "duration": 21,
    "start_time": "2023-03-26T14:59:20.451Z"
   },
   {
    "duration": 11,
    "start_time": "2023-03-26T14:59:20.474Z"
   },
   {
    "duration": 22,
    "start_time": "2023-03-26T14:59:20.487Z"
   },
   {
    "duration": 31,
    "start_time": "2023-03-26T14:59:20.511Z"
   },
   {
    "duration": 19,
    "start_time": "2023-03-26T14:59:20.544Z"
   },
   {
    "duration": 70,
    "start_time": "2023-03-26T14:59:20.566Z"
   },
   {
    "duration": 31,
    "start_time": "2023-03-26T14:59:20.638Z"
   },
   {
    "duration": 36,
    "start_time": "2023-03-26T14:59:20.671Z"
   },
   {
    "duration": 49,
    "start_time": "2023-03-26T14:59:20.710Z"
   },
   {
    "duration": 58,
    "start_time": "2023-03-26T14:59:20.761Z"
   },
   {
    "duration": 43,
    "start_time": "2023-03-26T14:59:20.821Z"
   },
   {
    "duration": 33,
    "start_time": "2023-03-26T14:59:20.866Z"
   },
   {
    "duration": 50,
    "start_time": "2023-03-26T14:59:20.902Z"
   },
   {
    "duration": 32,
    "start_time": "2023-03-26T14:59:20.955Z"
   },
   {
    "duration": 23,
    "start_time": "2023-03-26T14:59:20.989Z"
   },
   {
    "duration": 30,
    "start_time": "2023-03-26T14:59:21.014Z"
   },
   {
    "duration": 40,
    "start_time": "2023-03-26T14:59:21.046Z"
   },
   {
    "duration": 28,
    "start_time": "2023-03-26T14:59:21.089Z"
   },
   {
    "duration": 21,
    "start_time": "2023-03-26T14:59:21.119Z"
   },
   {
    "duration": 354,
    "start_time": "2023-03-26T14:59:21.142Z"
   },
   {
    "duration": 7,
    "start_time": "2023-03-26T14:59:21.499Z"
   },
   {
    "duration": 354,
    "start_time": "2023-03-26T14:59:21.509Z"
   },
   {
    "duration": 16,
    "start_time": "2023-03-26T14:59:21.866Z"
   },
   {
    "duration": 413,
    "start_time": "2023-03-26T14:59:21.888Z"
   },
   {
    "duration": 302,
    "start_time": "2023-03-26T14:59:22.303Z"
   },
   {
    "duration": 9,
    "start_time": "2023-03-26T14:59:22.608Z"
   },
   {
    "duration": 408,
    "start_time": "2023-03-26T14:59:22.618Z"
   },
   {
    "duration": 320,
    "start_time": "2023-03-26T14:59:23.028Z"
   },
   {
    "duration": 336,
    "start_time": "2023-03-26T14:59:23.350Z"
   },
   {
    "duration": 15,
    "start_time": "2023-03-26T14:59:23.688Z"
   },
   {
    "duration": 197,
    "start_time": "2023-03-26T14:59:23.705Z"
   },
   {
    "duration": 6,
    "start_time": "2023-03-26T14:59:23.905Z"
   },
   {
    "duration": 311,
    "start_time": "2023-03-26T14:59:23.913Z"
   },
   {
    "duration": 15,
    "start_time": "2023-03-26T14:59:24.226Z"
   },
   {
    "duration": 264,
    "start_time": "2023-03-26T14:59:24.244Z"
   },
   {
    "duration": 200,
    "start_time": "2023-03-26T14:59:24.510Z"
   },
   {
    "duration": 12,
    "start_time": "2023-03-26T14:59:24.712Z"
   },
   {
    "duration": 10,
    "start_time": "2023-03-26T14:59:24.741Z"
   },
   {
    "duration": 35,
    "start_time": "2023-03-26T14:59:24.753Z"
   },
   {
    "duration": 18,
    "start_time": "2023-03-26T14:59:24.790Z"
   },
   {
    "duration": 36,
    "start_time": "2023-03-26T15:01:35.700Z"
   },
   {
    "duration": 10,
    "start_time": "2023-03-26T15:01:57.125Z"
   },
   {
    "duration": 16,
    "start_time": "2023-03-26T15:02:52.513Z"
   },
   {
    "duration": 313,
    "start_time": "2023-03-26T15:04:38.891Z"
   },
   {
    "duration": 5,
    "start_time": "2023-03-26T15:04:51.680Z"
   },
   {
    "duration": 305,
    "start_time": "2023-03-26T15:05:15.003Z"
   },
   {
    "duration": 29,
    "start_time": "2023-03-26T15:05:32.830Z"
   },
   {
    "duration": 266,
    "start_time": "2023-03-26T15:05:41.982Z"
   },
   {
    "duration": 1302,
    "start_time": "2023-03-26T15:06:19.112Z"
   },
   {
    "duration": 92,
    "start_time": "2023-03-26T15:06:20.417Z"
   },
   {
    "duration": 12,
    "start_time": "2023-03-26T15:06:20.511Z"
   },
   {
    "duration": 53,
    "start_time": "2023-03-26T15:06:20.525Z"
   },
   {
    "duration": 44,
    "start_time": "2023-03-26T15:06:20.580Z"
   },
   {
    "duration": 9,
    "start_time": "2023-03-26T15:06:20.627Z"
   },
   {
    "duration": 39,
    "start_time": "2023-03-26T15:06:20.638Z"
   },
   {
    "duration": 7,
    "start_time": "2023-03-26T15:06:20.679Z"
   },
   {
    "duration": 18,
    "start_time": "2023-03-26T15:06:20.687Z"
   },
   {
    "duration": 22,
    "start_time": "2023-03-26T15:06:20.707Z"
   },
   {
    "duration": 22,
    "start_time": "2023-03-26T15:06:20.731Z"
   },
   {
    "duration": 17,
    "start_time": "2023-03-26T15:06:20.755Z"
   },
   {
    "duration": 40,
    "start_time": "2023-03-26T15:06:20.775Z"
   },
   {
    "duration": 33,
    "start_time": "2023-03-26T15:06:20.820Z"
   },
   {
    "duration": 34,
    "start_time": "2023-03-26T15:06:20.855Z"
   },
   {
    "duration": 19,
    "start_time": "2023-03-26T15:06:20.891Z"
   },
   {
    "duration": 52,
    "start_time": "2023-03-26T15:06:20.912Z"
   },
   {
    "duration": 9,
    "start_time": "2023-03-26T15:06:20.966Z"
   },
   {
    "duration": 38,
    "start_time": "2023-03-26T15:06:20.977Z"
   },
   {
    "duration": 33,
    "start_time": "2023-03-26T15:06:21.017Z"
   },
   {
    "duration": 23,
    "start_time": "2023-03-26T15:06:21.055Z"
   },
   {
    "duration": 16,
    "start_time": "2023-03-26T15:06:21.080Z"
   },
   {
    "duration": 332,
    "start_time": "2023-03-26T15:06:21.098Z"
   },
   {
    "duration": 15,
    "start_time": "2023-03-26T15:06:21.440Z"
   },
   {
    "duration": 402,
    "start_time": "2023-03-26T15:06:21.460Z"
   },
   {
    "duration": 130,
    "start_time": "2023-03-26T15:06:24.777Z"
   },
   {
    "duration": 45,
    "start_time": "2023-03-26T15:07:45.732Z"
   },
   {
    "duration": 22,
    "start_time": "2023-03-26T15:08:07.362Z"
   },
   {
    "duration": 328,
    "start_time": "2023-03-26T15:08:32.963Z"
   },
   {
    "duration": 16,
    "start_time": "2023-03-26T15:08:36.430Z"
   },
   {
    "duration": 17,
    "start_time": "2023-03-26T15:09:56.013Z"
   },
   {
    "duration": 17,
    "start_time": "2023-03-26T15:10:10.607Z"
   },
   {
    "duration": 20,
    "start_time": "2023-03-26T15:11:55.757Z"
   },
   {
    "duration": 282,
    "start_time": "2023-03-26T15:12:03.213Z"
   },
   {
    "duration": 220,
    "start_time": "2023-03-26T15:12:46.179Z"
   },
   {
    "duration": 7,
    "start_time": "2023-03-26T15:12:50.892Z"
   },
   {
    "duration": 326,
    "start_time": "2023-03-26T15:12:58.122Z"
   },
   {
    "duration": 234,
    "start_time": "2023-03-26T15:13:40.714Z"
   },
   {
    "duration": 352,
    "start_time": "2023-03-26T15:13:55.913Z"
   },
   {
    "duration": 12,
    "start_time": "2023-03-26T15:14:10.687Z"
   },
   {
    "duration": 250,
    "start_time": "2023-03-26T15:14:17.130Z"
   },
   {
    "duration": 4,
    "start_time": "2023-03-26T15:14:23.386Z"
   },
   {
    "duration": 157,
    "start_time": "2023-03-26T15:14:29.397Z"
   },
   {
    "duration": 6,
    "start_time": "2023-03-26T15:14:38.412Z"
   },
   {
    "duration": 1349,
    "start_time": "2023-03-26T15:14:45.613Z"
   },
   {
    "duration": 78,
    "start_time": "2023-03-26T15:14:46.965Z"
   },
   {
    "duration": 12,
    "start_time": "2023-03-26T15:14:47.045Z"
   },
   {
    "duration": 20,
    "start_time": "2023-03-26T15:14:47.060Z"
   },
   {
    "duration": 24,
    "start_time": "2023-03-26T15:14:47.082Z"
   },
   {
    "duration": 9,
    "start_time": "2023-03-26T15:14:47.108Z"
   },
   {
    "duration": 25,
    "start_time": "2023-03-26T15:14:47.119Z"
   },
   {
    "duration": 6,
    "start_time": "2023-03-26T15:14:47.147Z"
   },
   {
    "duration": 26,
    "start_time": "2023-03-26T15:14:47.154Z"
   },
   {
    "duration": 23,
    "start_time": "2023-03-26T15:14:47.182Z"
   },
   {
    "duration": 17,
    "start_time": "2023-03-26T15:14:47.207Z"
   },
   {
    "duration": 23,
    "start_time": "2023-03-26T15:14:47.226Z"
   },
   {
    "duration": 21,
    "start_time": "2023-03-26T15:14:47.252Z"
   },
   {
    "duration": 27,
    "start_time": "2023-03-26T15:14:47.275Z"
   },
   {
    "duration": 15,
    "start_time": "2023-03-26T15:14:47.305Z"
   },
   {
    "duration": 23,
    "start_time": "2023-03-26T15:14:47.322Z"
   },
   {
    "duration": 34,
    "start_time": "2023-03-26T15:14:47.347Z"
   },
   {
    "duration": 8,
    "start_time": "2023-03-26T15:14:47.383Z"
   },
   {
    "duration": 20,
    "start_time": "2023-03-26T15:14:47.393Z"
   },
   {
    "duration": 30,
    "start_time": "2023-03-26T15:14:47.414Z"
   },
   {
    "duration": 18,
    "start_time": "2023-03-26T15:14:47.446Z"
   },
   {
    "duration": 30,
    "start_time": "2023-03-26T15:14:47.466Z"
   },
   {
    "duration": 303,
    "start_time": "2023-03-26T15:14:47.498Z"
   },
   {
    "duration": 6,
    "start_time": "2023-03-26T15:14:47.803Z"
   },
   {
    "duration": 330,
    "start_time": "2023-03-26T15:14:47.811Z"
   },
   {
    "duration": 25,
    "start_time": "2023-03-26T15:14:48.143Z"
   },
   {
    "duration": 348,
    "start_time": "2023-03-26T15:14:48.170Z"
   },
   {
    "duration": 261,
    "start_time": "2023-03-26T15:14:48.523Z"
   },
   {
    "duration": 7,
    "start_time": "2023-03-26T15:14:48.786Z"
   },
   {
    "duration": 372,
    "start_time": "2023-03-26T15:14:48.796Z"
   },
   {
    "duration": 257,
    "start_time": "2023-03-26T15:14:49.170Z"
   },
   {
    "duration": 320,
    "start_time": "2023-03-26T15:14:49.429Z"
   },
   {
    "duration": 11,
    "start_time": "2023-03-26T15:14:49.751Z"
   },
   {
    "duration": 145,
    "start_time": "2023-03-26T15:14:49.764Z"
   },
   {
    "duration": 4,
    "start_time": "2023-03-26T15:14:49.911Z"
   },
   {
    "duration": 258,
    "start_time": "2023-03-26T15:14:49.917Z"
   },
   {
    "duration": 5,
    "start_time": "2023-03-26T15:14:50.177Z"
   },
   {
    "duration": 264,
    "start_time": "2023-03-26T15:14:50.183Z"
   },
   {
    "duration": 175,
    "start_time": "2023-03-26T15:14:50.448Z"
   },
   {
    "duration": 19,
    "start_time": "2023-03-26T15:14:50.625Z"
   },
   {
    "duration": 14,
    "start_time": "2023-03-26T15:14:50.646Z"
   },
   {
    "duration": 31,
    "start_time": "2023-03-26T15:14:50.662Z"
   },
   {
    "duration": 15,
    "start_time": "2023-03-26T15:14:50.695Z"
   },
   {
    "duration": 243,
    "start_time": "2023-03-26T15:16:42.811Z"
   },
   {
    "duration": 232,
    "start_time": "2023-03-26T15:16:50.315Z"
   },
   {
    "duration": 1243,
    "start_time": "2023-03-26T15:19:57.282Z"
   },
   {
    "duration": 83,
    "start_time": "2023-03-26T15:19:58.528Z"
   },
   {
    "duration": 18,
    "start_time": "2023-03-26T15:19:58.613Z"
   },
   {
    "duration": 12,
    "start_time": "2023-03-26T15:19:58.633Z"
   },
   {
    "duration": 15,
    "start_time": "2023-03-26T15:19:58.648Z"
   },
   {
    "duration": 13,
    "start_time": "2023-03-26T15:19:58.666Z"
   },
   {
    "duration": 18,
    "start_time": "2023-03-26T15:19:58.681Z"
   },
   {
    "duration": 40,
    "start_time": "2023-03-26T15:19:58.701Z"
   },
   {
    "duration": 10,
    "start_time": "2023-03-26T15:19:58.744Z"
   },
   {
    "duration": 24,
    "start_time": "2023-03-26T15:19:58.755Z"
   },
   {
    "duration": 19,
    "start_time": "2023-03-26T15:19:58.781Z"
   },
   {
    "duration": 12,
    "start_time": "2023-03-26T15:19:58.802Z"
   },
   {
    "duration": 42,
    "start_time": "2023-03-26T15:19:58.816Z"
   },
   {
    "duration": 25,
    "start_time": "2023-03-26T15:19:58.862Z"
   },
   {
    "duration": 20,
    "start_time": "2023-03-26T15:19:58.889Z"
   },
   {
    "duration": 26,
    "start_time": "2023-03-26T15:19:58.911Z"
   },
   {
    "duration": 44,
    "start_time": "2023-03-26T15:19:58.941Z"
   },
   {
    "duration": 17,
    "start_time": "2023-03-26T15:19:58.987Z"
   },
   {
    "duration": 36,
    "start_time": "2023-03-26T15:19:59.005Z"
   },
   {
    "duration": 18,
    "start_time": "2023-03-26T15:19:59.044Z"
   },
   {
    "duration": 23,
    "start_time": "2023-03-26T15:19:59.065Z"
   },
   {
    "duration": 39,
    "start_time": "2023-03-26T15:19:59.090Z"
   },
   {
    "duration": 353,
    "start_time": "2023-03-26T15:19:59.131Z"
   },
   {
    "duration": 6,
    "start_time": "2023-03-26T15:19:59.486Z"
   },
   {
    "duration": 419,
    "start_time": "2023-03-26T15:19:59.493Z"
   },
   {
    "duration": 29,
    "start_time": "2023-03-26T15:19:59.914Z"
   },
   {
    "duration": 344,
    "start_time": "2023-03-26T15:19:59.945Z"
   },
   {
    "duration": 272,
    "start_time": "2023-03-26T15:20:00.292Z"
   },
   {
    "duration": 11,
    "start_time": "2023-03-26T15:20:00.566Z"
   },
   {
    "duration": 443,
    "start_time": "2023-03-26T15:20:00.579Z"
   },
   {
    "duration": 307,
    "start_time": "2023-03-26T15:20:01.025Z"
   },
   {
    "duration": 350,
    "start_time": "2023-03-26T15:20:01.335Z"
   },
   {
    "duration": 17,
    "start_time": "2023-03-26T15:20:01.687Z"
   },
   {
    "duration": 265,
    "start_time": "2023-03-26T15:20:01.706Z"
   },
   {
    "duration": 6,
    "start_time": "2023-03-26T15:20:01.973Z"
   },
   {
    "duration": 335,
    "start_time": "2023-03-26T15:20:01.981Z"
   },
   {
    "duration": 8,
    "start_time": "2023-03-26T15:20:02.318Z"
   },
   {
    "duration": 354,
    "start_time": "2023-03-26T15:20:02.334Z"
   },
   {
    "duration": 207,
    "start_time": "2023-03-26T15:20:02.690Z"
   },
   {
    "duration": 13,
    "start_time": "2023-03-26T15:20:02.899Z"
   },
   {
    "duration": 31,
    "start_time": "2023-03-26T15:20:02.915Z"
   },
   {
    "duration": 46,
    "start_time": "2023-03-26T15:20:02.948Z"
   },
   {
    "duration": 19,
    "start_time": "2023-03-26T15:20:02.996Z"
   },
   {
    "duration": 1161,
    "start_time": "2023-03-26T15:21:03.183Z"
   },
   {
    "duration": 77,
    "start_time": "2023-03-26T15:21:04.346Z"
   },
   {
    "duration": 12,
    "start_time": "2023-03-26T15:21:04.425Z"
   },
   {
    "duration": 18,
    "start_time": "2023-03-26T15:21:04.439Z"
   },
   {
    "duration": 27,
    "start_time": "2023-03-26T15:21:04.460Z"
   },
   {
    "duration": 13,
    "start_time": "2023-03-26T15:21:04.489Z"
   },
   {
    "duration": 21,
    "start_time": "2023-03-26T15:21:04.504Z"
   },
   {
    "duration": 6,
    "start_time": "2023-03-26T15:21:04.527Z"
   },
   {
    "duration": 19,
    "start_time": "2023-03-26T15:21:04.535Z"
   },
   {
    "duration": 17,
    "start_time": "2023-03-26T15:21:04.555Z"
   },
   {
    "duration": 8,
    "start_time": "2023-03-26T15:21:04.573Z"
   },
   {
    "duration": 7,
    "start_time": "2023-03-26T15:21:04.583Z"
   },
   {
    "duration": 17,
    "start_time": "2023-03-26T15:21:04.591Z"
   },
   {
    "duration": 41,
    "start_time": "2023-03-26T15:21:04.611Z"
   },
   {
    "duration": 19,
    "start_time": "2023-03-26T15:21:04.653Z"
   },
   {
    "duration": 13,
    "start_time": "2023-03-26T15:21:04.674Z"
   },
   {
    "duration": 62,
    "start_time": "2023-03-26T15:21:04.689Z"
   },
   {
    "duration": 8,
    "start_time": "2023-03-26T15:21:04.753Z"
   },
   {
    "duration": 21,
    "start_time": "2023-03-26T15:21:04.762Z"
   },
   {
    "duration": 13,
    "start_time": "2023-03-26T15:21:04.785Z"
   },
   {
    "duration": 16,
    "start_time": "2023-03-26T15:21:04.800Z"
   },
   {
    "duration": 16,
    "start_time": "2023-03-26T15:21:04.840Z"
   },
   {
    "duration": 354,
    "start_time": "2023-03-26T15:21:04.858Z"
   },
   {
    "duration": 7,
    "start_time": "2023-03-26T15:21:05.214Z"
   },
   {
    "duration": 314,
    "start_time": "2023-03-26T15:21:05.224Z"
   },
   {
    "duration": 15,
    "start_time": "2023-03-26T15:21:05.540Z"
   },
   {
    "duration": 315,
    "start_time": "2023-03-26T15:21:05.558Z"
   },
   {
    "duration": 250,
    "start_time": "2023-03-26T15:21:05.876Z"
   },
   {
    "duration": 19,
    "start_time": "2023-03-26T15:21:06.128Z"
   },
   {
    "duration": 405,
    "start_time": "2023-03-26T15:21:06.150Z"
   },
   {
    "duration": 283,
    "start_time": "2023-03-26T15:21:06.558Z"
   },
   {
    "duration": 352,
    "start_time": "2023-03-26T15:21:06.843Z"
   },
   {
    "duration": 14,
    "start_time": "2023-03-26T15:21:07.197Z"
   },
   {
    "duration": 162,
    "start_time": "2023-03-26T15:21:07.213Z"
   },
   {
    "duration": 6,
    "start_time": "2023-03-26T15:21:07.377Z"
   },
   {
    "duration": 281,
    "start_time": "2023-03-26T15:21:07.384Z"
   },
   {
    "duration": 5,
    "start_time": "2023-03-26T15:21:07.667Z"
   },
   {
    "duration": 244,
    "start_time": "2023-03-26T15:21:07.674Z"
   },
   {
    "duration": 192,
    "start_time": "2023-03-26T15:21:07.921Z"
   },
   {
    "duration": 29,
    "start_time": "2023-03-26T15:21:08.116Z"
   },
   {
    "duration": 60,
    "start_time": "2023-03-26T15:21:08.150Z"
   },
   {
    "duration": 73,
    "start_time": "2023-03-26T15:21:08.212Z"
   },
   {
    "duration": 52,
    "start_time": "2023-03-26T15:21:08.287Z"
   },
   {
    "duration": 76,
    "start_time": "2023-03-26T17:55:55.315Z"
   },
   {
    "duration": 1452,
    "start_time": "2023-03-26T17:56:03.300Z"
   },
   {
    "duration": 221,
    "start_time": "2023-03-26T17:56:04.757Z"
   },
   {
    "duration": 19,
    "start_time": "2023-03-26T17:56:04.981Z"
   },
   {
    "duration": 18,
    "start_time": "2023-03-26T17:56:05.003Z"
   },
   {
    "duration": 34,
    "start_time": "2023-03-26T17:56:05.024Z"
   },
   {
    "duration": 39,
    "start_time": "2023-03-26T17:56:05.060Z"
   },
   {
    "duration": 63,
    "start_time": "2023-03-26T17:56:05.101Z"
   },
   {
    "duration": 21,
    "start_time": "2023-03-26T17:56:05.166Z"
   },
   {
    "duration": 37,
    "start_time": "2023-03-26T17:56:05.189Z"
   },
   {
    "duration": 43,
    "start_time": "2023-03-26T17:56:05.230Z"
   },
   {
    "duration": 21,
    "start_time": "2023-03-26T17:56:05.275Z"
   },
   {
    "duration": 31,
    "start_time": "2023-03-26T17:56:05.298Z"
   },
   {
    "duration": 44,
    "start_time": "2023-03-26T17:56:05.332Z"
   },
   {
    "duration": 39,
    "start_time": "2023-03-26T17:56:05.378Z"
   },
   {
    "duration": 24,
    "start_time": "2023-03-26T17:56:05.419Z"
   },
   {
    "duration": 24,
    "start_time": "2023-03-26T17:56:05.445Z"
   },
   {
    "duration": 45,
    "start_time": "2023-03-26T17:56:05.471Z"
   },
   {
    "duration": 11,
    "start_time": "2023-03-26T17:56:05.520Z"
   },
   {
    "duration": 38,
    "start_time": "2023-03-26T17:56:05.533Z"
   },
   {
    "duration": 42,
    "start_time": "2023-03-26T17:56:05.573Z"
   },
   {
    "duration": 46,
    "start_time": "2023-03-26T17:56:05.617Z"
   },
   {
    "duration": 50,
    "start_time": "2023-03-26T17:56:05.665Z"
   },
   {
    "duration": 312,
    "start_time": "2023-03-26T17:56:05.717Z"
   },
   {
    "duration": 8,
    "start_time": "2023-03-26T17:56:06.031Z"
   },
   {
    "duration": 316,
    "start_time": "2023-03-26T17:56:06.041Z"
   },
   {
    "duration": 16,
    "start_time": "2023-03-26T17:56:06.360Z"
   },
   {
    "duration": 348,
    "start_time": "2023-03-26T17:56:06.378Z"
   },
   {
    "duration": 243,
    "start_time": "2023-03-26T17:56:06.732Z"
   },
   {
    "duration": 7,
    "start_time": "2023-03-26T17:56:06.977Z"
   },
   {
    "duration": 397,
    "start_time": "2023-03-26T17:56:06.986Z"
   },
   {
    "duration": 242,
    "start_time": "2023-03-26T17:56:07.385Z"
   },
   {
    "duration": 347,
    "start_time": "2023-03-26T17:56:07.629Z"
   },
   {
    "duration": 13,
    "start_time": "2023-03-26T17:56:07.977Z"
   },
   {
    "duration": 166,
    "start_time": "2023-03-26T17:56:07.992Z"
   },
   {
    "duration": 9,
    "start_time": "2023-03-26T17:56:08.160Z"
   },
   {
    "duration": 253,
    "start_time": "2023-03-26T17:56:08.172Z"
   },
   {
    "duration": 5,
    "start_time": "2023-03-26T17:56:08.427Z"
   },
   {
    "duration": 245,
    "start_time": "2023-03-26T17:56:08.434Z"
   },
   {
    "duration": 205,
    "start_time": "2023-03-26T17:56:08.682Z"
   },
   {
    "duration": 13,
    "start_time": "2023-03-26T17:56:08.889Z"
   },
   {
    "duration": 10,
    "start_time": "2023-03-26T17:56:08.918Z"
   },
   {
    "duration": 36,
    "start_time": "2023-03-26T17:56:08.930Z"
   },
   {
    "duration": 15,
    "start_time": "2023-03-26T17:56:08.968Z"
   },
   {
    "duration": 131,
    "start_time": "2023-03-26T17:57:13.216Z"
   },
   {
    "duration": 131,
    "start_time": "2023-03-26T17:57:27.754Z"
   },
   {
    "duration": 163,
    "start_time": "2023-03-26T17:57:59.607Z"
   },
   {
    "duration": 5,
    "start_time": "2023-03-26T17:58:19.039Z"
   },
   {
    "duration": 239,
    "start_time": "2023-03-26T18:00:45.360Z"
   },
   {
    "duration": 168,
    "start_time": "2023-03-26T18:01:52.066Z"
   },
   {
    "duration": 17,
    "start_time": "2023-03-26T18:02:58.384Z"
   },
   {
    "duration": 9,
    "start_time": "2023-03-26T18:05:25.155Z"
   },
   {
    "duration": 54,
    "start_time": "2023-03-26T18:06:10.474Z"
   },
   {
    "duration": 16,
    "start_time": "2023-03-26T18:06:32.456Z"
   },
   {
    "duration": 117,
    "start_time": "2023-03-26T18:20:47.558Z"
   },
   {
    "duration": 130,
    "start_time": "2023-03-26T18:21:38.286Z"
   },
   {
    "duration": 1246,
    "start_time": "2023-03-26T18:22:32.477Z"
   },
   {
    "duration": 84,
    "start_time": "2023-03-26T18:22:33.727Z"
   },
   {
    "duration": 16,
    "start_time": "2023-03-26T18:22:33.813Z"
   },
   {
    "duration": 24,
    "start_time": "2023-03-26T18:22:33.831Z"
   },
   {
    "duration": 11,
    "start_time": "2023-03-26T18:22:33.857Z"
   },
   {
    "duration": 7,
    "start_time": "2023-03-26T18:22:33.870Z"
   },
   {
    "duration": 27,
    "start_time": "2023-03-26T18:22:33.879Z"
   },
   {
    "duration": 8,
    "start_time": "2023-03-26T18:22:33.918Z"
   },
   {
    "duration": 26,
    "start_time": "2023-03-26T18:22:33.928Z"
   },
   {
    "duration": 22,
    "start_time": "2023-03-26T18:22:33.957Z"
   },
   {
    "duration": 10,
    "start_time": "2023-03-26T18:22:33.982Z"
   },
   {
    "duration": 13,
    "start_time": "2023-03-26T18:22:33.994Z"
   },
   {
    "duration": 19,
    "start_time": "2023-03-26T18:22:34.008Z"
   },
   {
    "duration": 24,
    "start_time": "2023-03-26T18:22:34.031Z"
   },
   {
    "duration": 19,
    "start_time": "2023-03-26T18:22:34.057Z"
   },
   {
    "duration": 16,
    "start_time": "2023-03-26T18:22:34.078Z"
   },
   {
    "duration": 52,
    "start_time": "2023-03-26T18:22:34.096Z"
   },
   {
    "duration": 7,
    "start_time": "2023-03-26T18:22:34.150Z"
   },
   {
    "duration": 23,
    "start_time": "2023-03-26T18:22:34.160Z"
   },
   {
    "duration": 32,
    "start_time": "2023-03-26T18:22:34.185Z"
   },
   {
    "duration": 35,
    "start_time": "2023-03-26T18:22:34.221Z"
   },
   {
    "duration": 19,
    "start_time": "2023-03-26T18:22:34.258Z"
   },
   {
    "duration": 329,
    "start_time": "2023-03-26T18:22:34.279Z"
   },
   {
    "duration": 8,
    "start_time": "2023-03-26T18:22:34.617Z"
   },
   {
    "duration": 338,
    "start_time": "2023-03-26T18:22:34.630Z"
   },
   {
    "duration": 16,
    "start_time": "2023-03-26T18:22:34.970Z"
   },
   {
    "duration": 406,
    "start_time": "2023-03-26T18:22:34.987Z"
   },
   {
    "duration": 288,
    "start_time": "2023-03-26T18:22:35.395Z"
   },
   {
    "duration": 7,
    "start_time": "2023-03-26T18:22:35.685Z"
   },
   {
    "duration": 379,
    "start_time": "2023-03-26T18:22:35.694Z"
   },
   {
    "duration": 284,
    "start_time": "2023-03-26T18:22:36.075Z"
   },
   {
    "duration": 351,
    "start_time": "2023-03-26T18:22:36.362Z"
   },
   {
    "duration": 22,
    "start_time": "2023-03-26T18:22:36.718Z"
   },
   {
    "duration": 195,
    "start_time": "2023-03-26T18:22:36.743Z"
   },
   {
    "duration": 6,
    "start_time": "2023-03-26T18:22:36.940Z"
   },
   {
    "duration": 300,
    "start_time": "2023-03-26T18:22:36.948Z"
   },
   {
    "duration": 5,
    "start_time": "2023-03-26T18:22:37.250Z"
   },
   {
    "duration": 300,
    "start_time": "2023-03-26T18:22:37.257Z"
   },
   {
    "duration": 217,
    "start_time": "2023-03-26T18:22:37.559Z"
   },
   {
    "duration": 12,
    "start_time": "2023-03-26T18:22:37.778Z"
   },
   {
    "duration": 29,
    "start_time": "2023-03-26T18:22:37.795Z"
   },
   {
    "duration": 74,
    "start_time": "2023-03-26T18:22:37.827Z"
   },
   {
    "duration": 22,
    "start_time": "2023-03-26T18:22:37.903Z"
   },
   {
    "duration": 1496,
    "start_time": "2023-03-27T17:01:05.044Z"
   },
   {
    "duration": 257,
    "start_time": "2023-03-27T17:01:06.543Z"
   },
   {
    "duration": 12,
    "start_time": "2023-03-27T17:01:06.803Z"
   },
   {
    "duration": 21,
    "start_time": "2023-03-27T17:01:06.818Z"
   },
   {
    "duration": 18,
    "start_time": "2023-03-27T17:01:06.840Z"
   },
   {
    "duration": 18,
    "start_time": "2023-03-27T17:01:06.859Z"
   },
   {
    "duration": 18,
    "start_time": "2023-03-27T17:01:06.879Z"
   },
   {
    "duration": 5,
    "start_time": "2023-03-27T17:01:06.899Z"
   },
   {
    "duration": 9,
    "start_time": "2023-03-27T17:01:06.906Z"
   },
   {
    "duration": 17,
    "start_time": "2023-03-27T17:01:06.918Z"
   },
   {
    "duration": 29,
    "start_time": "2023-03-27T17:01:06.936Z"
   },
   {
    "duration": 10,
    "start_time": "2023-03-27T17:01:06.967Z"
   },
   {
    "duration": 18,
    "start_time": "2023-03-27T17:01:06.979Z"
   },
   {
    "duration": 17,
    "start_time": "2023-03-27T17:01:07.001Z"
   },
   {
    "duration": 15,
    "start_time": "2023-03-27T17:01:07.020Z"
   },
   {
    "duration": 47,
    "start_time": "2023-03-27T17:01:07.036Z"
   },
   {
    "duration": 36,
    "start_time": "2023-03-27T17:01:07.085Z"
   },
   {
    "duration": 16,
    "start_time": "2023-03-27T17:01:07.123Z"
   },
   {
    "duration": 45,
    "start_time": "2023-03-27T17:01:07.141Z"
   },
   {
    "duration": 24,
    "start_time": "2023-03-27T17:01:07.188Z"
   },
   {
    "duration": 15,
    "start_time": "2023-03-27T17:01:07.214Z"
   },
   {
    "duration": 12,
    "start_time": "2023-03-27T17:01:07.231Z"
   },
   {
    "duration": 296,
    "start_time": "2023-03-27T17:01:07.245Z"
   },
   {
    "duration": 6,
    "start_time": "2023-03-27T17:01:07.543Z"
   },
   {
    "duration": 335,
    "start_time": "2023-03-27T17:01:07.563Z"
   },
   {
    "duration": 16,
    "start_time": "2023-03-27T17:01:07.901Z"
   },
   {
    "duration": 323,
    "start_time": "2023-03-27T17:01:07.919Z"
   },
   {
    "duration": 264,
    "start_time": "2023-03-27T17:01:08.246Z"
   },
   {
    "duration": 8,
    "start_time": "2023-03-27T17:01:08.512Z"
   },
   {
    "duration": 391,
    "start_time": "2023-03-27T17:01:08.522Z"
   },
   {
    "duration": 245,
    "start_time": "2023-03-27T17:01:08.915Z"
   },
   {
    "duration": 331,
    "start_time": "2023-03-27T17:01:09.162Z"
   },
   {
    "duration": 10,
    "start_time": "2023-03-27T17:01:09.495Z"
   },
   {
    "duration": 157,
    "start_time": "2023-03-27T17:01:09.507Z"
   },
   {
    "duration": 4,
    "start_time": "2023-03-27T17:01:09.666Z"
   },
   {
    "duration": 262,
    "start_time": "2023-03-27T17:01:09.672Z"
   },
   {
    "duration": 7,
    "start_time": "2023-03-27T17:01:09.936Z"
   },
   {
    "duration": 259,
    "start_time": "2023-03-27T17:01:09.945Z"
   },
   {
    "duration": 204,
    "start_time": "2023-03-27T17:01:10.206Z"
   },
   {
    "duration": 12,
    "start_time": "2023-03-27T17:01:10.412Z"
   },
   {
    "duration": 27,
    "start_time": "2023-03-27T17:01:10.426Z"
   },
   {
    "duration": 68,
    "start_time": "2023-03-27T17:01:10.455Z"
   },
   {
    "duration": 13,
    "start_time": "2023-03-27T17:01:10.524Z"
   },
   {
    "duration": 12,
    "start_time": "2023-03-27T17:03:17.452Z"
   },
   {
    "duration": 1119,
    "start_time": "2023-05-26T14:11:37.667Z"
   },
   {
    "duration": 99,
    "start_time": "2023-05-26T14:11:38.788Z"
   },
   {
    "duration": 11,
    "start_time": "2023-05-26T14:11:38.888Z"
   },
   {
    "duration": 7,
    "start_time": "2023-05-26T14:11:38.901Z"
   },
   {
    "duration": 13,
    "start_time": "2023-05-26T14:11:38.910Z"
   },
   {
    "duration": 15,
    "start_time": "2023-05-26T14:11:38.924Z"
   },
   {
    "duration": 13,
    "start_time": "2023-05-26T14:11:38.941Z"
   },
   {
    "duration": 6,
    "start_time": "2023-05-26T14:11:38.955Z"
   },
   {
    "duration": 8,
    "start_time": "2023-05-26T14:11:38.979Z"
   },
   {
    "duration": 16,
    "start_time": "2023-05-26T14:11:38.988Z"
   },
   {
    "duration": 5,
    "start_time": "2023-05-26T14:11:39.005Z"
   },
   {
    "duration": 6,
    "start_time": "2023-05-26T14:11:39.012Z"
   },
   {
    "duration": 11,
    "start_time": "2023-05-26T14:11:39.019Z"
   },
   {
    "duration": 45,
    "start_time": "2023-05-26T14:11:39.034Z"
   },
   {
    "duration": 10,
    "start_time": "2023-05-26T14:11:39.081Z"
   },
   {
    "duration": 10,
    "start_time": "2023-05-26T14:11:39.092Z"
   },
   {
    "duration": 31,
    "start_time": "2023-05-26T14:11:39.103Z"
   },
   {
    "duration": 7,
    "start_time": "2023-05-26T14:11:39.136Z"
   },
   {
    "duration": 45,
    "start_time": "2023-05-26T14:11:39.144Z"
   },
   {
    "duration": 5,
    "start_time": "2023-05-26T14:11:39.191Z"
   },
   {
    "duration": 10,
    "start_time": "2023-05-26T14:11:39.197Z"
   },
   {
    "duration": 11,
    "start_time": "2023-05-26T14:11:39.208Z"
   },
   {
    "duration": 306,
    "start_time": "2023-05-26T14:11:39.221Z"
   },
   {
    "duration": 6,
    "start_time": "2023-05-26T14:11:39.529Z"
   },
   {
    "duration": 267,
    "start_time": "2023-05-26T14:11:39.537Z"
   },
   {
    "duration": 15,
    "start_time": "2023-05-26T14:11:39.806Z"
   },
   {
    "duration": 278,
    "start_time": "2023-05-26T14:11:39.822Z"
   },
   {
    "duration": 210,
    "start_time": "2023-05-26T14:11:40.102Z"
   },
   {
    "duration": 7,
    "start_time": "2023-05-26T14:11:40.314Z"
   },
   {
    "duration": 284,
    "start_time": "2023-05-26T14:11:40.322Z"
   },
   {
    "duration": 221,
    "start_time": "2023-05-26T14:11:40.608Z"
   },
   {
    "duration": 288,
    "start_time": "2023-05-26T14:11:40.831Z"
   },
   {
    "duration": 10,
    "start_time": "2023-05-26T14:11:41.121Z"
   },
   {
    "duration": 148,
    "start_time": "2023-05-26T14:11:41.133Z"
   },
   {
    "duration": 4,
    "start_time": "2023-05-26T14:11:41.283Z"
   },
   {
    "duration": 217,
    "start_time": "2023-05-26T14:11:41.289Z"
   },
   {
    "duration": 4,
    "start_time": "2023-05-26T14:11:41.508Z"
   },
   {
    "duration": 242,
    "start_time": "2023-05-26T14:11:41.514Z"
   },
   {
    "duration": 176,
    "start_time": "2023-05-26T14:11:41.758Z"
   },
   {
    "duration": 11,
    "start_time": "2023-05-26T14:11:41.935Z"
   },
   {
    "duration": 7,
    "start_time": "2023-05-26T14:11:41.949Z"
   },
   {
    "duration": 42,
    "start_time": "2023-05-26T14:11:41.977Z"
   },
   {
    "duration": 12,
    "start_time": "2023-05-26T14:11:42.021Z"
   },
   {
    "duration": 1167,
    "start_time": "2023-05-26T14:13:29.621Z"
   },
   {
    "duration": 84,
    "start_time": "2023-05-26T14:13:30.791Z"
   },
   {
    "duration": 28,
    "start_time": "2023-05-26T14:13:30.879Z"
   },
   {
    "duration": 9,
    "start_time": "2023-05-26T14:13:30.909Z"
   },
   {
    "duration": 20,
    "start_time": "2023-05-26T14:13:30.921Z"
   },
   {
    "duration": 24,
    "start_time": "2023-05-26T14:13:30.942Z"
   },
   {
    "duration": 34,
    "start_time": "2023-05-26T14:13:30.968Z"
   },
   {
    "duration": 14,
    "start_time": "2023-05-26T14:13:31.004Z"
   },
   {
    "duration": 32,
    "start_time": "2023-05-26T14:13:31.019Z"
   },
   {
    "duration": 46,
    "start_time": "2023-05-26T14:13:31.054Z"
   },
   {
    "duration": 10,
    "start_time": "2023-05-26T14:13:31.101Z"
   },
   {
    "duration": 16,
    "start_time": "2023-05-26T14:13:31.113Z"
   },
   {
    "duration": 53,
    "start_time": "2023-05-26T14:13:31.131Z"
   },
   {
    "duration": 28,
    "start_time": "2023-05-26T14:13:31.187Z"
   },
   {
    "duration": 27,
    "start_time": "2023-05-26T14:13:31.216Z"
   },
   {
    "duration": 58,
    "start_time": "2023-05-26T14:13:31.245Z"
   },
   {
    "duration": 48,
    "start_time": "2023-05-26T14:13:31.311Z"
   },
   {
    "duration": 10,
    "start_time": "2023-05-26T14:13:31.361Z"
   },
   {
    "duration": 32,
    "start_time": "2023-05-26T14:13:31.372Z"
   },
   {
    "duration": 7,
    "start_time": "2023-05-26T14:13:31.407Z"
   },
   {
    "duration": 30,
    "start_time": "2023-05-26T14:13:31.415Z"
   },
   {
    "duration": 42,
    "start_time": "2023-05-26T14:13:31.446Z"
   },
   {
    "duration": 317,
    "start_time": "2023-05-26T14:13:31.490Z"
   },
   {
    "duration": 6,
    "start_time": "2023-05-26T14:13:31.815Z"
   },
   {
    "duration": 318,
    "start_time": "2023-05-26T14:13:31.823Z"
   },
   {
    "duration": 13,
    "start_time": "2023-05-26T14:13:32.143Z"
   },
   {
    "duration": 303,
    "start_time": "2023-05-26T14:13:32.158Z"
   },
   {
    "duration": 233,
    "start_time": "2023-05-26T14:13:32.464Z"
   },
   {
    "duration": 8,
    "start_time": "2023-05-26T14:13:32.700Z"
   },
   {
    "duration": 303,
    "start_time": "2023-05-26T14:13:32.710Z"
   },
   {
    "duration": 239,
    "start_time": "2023-05-26T14:13:33.015Z"
   },
   {
    "duration": 360,
    "start_time": "2023-05-26T14:13:33.256Z"
   },
   {
    "duration": 14,
    "start_time": "2023-05-26T14:13:33.617Z"
   },
   {
    "duration": 161,
    "start_time": "2023-05-26T14:13:33.633Z"
   },
   {
    "duration": 4,
    "start_time": "2023-05-26T14:13:33.797Z"
   },
   {
    "duration": 249,
    "start_time": "2023-05-26T14:13:33.802Z"
   },
   {
    "duration": 5,
    "start_time": "2023-05-26T14:13:34.053Z"
   },
   {
    "duration": 260,
    "start_time": "2023-05-26T14:13:34.059Z"
   },
   {
    "duration": 199,
    "start_time": "2023-05-26T14:13:34.321Z"
   },
   {
    "duration": 12,
    "start_time": "2023-05-26T14:13:34.522Z"
   },
   {
    "duration": 8,
    "start_time": "2023-05-26T14:13:34.535Z"
   },
   {
    "duration": 80,
    "start_time": "2023-05-26T14:13:34.544Z"
   },
   {
    "duration": 15,
    "start_time": "2023-05-26T14:13:34.627Z"
   },
   {
    "duration": 1226,
    "start_time": "2023-05-26T16:54:07.527Z"
   },
   {
    "duration": 210,
    "start_time": "2023-05-26T16:54:08.756Z"
   },
   {
    "duration": 10,
    "start_time": "2023-05-26T16:54:08.968Z"
   },
   {
    "duration": 7,
    "start_time": "2023-05-26T16:54:08.979Z"
   },
   {
    "duration": 7,
    "start_time": "2023-05-26T16:54:08.988Z"
   },
   {
    "duration": 7,
    "start_time": "2023-05-26T16:54:08.996Z"
   },
   {
    "duration": 20,
    "start_time": "2023-05-26T16:54:09.005Z"
   },
   {
    "duration": 6,
    "start_time": "2023-05-26T16:54:09.027Z"
   },
   {
    "duration": 19,
    "start_time": "2023-05-26T16:54:09.034Z"
   },
   {
    "duration": 8,
    "start_time": "2023-05-26T16:54:09.054Z"
   },
   {
    "duration": 14,
    "start_time": "2023-05-26T16:54:09.064Z"
   },
   {
    "duration": 5,
    "start_time": "2023-05-26T16:54:09.079Z"
   },
   {
    "duration": 12,
    "start_time": "2023-05-26T16:54:09.085Z"
   },
   {
    "duration": 13,
    "start_time": "2023-05-26T16:54:09.108Z"
   },
   {
    "duration": 16,
    "start_time": "2023-05-26T16:54:09.122Z"
   },
   {
    "duration": 35,
    "start_time": "2023-05-26T16:54:09.139Z"
   },
   {
    "duration": 9,
    "start_time": "2023-05-26T16:54:09.175Z"
   },
   {
    "duration": 34,
    "start_time": "2023-05-26T16:54:09.185Z"
   },
   {
    "duration": 6,
    "start_time": "2023-05-26T16:54:09.221Z"
   },
   {
    "duration": 18,
    "start_time": "2023-05-26T16:54:09.229Z"
   },
   {
    "duration": 8,
    "start_time": "2023-05-26T16:54:09.248Z"
   },
   {
    "duration": 15,
    "start_time": "2023-05-26T16:54:09.257Z"
   },
   {
    "duration": 9,
    "start_time": "2023-05-26T16:54:09.273Z"
   },
   {
    "duration": 270,
    "start_time": "2023-05-26T16:54:09.284Z"
   },
   {
    "duration": 5,
    "start_time": "2023-05-26T16:54:09.555Z"
   },
   {
    "duration": 292,
    "start_time": "2023-05-26T16:54:09.561Z"
   },
   {
    "duration": 19,
    "start_time": "2023-05-26T16:54:09.854Z"
   },
   {
    "duration": 282,
    "start_time": "2023-05-26T16:54:09.875Z"
   },
   {
    "duration": 199,
    "start_time": "2023-05-26T16:54:10.159Z"
   },
   {
    "duration": 6,
    "start_time": "2023-05-26T16:54:10.360Z"
   },
   {
    "duration": 347,
    "start_time": "2023-05-26T16:54:10.367Z"
   },
   {
    "duration": 243,
    "start_time": "2023-05-26T16:54:10.716Z"
   },
   {
    "duration": 319,
    "start_time": "2023-05-26T16:54:10.960Z"
   },
   {
    "duration": 11,
    "start_time": "2023-05-26T16:54:11.281Z"
   },
   {
    "duration": 160,
    "start_time": "2023-05-26T16:54:11.293Z"
   },
   {
    "duration": 4,
    "start_time": "2023-05-26T16:54:11.455Z"
   },
   {
    "duration": 219,
    "start_time": "2023-05-26T16:54:11.460Z"
   },
   {
    "duration": 4,
    "start_time": "2023-05-26T16:54:11.681Z"
   },
   {
    "duration": 245,
    "start_time": "2023-05-26T16:54:11.686Z"
   },
   {
    "duration": 182,
    "start_time": "2023-05-26T16:54:11.933Z"
   },
   {
    "duration": 12,
    "start_time": "2023-05-26T16:54:12.120Z"
   },
   {
    "duration": 8,
    "start_time": "2023-05-26T16:54:12.134Z"
   },
   {
    "duration": 40,
    "start_time": "2023-05-26T16:54:12.143Z"
   },
   {
    "duration": 17,
    "start_time": "2023-05-26T16:54:12.206Z"
   },
   {
    "duration": 5,
    "start_time": "2023-05-26T16:54:40.239Z"
   },
   {
    "duration": 4,
    "start_time": "2023-05-26T16:55:07.783Z"
   },
   {
    "duration": 6,
    "start_time": "2023-05-26T16:55:17.845Z"
   },
   {
    "duration": 11,
    "start_time": "2023-05-26T16:55:37.418Z"
   },
   {
    "duration": 23,
    "start_time": "2023-05-26T16:56:13.120Z"
   },
   {
    "duration": 10,
    "start_time": "2023-05-26T17:19:53.132Z"
   },
   {
    "duration": 9,
    "start_time": "2023-05-26T17:20:16.151Z"
   },
   {
    "duration": 7,
    "start_time": "2023-05-26T17:20:24.212Z"
   },
   {
    "duration": 11,
    "start_time": "2023-05-26T17:20:27.719Z"
   },
   {
    "duration": 12,
    "start_time": "2023-05-26T18:06:13.294Z"
   },
   {
    "duration": 1114,
    "start_time": "2023-05-26T18:25:16.747Z"
   },
   {
    "duration": 78,
    "start_time": "2023-05-26T18:25:17.863Z"
   },
   {
    "duration": 12,
    "start_time": "2023-05-26T18:25:17.942Z"
   },
   {
    "duration": 21,
    "start_time": "2023-05-26T18:25:17.955Z"
   },
   {
    "duration": 12,
    "start_time": "2023-05-26T18:25:17.978Z"
   },
   {
    "duration": 8,
    "start_time": "2023-05-26T18:25:17.992Z"
   },
   {
    "duration": 26,
    "start_time": "2023-05-26T18:25:18.002Z"
   },
   {
    "duration": 5,
    "start_time": "2023-05-26T18:25:18.029Z"
   },
   {
    "duration": 26,
    "start_time": "2023-05-26T18:25:18.035Z"
   },
   {
    "duration": 6,
    "start_time": "2023-05-26T18:25:18.062Z"
   },
   {
    "duration": 19,
    "start_time": "2023-05-26T18:25:18.070Z"
   },
   {
    "duration": 3,
    "start_time": "2023-05-26T18:25:18.091Z"
   },
   {
    "duration": 13,
    "start_time": "2023-05-26T18:25:18.096Z"
   },
   {
    "duration": 11,
    "start_time": "2023-05-26T18:25:18.112Z"
   },
   {
    "duration": 20,
    "start_time": "2023-05-26T18:25:18.125Z"
   },
   {
    "duration": 15,
    "start_time": "2023-05-26T18:25:18.147Z"
   },
   {
    "duration": 9,
    "start_time": "2023-05-26T18:25:18.164Z"
   },
   {
    "duration": 52,
    "start_time": "2023-05-26T18:25:18.174Z"
   },
   {
    "duration": 7,
    "start_time": "2023-05-26T18:25:18.227Z"
   },
   {
    "duration": 15,
    "start_time": "2023-05-26T18:25:18.235Z"
   },
   {
    "duration": 5,
    "start_time": "2023-05-26T18:25:18.252Z"
   },
   {
    "duration": 15,
    "start_time": "2023-05-26T18:25:18.258Z"
   },
   {
    "duration": 39,
    "start_time": "2023-05-26T18:25:18.274Z"
   },
   {
    "duration": 306,
    "start_time": "2023-05-26T18:25:18.314Z"
   },
   {
    "duration": 6,
    "start_time": "2023-05-26T18:25:18.622Z"
   },
   {
    "duration": 290,
    "start_time": "2023-05-26T18:25:18.630Z"
   },
   {
    "duration": 13,
    "start_time": "2023-05-26T18:25:18.921Z"
   },
   {
    "duration": 276,
    "start_time": "2023-05-26T18:25:18.936Z"
   },
   {
    "duration": 215,
    "start_time": "2023-05-26T18:25:19.214Z"
   },
   {
    "duration": 6,
    "start_time": "2023-05-26T18:25:19.431Z"
   },
   {
    "duration": 320,
    "start_time": "2023-05-26T18:25:19.439Z"
   },
   {
    "duration": 216,
    "start_time": "2023-05-26T18:25:19.760Z"
   },
   {
    "duration": 332,
    "start_time": "2023-05-26T18:25:19.978Z"
   },
   {
    "duration": 13,
    "start_time": "2023-05-26T18:25:20.312Z"
   },
   {
    "duration": 154,
    "start_time": "2023-05-26T18:25:20.327Z"
   },
   {
    "duration": 5,
    "start_time": "2023-05-26T18:25:20.483Z"
   },
   {
    "duration": 242,
    "start_time": "2023-05-26T18:25:20.490Z"
   },
   {
    "duration": 4,
    "start_time": "2023-05-26T18:25:20.734Z"
   },
   {
    "duration": 266,
    "start_time": "2023-05-26T18:25:20.740Z"
   },
   {
    "duration": 190,
    "start_time": "2023-05-26T18:25:21.008Z"
   },
   {
    "duration": 13,
    "start_time": "2023-05-26T18:25:21.201Z"
   },
   {
    "duration": 24,
    "start_time": "2023-05-26T18:25:21.216Z"
   },
   {
    "duration": 55,
    "start_time": "2023-05-26T18:25:21.241Z"
   },
   {
    "duration": 12,
    "start_time": "2023-05-26T18:25:21.298Z"
   },
   {
    "duration": 1558,
    "start_time": "2023-05-27T14:53:49.925Z"
   },
   {
    "duration": 281,
    "start_time": "2023-05-27T14:53:51.485Z"
   },
   {
    "duration": 18,
    "start_time": "2023-05-27T14:53:51.768Z"
   },
   {
    "duration": 12,
    "start_time": "2023-05-27T14:53:51.790Z"
   },
   {
    "duration": 41,
    "start_time": "2023-05-27T14:53:51.804Z"
   },
   {
    "duration": 13,
    "start_time": "2023-05-27T14:53:51.848Z"
   },
   {
    "duration": 17,
    "start_time": "2023-05-27T14:53:51.864Z"
   },
   {
    "duration": 16,
    "start_time": "2023-05-27T14:53:51.883Z"
   },
   {
    "duration": 14,
    "start_time": "2023-05-27T14:53:51.903Z"
   },
   {
    "duration": 33,
    "start_time": "2023-05-27T14:53:51.928Z"
   },
   {
    "duration": 8,
    "start_time": "2023-05-27T14:53:51.963Z"
   },
   {
    "duration": 39,
    "start_time": "2023-05-27T14:53:51.973Z"
   },
   {
    "duration": 11,
    "start_time": "2023-05-27T14:53:52.018Z"
   },
   {
    "duration": 21,
    "start_time": "2023-05-27T14:53:52.031Z"
   },
   {
    "duration": 27,
    "start_time": "2023-05-27T14:53:52.053Z"
   },
   {
    "duration": 17,
    "start_time": "2023-05-27T14:53:52.082Z"
   },
   {
    "duration": 17,
    "start_time": "2023-05-27T14:53:52.112Z"
   },
   {
    "duration": 21,
    "start_time": "2023-05-27T14:53:52.131Z"
   },
   {
    "duration": 15,
    "start_time": "2023-05-27T14:53:52.154Z"
   },
   {
    "duration": 19,
    "start_time": "2023-05-27T14:53:52.171Z"
   },
   {
    "duration": 56,
    "start_time": "2023-05-27T14:53:52.192Z"
   },
   {
    "duration": 10,
    "start_time": "2023-05-27T14:53:52.251Z"
   },
   {
    "duration": 43,
    "start_time": "2023-05-27T14:53:52.264Z"
   },
   {
    "duration": 7,
    "start_time": "2023-05-27T14:53:52.311Z"
   },
   {
    "duration": 23,
    "start_time": "2023-05-27T14:53:52.320Z"
   },
   {
    "duration": 13,
    "start_time": "2023-05-27T14:53:52.346Z"
   },
   {
    "duration": 355,
    "start_time": "2023-05-27T14:53:52.361Z"
   },
   {
    "duration": 10,
    "start_time": "2023-05-27T14:53:52.721Z"
   },
   {
    "duration": 315,
    "start_time": "2023-05-27T14:53:52.733Z"
   },
   {
    "duration": 20,
    "start_time": "2023-05-27T14:53:53.050Z"
   },
   {
    "duration": 331,
    "start_time": "2023-05-27T14:53:53.077Z"
   },
   {
    "duration": 246,
    "start_time": "2023-05-27T14:53:53.410Z"
   },
   {
    "duration": 7,
    "start_time": "2023-05-27T14:53:53.657Z"
   },
   {
    "duration": 421,
    "start_time": "2023-05-27T14:53:53.666Z"
   },
   {
    "duration": 319,
    "start_time": "2023-05-27T14:53:54.089Z"
   },
   {
    "duration": 338,
    "start_time": "2023-05-27T14:53:54.413Z"
   },
   {
    "duration": 31,
    "start_time": "2023-05-27T14:53:54.754Z"
   },
   {
    "duration": 239,
    "start_time": "2023-05-27T14:53:54.790Z"
   },
   {
    "duration": 6,
    "start_time": "2023-05-27T14:53:55.031Z"
   },
   {
    "duration": 285,
    "start_time": "2023-05-27T14:53:55.038Z"
   },
   {
    "duration": 6,
    "start_time": "2023-05-27T14:53:55.326Z"
   },
   {
    "duration": 280,
    "start_time": "2023-05-27T14:53:55.333Z"
   },
   {
    "duration": 217,
    "start_time": "2023-05-27T14:53:55.615Z"
   },
   {
    "duration": 20,
    "start_time": "2023-05-27T14:53:55.834Z"
   },
   {
    "duration": 27,
    "start_time": "2023-05-27T14:53:55.856Z"
   },
   {
    "duration": 57,
    "start_time": "2023-05-27T14:53:55.886Z"
   },
   {
    "duration": 14,
    "start_time": "2023-05-27T14:53:55.945Z"
   },
   {
    "duration": 1210,
    "start_time": "2023-05-27T15:07:00.043Z"
   },
   {
    "duration": 98,
    "start_time": "2023-05-27T15:07:01.255Z"
   },
   {
    "duration": 12,
    "start_time": "2023-05-27T15:07:01.355Z"
   },
   {
    "duration": 44,
    "start_time": "2023-05-27T15:07:01.369Z"
   },
   {
    "duration": 30,
    "start_time": "2023-05-27T15:07:01.416Z"
   },
   {
    "duration": 32,
    "start_time": "2023-05-27T15:07:01.448Z"
   },
   {
    "duration": 49,
    "start_time": "2023-05-27T15:07:01.484Z"
   },
   {
    "duration": 172,
    "start_time": "2023-05-27T15:07:01.535Z"
   },
   {
    "duration": 0,
    "start_time": "2023-05-27T15:07:01.711Z"
   },
   {
    "duration": 0,
    "start_time": "2023-05-27T15:07:01.712Z"
   },
   {
    "duration": 0,
    "start_time": "2023-05-27T15:07:01.714Z"
   },
   {
    "duration": 0,
    "start_time": "2023-05-27T15:07:01.715Z"
   },
   {
    "duration": 0,
    "start_time": "2023-05-27T15:07:01.716Z"
   },
   {
    "duration": 0,
    "start_time": "2023-05-27T15:07:01.718Z"
   },
   {
    "duration": 0,
    "start_time": "2023-05-27T15:07:01.719Z"
   },
   {
    "duration": 0,
    "start_time": "2023-05-27T15:07:01.720Z"
   },
   {
    "duration": 0,
    "start_time": "2023-05-27T15:07:01.720Z"
   },
   {
    "duration": 0,
    "start_time": "2023-05-27T15:07:01.722Z"
   },
   {
    "duration": 0,
    "start_time": "2023-05-27T15:07:01.723Z"
   },
   {
    "duration": 0,
    "start_time": "2023-05-27T15:07:01.724Z"
   },
   {
    "duration": 0,
    "start_time": "2023-05-27T15:07:01.725Z"
   },
   {
    "duration": 0,
    "start_time": "2023-05-27T15:07:01.726Z"
   },
   {
    "duration": 0,
    "start_time": "2023-05-27T15:07:01.727Z"
   },
   {
    "duration": 0,
    "start_time": "2023-05-27T15:07:01.729Z"
   },
   {
    "duration": 0,
    "start_time": "2023-05-27T15:07:01.730Z"
   },
   {
    "duration": 0,
    "start_time": "2023-05-27T15:07:01.731Z"
   },
   {
    "duration": 0,
    "start_time": "2023-05-27T15:07:01.732Z"
   },
   {
    "duration": 0,
    "start_time": "2023-05-27T15:07:01.733Z"
   },
   {
    "duration": 0,
    "start_time": "2023-05-27T15:07:01.734Z"
   },
   {
    "duration": 0,
    "start_time": "2023-05-27T15:07:01.736Z"
   },
   {
    "duration": 0,
    "start_time": "2023-05-27T15:07:01.737Z"
   },
   {
    "duration": 0,
    "start_time": "2023-05-27T15:07:01.738Z"
   },
   {
    "duration": 0,
    "start_time": "2023-05-27T15:07:01.739Z"
   },
   {
    "duration": 0,
    "start_time": "2023-05-27T15:07:01.798Z"
   },
   {
    "duration": 1230,
    "start_time": "2023-05-27T15:09:20.606Z"
   },
   {
    "duration": 102,
    "start_time": "2023-05-27T15:09:21.838Z"
   },
   {
    "duration": 12,
    "start_time": "2023-05-27T15:09:21.942Z"
   },
   {
    "duration": 35,
    "start_time": "2023-05-27T15:09:21.956Z"
   },
   {
    "duration": 24,
    "start_time": "2023-05-27T15:09:21.996Z"
   },
   {
    "duration": 8,
    "start_time": "2023-05-27T15:09:22.022Z"
   },
   {
    "duration": 16,
    "start_time": "2023-05-27T15:09:22.032Z"
   },
   {
    "duration": 78,
    "start_time": "2023-05-27T15:09:22.051Z"
   },
   {
    "duration": 11,
    "start_time": "2023-05-27T15:09:22.131Z"
   },
   {
    "duration": 44,
    "start_time": "2023-05-27T15:09:22.144Z"
   },
   {
    "duration": 17,
    "start_time": "2023-05-27T15:09:22.196Z"
   },
   {
    "duration": 11,
    "start_time": "2023-05-27T15:09:22.217Z"
   },
   {
    "duration": 12,
    "start_time": "2023-05-27T15:09:22.230Z"
   },
   {
    "duration": 170,
    "start_time": "2023-05-27T15:09:22.244Z"
   },
   {
    "duration": 0,
    "start_time": "2023-05-27T15:09:22.416Z"
   },
   {
    "duration": 1,
    "start_time": "2023-05-27T15:09:22.417Z"
   },
   {
    "duration": 0,
    "start_time": "2023-05-27T15:09:22.419Z"
   },
   {
    "duration": 0,
    "start_time": "2023-05-27T15:09:22.423Z"
   },
   {
    "duration": 0,
    "start_time": "2023-05-27T15:09:22.424Z"
   },
   {
    "duration": 0,
    "start_time": "2023-05-27T15:09:22.425Z"
   },
   {
    "duration": 0,
    "start_time": "2023-05-27T15:09:22.426Z"
   },
   {
    "duration": 0,
    "start_time": "2023-05-27T15:09:22.428Z"
   },
   {
    "duration": 0,
    "start_time": "2023-05-27T15:09:22.430Z"
   },
   {
    "duration": 0,
    "start_time": "2023-05-27T15:09:22.431Z"
   },
   {
    "duration": 0,
    "start_time": "2023-05-27T15:09:22.433Z"
   },
   {
    "duration": 0,
    "start_time": "2023-05-27T15:09:22.434Z"
   },
   {
    "duration": 0,
    "start_time": "2023-05-27T15:09:22.436Z"
   },
   {
    "duration": 1,
    "start_time": "2023-05-27T15:09:22.437Z"
   },
   {
    "duration": 0,
    "start_time": "2023-05-27T15:09:22.439Z"
   },
   {
    "duration": 0,
    "start_time": "2023-05-27T15:09:22.441Z"
   },
   {
    "duration": 0,
    "start_time": "2023-05-27T15:09:22.476Z"
   },
   {
    "duration": 0,
    "start_time": "2023-05-27T15:09:22.477Z"
   },
   {
    "duration": 0,
    "start_time": "2023-05-27T15:09:22.478Z"
   },
   {
    "duration": 0,
    "start_time": "2023-05-27T15:09:22.479Z"
   },
   {
    "duration": 15,
    "start_time": "2023-05-27T15:10:07.556Z"
   },
   {
    "duration": 14,
    "start_time": "2023-05-27T15:10:14.214Z"
   },
   {
    "duration": 1166,
    "start_time": "2023-05-27T15:13:35.214Z"
   },
   {
    "duration": 82,
    "start_time": "2023-05-27T15:13:36.390Z"
   },
   {
    "duration": 22,
    "start_time": "2023-05-27T15:13:36.474Z"
   },
   {
    "duration": 8,
    "start_time": "2023-05-27T15:13:36.501Z"
   },
   {
    "duration": 8,
    "start_time": "2023-05-27T15:13:36.511Z"
   },
   {
    "duration": 7,
    "start_time": "2023-05-27T15:13:36.521Z"
   },
   {
    "duration": 11,
    "start_time": "2023-05-27T15:13:36.529Z"
   },
   {
    "duration": 61,
    "start_time": "2023-05-27T15:13:36.542Z"
   },
   {
    "duration": 8,
    "start_time": "2023-05-27T15:13:36.604Z"
   },
   {
    "duration": 16,
    "start_time": "2023-05-27T15:13:36.615Z"
   },
   {
    "duration": 10,
    "start_time": "2023-05-27T15:13:36.633Z"
   },
   {
    "duration": 14,
    "start_time": "2023-05-27T15:13:36.645Z"
   },
   {
    "duration": 17,
    "start_time": "2023-05-27T15:13:36.679Z"
   },
   {
    "duration": 280,
    "start_time": "2023-05-27T15:13:36.701Z"
   },
   {
    "duration": 8,
    "start_time": "2023-05-27T15:13:36.985Z"
   },
   {
    "duration": 284,
    "start_time": "2023-05-27T15:13:36.999Z"
   },
   {
    "duration": 0,
    "start_time": "2023-05-27T15:13:37.285Z"
   },
   {
    "duration": 0,
    "start_time": "2023-05-27T15:13:37.286Z"
   },
   {
    "duration": 0,
    "start_time": "2023-05-27T15:13:37.287Z"
   },
   {
    "duration": 0,
    "start_time": "2023-05-27T15:13:37.288Z"
   },
   {
    "duration": 0,
    "start_time": "2023-05-27T15:13:37.289Z"
   },
   {
    "duration": 0,
    "start_time": "2023-05-27T15:13:37.290Z"
   },
   {
    "duration": 0,
    "start_time": "2023-05-27T15:13:37.291Z"
   },
   {
    "duration": 0,
    "start_time": "2023-05-27T15:13:37.292Z"
   },
   {
    "duration": 0,
    "start_time": "2023-05-27T15:13:37.293Z"
   },
   {
    "duration": 0,
    "start_time": "2023-05-27T15:13:37.294Z"
   },
   {
    "duration": 0,
    "start_time": "2023-05-27T15:13:37.296Z"
   },
   {
    "duration": 1,
    "start_time": "2023-05-27T15:13:37.296Z"
   },
   {
    "duration": 0,
    "start_time": "2023-05-27T15:13:37.298Z"
   },
   {
    "duration": 0,
    "start_time": "2023-05-27T15:13:37.299Z"
   },
   {
    "duration": 0,
    "start_time": "2023-05-27T15:13:37.300Z"
   },
   {
    "duration": 0,
    "start_time": "2023-05-27T15:13:37.301Z"
   },
   {
    "duration": 0,
    "start_time": "2023-05-27T15:13:37.303Z"
   },
   {
    "duration": 0,
    "start_time": "2023-05-27T15:13:37.304Z"
   },
   {
    "duration": 295,
    "start_time": "2023-05-27T15:14:35.099Z"
   },
   {
    "duration": 23,
    "start_time": "2023-05-27T15:14:42.964Z"
   },
   {
    "duration": 332,
    "start_time": "2023-05-27T15:14:44.763Z"
   },
   {
    "duration": 252,
    "start_time": "2023-05-27T15:14:51.656Z"
   },
   {
    "duration": 6,
    "start_time": "2023-05-27T15:14:55.800Z"
   },
   {
    "duration": 325,
    "start_time": "2023-05-27T15:14:57.345Z"
   },
   {
    "duration": 257,
    "start_time": "2023-05-27T15:15:00.312Z"
   },
   {
    "duration": 386,
    "start_time": "2023-05-27T15:15:03.754Z"
   },
   {
    "duration": 14,
    "start_time": "2023-05-27T15:15:06.145Z"
   },
   {
    "duration": 182,
    "start_time": "2023-05-27T15:15:07.146Z"
   },
   {
    "duration": 5,
    "start_time": "2023-05-27T15:15:09.844Z"
   },
   {
    "duration": 229,
    "start_time": "2023-05-27T15:15:12.522Z"
   },
   {
    "duration": 5,
    "start_time": "2023-05-27T15:15:15.254Z"
   },
   {
    "duration": 288,
    "start_time": "2023-05-27T15:17:01.007Z"
   },
   {
    "duration": 176,
    "start_time": "2023-05-27T15:17:25.747Z"
   },
   {
    "duration": 13,
    "start_time": "2023-05-27T15:17:55.644Z"
   },
   {
    "duration": 11,
    "start_time": "2023-05-27T15:26:41.003Z"
   },
   {
    "duration": 16,
    "start_time": "2023-05-27T15:27:32.103Z"
   },
   {
    "duration": 63,
    "start_time": "2023-05-27T15:27:52.351Z"
   },
   {
    "duration": 31,
    "start_time": "2023-05-27T15:28:02.302Z"
   },
   {
    "duration": 252,
    "start_time": "2023-05-27T15:46:58.306Z"
   },
   {
    "duration": 59,
    "start_time": "2023-05-27T16:10:05.597Z"
   },
   {
    "duration": 1228,
    "start_time": "2023-05-27T16:15:07.477Z"
   },
   {
    "duration": 93,
    "start_time": "2023-05-27T16:15:08.710Z"
   },
   {
    "duration": 15,
    "start_time": "2023-05-27T16:15:08.806Z"
   },
   {
    "duration": 9,
    "start_time": "2023-05-27T16:15:08.823Z"
   },
   {
    "duration": 11,
    "start_time": "2023-05-27T16:15:08.835Z"
   },
   {
    "duration": 9,
    "start_time": "2023-05-27T16:15:08.848Z"
   },
   {
    "duration": 14,
    "start_time": "2023-05-27T16:15:08.859Z"
   },
   {
    "duration": 42,
    "start_time": "2023-05-27T16:15:08.875Z"
   },
   {
    "duration": 10,
    "start_time": "2023-05-27T16:15:08.918Z"
   },
   {
    "duration": 29,
    "start_time": "2023-05-27T16:15:08.929Z"
   },
   {
    "duration": 19,
    "start_time": "2023-05-27T16:15:08.960Z"
   },
   {
    "duration": 23,
    "start_time": "2023-05-27T16:15:08.980Z"
   },
   {
    "duration": 13,
    "start_time": "2023-05-27T16:15:09.005Z"
   },
   {
    "duration": 327,
    "start_time": "2023-05-27T16:15:09.022Z"
   },
   {
    "duration": 5,
    "start_time": "2023-05-27T16:15:09.351Z"
   },
   {
    "duration": 357,
    "start_time": "2023-05-27T16:15:09.357Z"
   },
   {
    "duration": 19,
    "start_time": "2023-05-27T16:15:09.716Z"
   },
   {
    "duration": 334,
    "start_time": "2023-05-27T16:15:09.737Z"
   },
   {
    "duration": 266,
    "start_time": "2023-05-27T16:15:10.073Z"
   },
   {
    "duration": 7,
    "start_time": "2023-05-27T16:15:10.340Z"
   },
   {
    "duration": 371,
    "start_time": "2023-05-27T16:15:10.349Z"
   },
   {
    "duration": 262,
    "start_time": "2023-05-27T16:15:10.723Z"
   },
   {
    "duration": 347,
    "start_time": "2023-05-27T16:15:10.987Z"
   },
   {
    "duration": 12,
    "start_time": "2023-05-27T16:15:11.336Z"
   },
   {
    "duration": 198,
    "start_time": "2023-05-27T16:15:11.350Z"
   },
   {
    "duration": 4,
    "start_time": "2023-05-27T16:15:11.550Z"
   },
   {
    "duration": 284,
    "start_time": "2023-05-27T16:15:11.555Z"
   },
   {
    "duration": 5,
    "start_time": "2023-05-27T16:15:11.840Z"
   },
   {
    "duration": 300,
    "start_time": "2023-05-27T16:15:11.846Z"
   },
   {
    "duration": 194,
    "start_time": "2023-05-27T16:15:12.149Z"
   },
   {
    "duration": 10,
    "start_time": "2023-05-27T16:15:12.345Z"
   },
   {
    "duration": 8,
    "start_time": "2023-05-27T16:15:12.357Z"
   },
   {
    "duration": 56,
    "start_time": "2023-05-27T16:15:12.378Z"
   },
   {
    "duration": 13,
    "start_time": "2023-05-27T16:15:12.436Z"
   },
   {
    "duration": 1060,
    "start_time": "2023-05-28T06:48:43.882Z"
   },
   {
    "duration": 75,
    "start_time": "2023-05-28T06:48:44.945Z"
   },
   {
    "duration": 11,
    "start_time": "2023-05-28T06:48:45.022Z"
   },
   {
    "duration": 27,
    "start_time": "2023-05-28T06:48:45.034Z"
   },
   {
    "duration": 13,
    "start_time": "2023-05-28T06:48:45.064Z"
   },
   {
    "duration": 8,
    "start_time": "2023-05-28T06:48:45.079Z"
   },
   {
    "duration": 15,
    "start_time": "2023-05-28T06:48:45.088Z"
   },
   {
    "duration": 29,
    "start_time": "2023-05-28T06:48:45.104Z"
   },
   {
    "duration": 6,
    "start_time": "2023-05-28T06:48:45.135Z"
   },
   {
    "duration": 19,
    "start_time": "2023-05-28T06:48:45.143Z"
   },
   {
    "duration": 5,
    "start_time": "2023-05-28T06:48:45.163Z"
   },
   {
    "duration": 13,
    "start_time": "2023-05-28T06:48:45.170Z"
   },
   {
    "duration": 15,
    "start_time": "2023-05-28T06:48:45.185Z"
   },
   {
    "duration": 266,
    "start_time": "2023-05-28T06:48:45.226Z"
   },
   {
    "duration": 5,
    "start_time": "2023-05-28T06:48:45.494Z"
   },
   {
    "duration": 292,
    "start_time": "2023-05-28T06:48:45.501Z"
   },
   {
    "duration": 13,
    "start_time": "2023-05-28T06:48:45.794Z"
   },
   {
    "duration": 274,
    "start_time": "2023-05-28T06:48:45.808Z"
   },
   {
    "duration": 212,
    "start_time": "2023-05-28T06:48:46.084Z"
   },
   {
    "duration": 6,
    "start_time": "2023-05-28T06:48:46.298Z"
   },
   {
    "duration": 313,
    "start_time": "2023-05-28T06:48:46.305Z"
   },
   {
    "duration": 209,
    "start_time": "2023-05-28T06:48:46.624Z"
   },
   {
    "duration": 309,
    "start_time": "2023-05-28T06:48:46.834Z"
   },
   {
    "duration": 10,
    "start_time": "2023-05-28T06:48:47.145Z"
   },
   {
    "duration": 161,
    "start_time": "2023-05-28T06:48:47.157Z"
   },
   {
    "duration": 4,
    "start_time": "2023-05-28T06:48:47.324Z"
   },
   {
    "duration": 216,
    "start_time": "2023-05-28T06:48:47.330Z"
   },
   {
    "duration": 4,
    "start_time": "2023-05-28T06:48:47.547Z"
   },
   {
    "duration": 221,
    "start_time": "2023-05-28T06:48:47.553Z"
   },
   {
    "duration": 151,
    "start_time": "2023-05-28T06:48:47.776Z"
   },
   {
    "duration": 11,
    "start_time": "2023-05-28T06:48:47.929Z"
   },
   {
    "duration": 22,
    "start_time": "2023-05-28T06:48:47.942Z"
   },
   {
    "duration": 37,
    "start_time": "2023-05-28T06:48:47.966Z"
   },
   {
    "duration": 23,
    "start_time": "2023-05-28T06:48:48.004Z"
   }
  ],
  "hide_input": false,
  "kernelspec": {
   "display_name": "Python 3 (ipykernel)",
   "language": "python",
   "name": "python3"
  },
  "language_info": {
   "codemirror_mode": {
    "name": "ipython",
    "version": 3
   },
   "file_extension": ".py",
   "mimetype": "text/x-python",
   "name": "python",
   "nbconvert_exporter": "python",
   "pygments_lexer": "ipython3",
   "version": "3.9.5"
  },
  "toc": {
   "base_numbering": 1,
   "nav_menu": {},
   "number_sections": false,
   "sideBar": true,
   "skip_h1_title": false,
   "title_cell": "Table of Contents",
   "title_sidebar": "Contents",
   "toc_cell": false,
   "toc_position": {
    "height": "calc(100% - 180px)",
    "left": "10px",
    "top": "150px",
    "width": "272.266px"
   },
   "toc_section_display": true,
   "toc_window_display": false
  }
 },
 "nbformat": 4,
 "nbformat_minor": 2
}
